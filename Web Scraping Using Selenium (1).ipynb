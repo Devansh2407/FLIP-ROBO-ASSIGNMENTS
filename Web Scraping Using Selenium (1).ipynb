{
 "cells": [
  {
   "cell_type": "markdown",
   "metadata": {},
   "source": [
    "## Q: Write a python program to scrape data for “Data Analyst” Job position in \n",
    "## “Bangalore” location. You have to scrape the job-title, job-location, company_name,\n",
    "## experience_required. You have to scrape first 10 jobs data."
   ]
  },
  {
   "cell_type": "code",
   "execution_count": 280,
   "metadata": {},
   "outputs": [],
   "source": [
    "#Importing necessary libraries\n",
    "import selenium\n",
    "import pandas as pd\n",
    "from selenium import webdriver"
   ]
  },
  {
   "cell_type": "code",
   "execution_count": 81,
   "metadata": {},
   "outputs": [],
   "source": [
    "#Connecting to web driver\n",
    "\n",
    "driver = webdriver.Chrome(\"chromedriver.exe\")"
   ]
  },
  {
   "cell_type": "code",
   "execution_count": 7,
   "metadata": {},
   "outputs": [],
   "source": [
    "url = 'https://www.naukri.com/'\n",
    "driver.get(url)"
   ]
  },
  {
   "cell_type": "code",
   "execution_count": 10,
   "metadata": {},
   "outputs": [
    {
     "data": {
      "text/plain": [
       "<selenium.webdriver.remote.webelement.WebElement (session=\"f6c2ff78870d70a3427e747c28b987af\", element=\"8eebd3fb-846a-488c-a5e3-36e8d436a9b6\")>"
      ]
     },
     "execution_count": 10,
     "metadata": {},
     "output_type": "execute_result"
    }
   ],
   "source": [
    "search_job = driver.find_element_by_id(\"qsb-keyword-sugg\")\n",
    "search_job"
   ]
  },
  {
   "cell_type": "code",
   "execution_count": 11,
   "metadata": {},
   "outputs": [],
   "source": [
    "#Writing on search bar\n",
    "\n",
    "search_job.send_keys(\"Data Analyst\")"
   ]
  },
  {
   "cell_type": "code",
   "execution_count": 12,
   "metadata": {},
   "outputs": [
    {
     "data": {
      "text/plain": [
       "<selenium.webdriver.remote.webelement.WebElement (session=\"f6c2ff78870d70a3427e747c28b987af\", element=\"04c4b9fb-61a6-4a6b-93f4-5ce75c6adbee\")>"
      ]
     },
     "execution_count": 12,
     "metadata": {},
     "output_type": "execute_result"
    }
   ],
   "source": [
    "#Finding Element for Job location bar \n",
    "\n",
    "job_location = driver.find_element_by_id(\"qsb-location-sugg\")\n",
    "\n",
    "job_location"
   ]
  },
  {
   "cell_type": "code",
   "execution_count": 13,
   "metadata": {},
   "outputs": [],
   "source": [
    "job_location.send_keys(\"Bangalore\")"
   ]
  },
  {
   "cell_type": "code",
   "execution_count": 14,
   "metadata": {},
   "outputs": [],
   "source": [
    "search_btn = driver.find_element_by_class_name(\"search-btn\")\n",
    "search_btn.click()"
   ]
  },
  {
   "cell_type": "code",
   "execution_count": 20,
   "metadata": {},
   "outputs": [
    {
     "data": {
      "text/plain": [
       "[<selenium.webdriver.remote.webelement.WebElement (session=\"f6c2ff78870d70a3427e747c28b987af\", element=\"b8fa83be-3774-4daf-87dd-bb77846deb93\")>,\n",
       " <selenium.webdriver.remote.webelement.WebElement (session=\"f6c2ff78870d70a3427e747c28b987af\", element=\"64f8d9ed-1745-4bba-95ac-9f656ef7d8d1\")>,\n",
       " <selenium.webdriver.remote.webelement.WebElement (session=\"f6c2ff78870d70a3427e747c28b987af\", element=\"8ae577b8-b61c-4cd2-98dd-a26f98fcd0c7\")>,\n",
       " <selenium.webdriver.remote.webelement.WebElement (session=\"f6c2ff78870d70a3427e747c28b987af\", element=\"c299ba65-202c-4359-8476-c048e7b48868\")>,\n",
       " <selenium.webdriver.remote.webelement.WebElement (session=\"f6c2ff78870d70a3427e747c28b987af\", element=\"1e29f0ba-00b7-4262-b661-75f84ae51091\")>,\n",
       " <selenium.webdriver.remote.webelement.WebElement (session=\"f6c2ff78870d70a3427e747c28b987af\", element=\"856c3d42-2c99-43ff-bcd0-f80ef2f8de0d\")>,\n",
       " <selenium.webdriver.remote.webelement.WebElement (session=\"f6c2ff78870d70a3427e747c28b987af\", element=\"1c1dfe76-7153-42e1-9e28-f25c9a0de08e\")>,\n",
       " <selenium.webdriver.remote.webelement.WebElement (session=\"f6c2ff78870d70a3427e747c28b987af\", element=\"acba7f63-dacc-4f8c-a7d7-cf09e3e51e25\")>,\n",
       " <selenium.webdriver.remote.webelement.WebElement (session=\"f6c2ff78870d70a3427e747c28b987af\", element=\"dd654215-e1bd-46f6-8946-0c1cf4723958\")>,\n",
       " <selenium.webdriver.remote.webelement.WebElement (session=\"f6c2ff78870d70a3427e747c28b987af\", element=\"52f14c92-b68e-4a08-881a-0ba365f9939e\")>,\n",
       " <selenium.webdriver.remote.webelement.WebElement (session=\"f6c2ff78870d70a3427e747c28b987af\", element=\"78bf5fd9-313e-4231-8e40-6987975a4a1d\")>,\n",
       " <selenium.webdriver.remote.webelement.WebElement (session=\"f6c2ff78870d70a3427e747c28b987af\", element=\"48ec009b-7c21-4fef-80e9-4e5f73ac9aa7\")>,\n",
       " <selenium.webdriver.remote.webelement.WebElement (session=\"f6c2ff78870d70a3427e747c28b987af\", element=\"c6c253f9-bd18-4df8-b3c9-f5530360b3e0\")>,\n",
       " <selenium.webdriver.remote.webelement.WebElement (session=\"f6c2ff78870d70a3427e747c28b987af\", element=\"4cdea984-0910-47ab-a13d-54a97cec8067\")>,\n",
       " <selenium.webdriver.remote.webelement.WebElement (session=\"f6c2ff78870d70a3427e747c28b987af\", element=\"41d71e62-3e92-4ca2-9c96-6fe751e4605e\")>,\n",
       " <selenium.webdriver.remote.webelement.WebElement (session=\"f6c2ff78870d70a3427e747c28b987af\", element=\"6358f26d-fb71-4ad4-89c0-3869a09a42b4\")>,\n",
       " <selenium.webdriver.remote.webelement.WebElement (session=\"f6c2ff78870d70a3427e747c28b987af\", element=\"67343648-9243-4319-a92b-436e564a5384\")>,\n",
       " <selenium.webdriver.remote.webelement.WebElement (session=\"f6c2ff78870d70a3427e747c28b987af\", element=\"07b94da6-5ff9-4fa3-a8dc-77efef4f0ea7\")>,\n",
       " <selenium.webdriver.remote.webelement.WebElement (session=\"f6c2ff78870d70a3427e747c28b987af\", element=\"5097cdc6-40ad-4abc-bf37-f4a926f012dd\")>,\n",
       " <selenium.webdriver.remote.webelement.WebElement (session=\"f6c2ff78870d70a3427e747c28b987af\", element=\"e8d989fc-bd34-490b-8ac2-7e5aa97662db\")>]"
      ]
     },
     "execution_count": 20,
     "metadata": {},
     "output_type": "execute_result"
    }
   ],
   "source": [
    "#Extracting all tags with job titles\n",
    "\n",
    "title = driver.find_elements_by_xpath(\"//a[@class='title fw500 ellipsis']\")\n",
    "title"
   ]
  },
  {
   "cell_type": "code",
   "execution_count": 28,
   "metadata": {},
   "outputs": [
    {
     "data": {
      "text/plain": [
       "['Data Scientist / Data Analyst -Business Analyst',\n",
       " 'Consultant - Data Analyst',\n",
       " 'Assistant Vice President - MIS & Reporting ( Business Data Analyst)',\n",
       " 'Network Design & Data Analyst',\n",
       " 'Business Data Analyst - MIS & Reporting',\n",
       " 'Excel VBA Jobs Bangalore | VBA data analyst Jobs',\n",
       " 'Software Developer / Web Developer/data analyst',\n",
       " 'Data Analyst – Financial, Healthcare, Sports Betting',\n",
       " 'FTE - Regional BI - Functional Data Analyst',\n",
       " 'Deputy Manager - Data Analyst']"
      ]
     },
     "execution_count": 28,
     "metadata": {},
     "output_type": "execute_result"
    }
   ],
   "source": [
    "job_title = []\n",
    "\n",
    "for i in title:\n",
    "    job_title.append(i.text)\n",
    "    \n",
    "job_title[:10]"
   ]
  },
  {
   "cell_type": "code",
   "execution_count": 29,
   "metadata": {},
   "outputs": [
    {
     "data": {
      "text/plain": [
       "['Inflexion Analytix Private Limited',\n",
       " 'Flipkart Internet Private Limited',\n",
       " 'INTERTRUSTVITEOS CORPORATE AND FUND SERVICES PVT. LTD.',\n",
       " 'Dell International Services India Private Limited',\n",
       " 'INTERTRUST GROUP',\n",
       " 'Mind Circus Innovation',\n",
       " 'Edubridgeindia',\n",
       " 'Quantsys',\n",
       " 'Schneider Electric India Pvt. Ltd.',\n",
       " 'Schneider Electric India Pvt. Ltd.']"
      ]
     },
     "execution_count": 29,
     "metadata": {},
     "output_type": "execute_result"
    }
   ],
   "source": [
    "#Extracting_company_Name\n",
    "\n",
    "company = driver.find_elements_by_xpath(\"//a[@class='subTitle ellipsis fleft']\")\n",
    "\n",
    "company_name=[]\n",
    "\n",
    "for i in company:\n",
    "    company_name.append(i.text)\n",
    "company_name[:10]"
   ]
  },
  {
   "cell_type": "code",
   "execution_count": 30,
   "metadata": {},
   "outputs": [
    {
     "data": {
      "text/plain": [
       "['Hyderabad/Secunderabad, Chennai, Bangalore/Bengaluru',\n",
       " 'Bangalore/Bengaluru',\n",
       " 'Mumbai, Bangalore/Bengaluru',\n",
       " 'Bangalore/Bengaluru',\n",
       " 'Mumbai, Bangalore/Bengaluru',\n",
       " 'Coimbatore, Bangalore/Bengaluru, Trivandrum/Thiruvananthapuram',\n",
       " 'Hyderabad/Secunderabad, Bangalore/Bengaluru',\n",
       " 'Pune, Chennai, Bangalore/Bengaluru',\n",
       " 'Davangere, Bangalore/Bengaluru',\n",
       " 'Davangere, Bangalore/Bengaluru']"
      ]
     },
     "execution_count": 30,
     "metadata": {},
     "output_type": "execute_result"
    }
   ],
   "source": [
    "#Similarly for job location\n",
    "\n",
    "location =  driver.find_elements_by_xpath(\"//li[@class='fleft grey-text br2 placeHolderLi location']//span\")\n",
    "\n",
    "job_location = []\n",
    "\n",
    "for i in location:\n",
    "    job_location.append(i.text)\n",
    "    \n",
    "job_location[:10]"
   ]
  },
  {
   "cell_type": "code",
   "execution_count": 31,
   "metadata": {},
   "outputs": [
    {
     "data": {
      "text/plain": [
       "['0-3 Yrs',\n",
       " '0-2 Yrs',\n",
       " '10-15 Yrs',\n",
       " '0-2 Yrs',\n",
       " '3-8 Yrs',\n",
       " '0-2 Yrs',\n",
       " '0-1 Yrs',\n",
       " '2-4 Yrs',\n",
       " '5-8 Yrs',\n",
       " '3-6 Yrs']"
      ]
     },
     "execution_count": 31,
     "metadata": {},
     "output_type": "execute_result"
    }
   ],
   "source": [
    "#Experience\n",
    "\n",
    "exp = driver.find_elements_by_xpath(\"//li[@class='fleft grey-text br2 placeHolderLi experience']//span\")\n",
    "\n",
    "experience = []\n",
    "\n",
    "for i in exp:\n",
    "    experience.append(i.text)\n",
    "    \n",
    "experience[:10]"
   ]
  },
  {
   "cell_type": "code",
   "execution_count": 33,
   "metadata": {},
   "outputs": [
    {
     "data": {
      "text/html": [
       "<div>\n",
       "<style scoped>\n",
       "    .dataframe tbody tr th:only-of-type {\n",
       "        vertical-align: middle;\n",
       "    }\n",
       "\n",
       "    .dataframe tbody tr th {\n",
       "        vertical-align: top;\n",
       "    }\n",
       "\n",
       "    .dataframe thead th {\n",
       "        text-align: right;\n",
       "    }\n",
       "</style>\n",
       "<table border=\"1\" class=\"dataframe\">\n",
       "  <thead>\n",
       "    <tr style=\"text-align: right;\">\n",
       "      <th></th>\n",
       "      <th>Job Title</th>\n",
       "      <th>Company Name</th>\n",
       "      <th>Location</th>\n",
       "      <th>Experience</th>\n",
       "    </tr>\n",
       "  </thead>\n",
       "  <tbody>\n",
       "    <tr>\n",
       "      <th>0</th>\n",
       "      <td>Data Scientist / Data Analyst -Business Analyst</td>\n",
       "      <td>Inflexion Analytix Private Limited</td>\n",
       "      <td>Hyderabad/Secunderabad, Chennai, Bangalore/Ben...</td>\n",
       "      <td>0-3 Yrs</td>\n",
       "    </tr>\n",
       "    <tr>\n",
       "      <th>1</th>\n",
       "      <td>Consultant - Data Analyst</td>\n",
       "      <td>Flipkart Internet Private Limited</td>\n",
       "      <td>Bangalore/Bengaluru</td>\n",
       "      <td>0-2 Yrs</td>\n",
       "    </tr>\n",
       "    <tr>\n",
       "      <th>2</th>\n",
       "      <td>Assistant Vice President - MIS &amp; Reporting ( B...</td>\n",
       "      <td>INTERTRUSTVITEOS CORPORATE AND FUND SERVICES P...</td>\n",
       "      <td>Mumbai, Bangalore/Bengaluru</td>\n",
       "      <td>10-15 Yrs</td>\n",
       "    </tr>\n",
       "    <tr>\n",
       "      <th>3</th>\n",
       "      <td>Network Design &amp; Data Analyst</td>\n",
       "      <td>Dell International Services India Private Limited</td>\n",
       "      <td>Bangalore/Bengaluru</td>\n",
       "      <td>0-2 Yrs</td>\n",
       "    </tr>\n",
       "    <tr>\n",
       "      <th>4</th>\n",
       "      <td>Business Data Analyst - MIS &amp; Reporting</td>\n",
       "      <td>INTERTRUST GROUP</td>\n",
       "      <td>Mumbai, Bangalore/Bengaluru</td>\n",
       "      <td>3-8 Yrs</td>\n",
       "    </tr>\n",
       "    <tr>\n",
       "      <th>5</th>\n",
       "      <td>Excel VBA Jobs Bangalore | VBA data analyst Jobs</td>\n",
       "      <td>Mind Circus Innovation</td>\n",
       "      <td>Coimbatore, Bangalore/Bengaluru, Trivandrum/Th...</td>\n",
       "      <td>0-2 Yrs</td>\n",
       "    </tr>\n",
       "    <tr>\n",
       "      <th>6</th>\n",
       "      <td>Software Developer / Web Developer/data analyst</td>\n",
       "      <td>Edubridgeindia</td>\n",
       "      <td>Hyderabad/Secunderabad, Bangalore/Bengaluru</td>\n",
       "      <td>0-1 Yrs</td>\n",
       "    </tr>\n",
       "    <tr>\n",
       "      <th>7</th>\n",
       "      <td>Data Analyst – Financial, Healthcare, Sports B...</td>\n",
       "      <td>Quantsys</td>\n",
       "      <td>Pune, Chennai, Bangalore/Bengaluru</td>\n",
       "      <td>2-4 Yrs</td>\n",
       "    </tr>\n",
       "    <tr>\n",
       "      <th>8</th>\n",
       "      <td>FTE - Regional BI - Functional Data Analyst</td>\n",
       "      <td>Schneider Electric India Pvt. Ltd.</td>\n",
       "      <td>Davangere, Bangalore/Bengaluru</td>\n",
       "      <td>5-8 Yrs</td>\n",
       "    </tr>\n",
       "    <tr>\n",
       "      <th>9</th>\n",
       "      <td>Deputy Manager - Data Analyst</td>\n",
       "      <td>Schneider Electric India Pvt. Ltd.</td>\n",
       "      <td>Davangere, Bangalore/Bengaluru</td>\n",
       "      <td>3-6 Yrs</td>\n",
       "    </tr>\n",
       "  </tbody>\n",
       "</table>\n",
       "</div>"
      ],
      "text/plain": [
       "                                           Job Title  \\\n",
       "0    Data Scientist / Data Analyst -Business Analyst   \n",
       "1                          Consultant - Data Analyst   \n",
       "2  Assistant Vice President - MIS & Reporting ( B...   \n",
       "3                      Network Design & Data Analyst   \n",
       "4            Business Data Analyst - MIS & Reporting   \n",
       "5   Excel VBA Jobs Bangalore | VBA data analyst Jobs   \n",
       "6    Software Developer / Web Developer/data analyst   \n",
       "7  Data Analyst – Financial, Healthcare, Sports B...   \n",
       "8        FTE - Regional BI - Functional Data Analyst   \n",
       "9                      Deputy Manager - Data Analyst   \n",
       "\n",
       "                                        Company Name  \\\n",
       "0                 Inflexion Analytix Private Limited   \n",
       "1                  Flipkart Internet Private Limited   \n",
       "2  INTERTRUSTVITEOS CORPORATE AND FUND SERVICES P...   \n",
       "3  Dell International Services India Private Limited   \n",
       "4                                   INTERTRUST GROUP   \n",
       "5                             Mind Circus Innovation   \n",
       "6                                     Edubridgeindia   \n",
       "7                                           Quantsys   \n",
       "8                 Schneider Electric India Pvt. Ltd.   \n",
       "9                 Schneider Electric India Pvt. Ltd.   \n",
       "\n",
       "                                            Location Experience  \n",
       "0  Hyderabad/Secunderabad, Chennai, Bangalore/Ben...    0-3 Yrs  \n",
       "1                                Bangalore/Bengaluru    0-2 Yrs  \n",
       "2                        Mumbai, Bangalore/Bengaluru  10-15 Yrs  \n",
       "3                                Bangalore/Bengaluru    0-2 Yrs  \n",
       "4                        Mumbai, Bangalore/Bengaluru    3-8 Yrs  \n",
       "5  Coimbatore, Bangalore/Bengaluru, Trivandrum/Th...    0-2 Yrs  \n",
       "6        Hyderabad/Secunderabad, Bangalore/Bengaluru    0-1 Yrs  \n",
       "7                 Pune, Chennai, Bangalore/Bengaluru    2-4 Yrs  \n",
       "8                     Davangere, Bangalore/Bengaluru    5-8 Yrs  \n",
       "9                     Davangere, Bangalore/Bengaluru    3-6 Yrs  "
      ]
     },
     "execution_count": 33,
     "metadata": {},
     "output_type": "execute_result"
    }
   ],
   "source": [
    "#Creating DataFrame\n",
    "\n",
    "df = pd.DataFrame({})\n",
    "df['Job Title']=job_title\n",
    "df['Company Name']=company_name\n",
    "df['Location']=job_location\n",
    "df['Experience']=experience\n",
    "df[:10]"
   ]
  },
  {
   "cell_type": "markdown",
   "metadata": {},
   "source": [
    "## Q. Write a python program to scrape data for “Data Scientist” Job position in \n",
    "## “Bangalore” location. You have to scrape the job-title, job-location,\n",
    "## company_name, full job-description. You have to scrape first 10 jobs data."
   ]
  },
  {
   "cell_type": "code",
   "execution_count": 87,
   "metadata": {},
   "outputs": [],
   "source": [
    "#Connecting to web driver\n",
    "\n",
    "driver = webdriver.Chrome(\"chromedriver.exe\")"
   ]
  },
  {
   "cell_type": "code",
   "execution_count": 62,
   "metadata": {},
   "outputs": [],
   "source": [
    "url = 'https://www.naukri.com/'\n",
    "driver.get(url)"
   ]
  },
  {
   "cell_type": "code",
   "execution_count": 63,
   "metadata": {},
   "outputs": [
    {
     "data": {
      "text/plain": [
       "<selenium.webdriver.remote.webelement.WebElement (session=\"0cbeae3f9473c031097af813ca0d7a99\", element=\"49aae7db-83ef-4795-9729-8c90f391a457\")>"
      ]
     },
     "execution_count": 63,
     "metadata": {},
     "output_type": "execute_result"
    }
   ],
   "source": [
    "search_job = driver.find_element_by_id(\"qsb-keyword-sugg\")\n",
    "search_job"
   ]
  },
  {
   "cell_type": "code",
   "execution_count": 64,
   "metadata": {},
   "outputs": [],
   "source": [
    "search_job.send_keys(\"Data Scientist\")"
   ]
  },
  {
   "cell_type": "code",
   "execution_count": 65,
   "metadata": {},
   "outputs": [
    {
     "data": {
      "text/plain": [
       "<selenium.webdriver.remote.webelement.WebElement (session=\"0cbeae3f9473c031097af813ca0d7a99\", element=\"44614d4b-11e6-4a9e-9142-b5e15437285a\")>"
      ]
     },
     "execution_count": 65,
     "metadata": {},
     "output_type": "execute_result"
    }
   ],
   "source": [
    "job_location = driver.find_element_by_id(\"qsb-location-sugg\")\n",
    "\n",
    "job_location"
   ]
  },
  {
   "cell_type": "code",
   "execution_count": 66,
   "metadata": {},
   "outputs": [],
   "source": [
    "job_location.send_keys(\"Bangalore\")"
   ]
  },
  {
   "cell_type": "code",
   "execution_count": 67,
   "metadata": {},
   "outputs": [],
   "source": [
    "search_btn = driver.find_element_by_class_name(\"search-btn\")\n",
    "search_btn.click()"
   ]
  },
  {
   "cell_type": "code",
   "execution_count": 68,
   "metadata": {},
   "outputs": [
    {
     "data": {
      "text/plain": [
       "['Bangalore/Bengaluru',\n",
       " 'Bangalore/Bengaluru',\n",
       " 'Bangalore/Bengaluru',\n",
       " 'Hyderabad/Secunderabad, Chennai, Bangalore/Bengaluru',\n",
       " 'Bangalore/Bengaluru',\n",
       " 'Bangalore/Bengaluru',\n",
       " 'Hyderabad/Secunderabad, Gurgaon/Gurugram, Bangalore/Bengaluru',\n",
       " 'Pune, Chennai, Bangalore/Bengaluru, Delhi / NCR',\n",
       " 'Bangalore/Bengaluru',\n",
       " 'Pune, Chennai, Bangalore/Bengaluru',\n",
       " 'Bangalore/Bengaluru',\n",
       " 'Bangalore/Bengaluru',\n",
       " 'Bangalore/Bengaluru, Mumbai (All Areas)',\n",
       " 'Bangalore/Bengaluru',\n",
       " 'Bangalore/Bengaluru',\n",
       " 'Bangalore/Bengaluru',\n",
       " 'Bangalore/Bengaluru(5th block Koramangala)',\n",
       " 'Bangalore/Bengaluru',\n",
       " 'Bangalore/Bengaluru',\n",
       " 'Bangalore/Bengaluru']"
      ]
     },
     "execution_count": 68,
     "metadata": {},
     "output_type": "execute_result"
    }
   ],
   "source": [
    "# for job location\n",
    "\n",
    "loc =  driver.find_elements_by_xpath(\"//li[@class='fleft grey-text br2 placeHolderLi location']//span\")\n",
    "\n",
    "job_loc = []\n",
    "\n",
    "for i in loc:\n",
    "    job_loc.append(i.text)\n",
    "    \n",
    "job_loc"
   ]
  },
  {
   "cell_type": "code",
   "execution_count": 70,
   "metadata": {},
   "outputs": [
    {
     "data": {
      "text/plain": [
       "['Flipkart Internet Private Limited',\n",
       " 'Flipkart Internet Private Limited',\n",
       " 'bd',\n",
       " 'Inflexion Analytix Private Limited',\n",
       " 'IBM India Pvt. Limited',\n",
       " 'IBM India Pvt. Limited',\n",
       " 'inVentiv International Pharma Services Pvt. Ltd.',\n",
       " 'EXL Service',\n",
       " 'Applied Materials',\n",
       " 'Exploro Solutions',\n",
       " 'Center for Study of Science, Technology and Policy',\n",
       " 'NatWest Markets',\n",
       " 'Vision Beyond Resources India Private Limited',\n",
       " 'Gojek Tech',\n",
       " 'GO-JEK India',\n",
       " 'Blue Ocean Catalyst Private Limited',\n",
       " 'TYA Business Solutions Private Limited',\n",
       " 'DeliverHealth Solutions',\n",
       " 'IBM India Pvt. Limited',\n",
       " 'IBM India Pvt. Limited']"
      ]
     },
     "execution_count": 70,
     "metadata": {},
     "output_type": "execute_result"
    }
   ],
   "source": [
    "#Extracting_company_Name\n",
    "\n",
    "company = driver.find_elements_by_xpath(\"//a[@class='subTitle ellipsis fleft']\")\n",
    "\n",
    "company_name=[]\n",
    "\n",
    "for i in company:\n",
    "    company_name.append(i.text)\n",
    "company_name"
   ]
  },
  {
   "cell_type": "code",
   "execution_count": 71,
   "metadata": {},
   "outputs": [
    {
     "data": {
      "text/plain": [
       "['Data Scientist',\n",
       " 'Senior Data Scientist',\n",
       " 'Lead Data Scientist',\n",
       " 'Data Scientist / Data Analyst -Business Analyst',\n",
       " 'Data Scientist: Advanced Analytics',\n",
       " 'Data Scientist',\n",
       " 'Senior Data Scientist',\n",
       " 'EXL - Senior Data Scientist, 5+ yrs, Mumbai / PUNE / BLR / Chennai',\n",
       " 'Data Scientist',\n",
       " 'Senior Data Scientist/ Tech Lead - SQL/ Python/ Big Data',\n",
       " 'Data Scientist',\n",
       " 'Data Scientist',\n",
       " 'Data Scientist',\n",
       " 'Data Scientist 2',\n",
       " 'Data Scientist 2',\n",
       " 'Data Scientist',\n",
       " 'Hiring Data Scientist',\n",
       " 'DHS _ Hiring For Data Scientist - India',\n",
       " 'Data Scientist: Artificial Intelligence',\n",
       " 'Data Scientist']"
      ]
     },
     "execution_count": 71,
     "metadata": {},
     "output_type": "execute_result"
    }
   ],
   "source": [
    "title = driver.find_elements_by_xpath(\"//a[@class='title fw500 ellipsis']\")\n",
    "\n",
    "job_title = []\n",
    "\n",
    "for i in title:\n",
    "    job_title.append(i.text)\n",
    "    \n",
    "job_title"
   ]
  },
  {
   "cell_type": "code",
   "execution_count": 72,
   "metadata": {},
   "outputs": [
    {
     "data": {
      "text/plain": [
       "['https://www.naukri.com/job-listings-data-scientist-flipkart-internet-private-limited-bangalore-bengaluru-0-to-5-years-080721904425?src=jobsearchDesk&sid=16259114239126627&xp=1&px=1',\n",
       " 'https://www.naukri.com/job-listings-senior-data-scientist-flipkart-internet-private-limited-bangalore-bengaluru-5-to-10-years-090721908235?src=jobsearchDesk&sid=16259114239126627&xp=2&px=1',\n",
       " 'https://www.naukri.com/job-listings-lead-data-scientist-bd-bangalore-bengaluru-2-to-7-years-090721501722?src=jobsearchDesk&sid=16259114239126627&xp=3&px=1',\n",
       " 'https://www.naukri.com/job-listings-data-scientist-data-analyst-business-analyst-inflexion-analytix-private-limited-hyderabad-secunderabad-chennai-bangalore-bengaluru-0-to-3-years-020721003625?src=jobsearchDesk&sid=16259114239126627&xp=4&px=1',\n",
       " 'https://www.naukri.com/job-listings-data-scientist-advanced-analytics-ibm-india-pvt-limited-bangalore-bengaluru-5-to-10-years-090721906161?src=jobsearchDesk&sid=16259114239126627&xp=5&px=1',\n",
       " 'https://www.naukri.com/job-listings-data-scientist-ibm-india-pvt-limited-bangalore-bengaluru-3-to-6-years-080721906014?src=jobsearchDesk&sid=16259114239126627&xp=6&px=1',\n",
       " 'https://www.naukri.com/job-listings-senior-data-scientist-inventiv-international-pharma-services-pvt-ltd-hyderabad-secunderabad-gurgaon-gurugram-bangalore-bengaluru-3-to-6-years-090721000064?src=jobsearchDesk&sid=16259114239126627&xp=7&px=1',\n",
       " 'https://www.naukri.com/job-listings-exl-senior-data-scientist-5-yrs-mumbai-pune-blr-chennai-exl-service-pune-chennai-bangalore-bengaluru-delhi-ncr-5-to-10-years-080721005255?src=jobsearchDesk&sid=16259114239126627&xp=8&px=1',\n",
       " 'https://www.naukri.com/job-listings-data-scientist-applied-materials-india-private-limited-bangalore-bengaluru-5-to-10-years-090721902434?src=jobsearchDesk&sid=16259114239126627&xp=9&px=1',\n",
       " 'https://www.naukri.com/job-listings-senior-data-scientist-tech-lead-sql-python-big-data-exploro-solutions-pune-chennai-bangalore-bengaluru-5-to-10-years-080721908426?src=jobsearchDesk&sid=16259114239126627&xp=10&px=1',\n",
       " 'https://www.naukri.com/job-listings-data-scientist-center-for-study-of-science-technology-and-policy-bangalore-bengaluru-2-to-4-years-080721501346?src=jobsearchDesk&sid=16259114239126627&xp=11&px=1',\n",
       " 'https://www.naukri.com/job-listings-data-scientist-natwest-markets-bangalore-bengaluru-3-to-6-years-090721501813?src=jobsearchDesk&sid=16259114239126627&xp=12&px=1',\n",
       " 'https://www.naukri.com/job-listings-data-scientist-vision-beyond-resources-india-private-limited-bangalore-bengaluru-mumbai-all-areas-10-to-19-years-080721006482?src=jobsearchDesk&sid=16259114239126627&xp=13&px=1',\n",
       " 'https://www.naukri.com/job-listings-data-scientist-2-gojek-tech-bangalore-bengaluru-4-to-8-years-090721501896?src=jobsearchDesk&sid=16259114239126627&xp=14&px=1',\n",
       " 'https://www.naukri.com/job-listings-data-scientist-2-go-jek-india-bangalore-bengaluru-6-to-11-years-090721501884?src=jobsearchDesk&sid=16259114239126627&xp=15&px=1',\n",
       " 'https://www.naukri.com/job-listings-data-scientist-blue-ocean-catalyst-private-limited-bangalore-bengaluru-2-to-6-years-080721500490?src=jobsearchDesk&sid=16259114239126627&xp=16&px=1',\n",
       " 'https://www.naukri.com/job-listings-hiring-data-scientist-tya-business-solutions-private-limited-bangalore-bengaluru-4-to-6-years-090721002695?src=jobsearchDesk&sid=16259114239126627&xp=17&px=1',\n",
       " 'https://www.naukri.com/job-listings-dhs-hiring-for-data-scientist-india-deliverhealth-solutions-bangalore-bengaluru-1-to-6-years-080721003439?src=jobsearchDesk&sid=16259114239126627&xp=18&px=1',\n",
       " 'https://www.naukri.com/job-listings-data-scientist-artificial-intelligence-ibm-india-pvt-limited-bangalore-bengaluru-4-to-8-years-080721906686?src=jobsearchDesk&sid=16259114239126627&xp=19&px=1',\n",
       " 'https://www.naukri.com/job-listings-data-scientist-ibm-india-pvt-limited-bangalore-bengaluru-6-to-10-years-090721905332?src=jobsearchDesk&sid=16259114239126627&xp=20&px=1']"
      ]
     },
     "execution_count": 72,
     "metadata": {},
     "output_type": "execute_result"
    }
   ],
   "source": [
    "#To fetch Job Description\n",
    "\n",
    "urls = []\n",
    "\n",
    "for i in driver.find_elements_by_xpath(\"//a[@class='title fw500 ellipsis']\"):\n",
    "    urls.append(i.get_attribute(\"href\"))\n",
    "urls"
   ]
  },
  {
   "cell_type": "code",
   "execution_count": 73,
   "metadata": {},
   "outputs": [],
   "source": [
    "import time \n",
    "from selenium.common.exceptions import NoSuchElementException"
   ]
  },
  {
   "cell_type": "code",
   "execution_count": 75,
   "metadata": {},
   "outputs": [],
   "source": [
    "#Defining Variables\n",
    "\n",
    "job_description =[]\n",
    "\n",
    "for i in urls:\n",
    "    driver.get(i)\n",
    "    time.sleep(3)\n",
    "        \n",
    "    try:\n",
    "        job_d = driver.find_element_by_xpath(\"//div[@class='dang-inner-html']\")\n",
    "        job_description.append(job_d.text)\n",
    "        \n",
    "    except:\n",
    "        \n",
    "        job_description.append('-')\n",
    "  "
   ]
  },
  {
   "cell_type": "code",
   "execution_count": 79,
   "metadata": {},
   "outputs": [
    {
     "name": "stdout",
     "output_type": "stream",
     "text": [
      "20 20 20 20\n"
     ]
    }
   ],
   "source": [
    "print(len(job_description),len(job_title),len(company_name),len(job_loc))"
   ]
  },
  {
   "cell_type": "code",
   "execution_count": 78,
   "metadata": {},
   "outputs": [
    {
     "data": {
      "text/html": [
       "<div>\n",
       "<style scoped>\n",
       "    .dataframe tbody tr th:only-of-type {\n",
       "        vertical-align: middle;\n",
       "    }\n",
       "\n",
       "    .dataframe tbody tr th {\n",
       "        vertical-align: top;\n",
       "    }\n",
       "\n",
       "    .dataframe thead th {\n",
       "        text-align: right;\n",
       "    }\n",
       "</style>\n",
       "<table border=\"1\" class=\"dataframe\">\n",
       "  <thead>\n",
       "    <tr style=\"text-align: right;\">\n",
       "      <th></th>\n",
       "      <th>Job Title</th>\n",
       "      <th>Company Name</th>\n",
       "      <th>Location</th>\n",
       "      <th>Job Description</th>\n",
       "    </tr>\n",
       "  </thead>\n",
       "  <tbody>\n",
       "    <tr>\n",
       "      <th>0</th>\n",
       "      <td>Data Scientist</td>\n",
       "      <td>Flipkart Internet Private Limited</td>\n",
       "      <td>Bangalore/Bengaluru</td>\n",
       "      <td>About the team\\nThe Data Sciences team at Flip...</td>\n",
       "    </tr>\n",
       "    <tr>\n",
       "      <th>1</th>\n",
       "      <td>Senior Data Scientist</td>\n",
       "      <td>Flipkart Internet Private Limited</td>\n",
       "      <td>Bangalore/Bengaluru</td>\n",
       "      <td>About the role\\nA Senior Data Scientist in Fli...</td>\n",
       "    </tr>\n",
       "    <tr>\n",
       "      <th>2</th>\n",
       "      <td>Lead Data Scientist</td>\n",
       "      <td>bd</td>\n",
       "      <td>Bangalore/Bengaluru</td>\n",
       "      <td>Evaluating business requirements and developin...</td>\n",
       "    </tr>\n",
       "    <tr>\n",
       "      <th>3</th>\n",
       "      <td>Data Scientist / Data Analyst -Business Analyst</td>\n",
       "      <td>Inflexion Analytix Private Limited</td>\n",
       "      <td>Hyderabad/Secunderabad, Chennai, Bangalore/Ben...</td>\n",
       "      <td>Job description\\n\\nJob Role: Data Scientist/Da...</td>\n",
       "    </tr>\n",
       "    <tr>\n",
       "      <th>4</th>\n",
       "      <td>Data Scientist: Advanced Analytics</td>\n",
       "      <td>IBM India Pvt. Limited</td>\n",
       "      <td>Bangalore/Bengaluru</td>\n",
       "      <td>-</td>\n",
       "    </tr>\n",
       "    <tr>\n",
       "      <th>5</th>\n",
       "      <td>Data Scientist</td>\n",
       "      <td>IBM India Pvt. Limited</td>\n",
       "      <td>Bangalore/Bengaluru</td>\n",
       "      <td>-</td>\n",
       "    </tr>\n",
       "    <tr>\n",
       "      <th>6</th>\n",
       "      <td>Senior Data Scientist</td>\n",
       "      <td>inVentiv International Pharma Services Pvt. Ltd.</td>\n",
       "      <td>Hyderabad/Secunderabad, Gurgaon/Gurugram, Bang...</td>\n",
       "      <td>-</td>\n",
       "    </tr>\n",
       "    <tr>\n",
       "      <th>7</th>\n",
       "      <td>EXL - Senior Data Scientist, 5+ yrs, Mumbai / ...</td>\n",
       "      <td>EXL Service</td>\n",
       "      <td>Pune, Chennai, Bangalore/Bengaluru, Delhi / NCR</td>\n",
       "      <td>Minimum Qualifications: (Specify if degree req...</td>\n",
       "    </tr>\n",
       "    <tr>\n",
       "      <th>8</th>\n",
       "      <td>Data Scientist</td>\n",
       "      <td>Applied Materials</td>\n",
       "      <td>Bangalore/Bengaluru</td>\n",
       "      <td>-</td>\n",
       "    </tr>\n",
       "    <tr>\n",
       "      <th>9</th>\n",
       "      <td>Senior Data Scientist/ Tech Lead - SQL/ Python...</td>\n",
       "      <td>Exploro Solutions</td>\n",
       "      <td>Pune, Chennai, Bangalore/Bengaluru</td>\n",
       "      <td>Responsibilities :\\n\\n- Lead a team of data sc...</td>\n",
       "    </tr>\n",
       "  </tbody>\n",
       "</table>\n",
       "</div>"
      ],
      "text/plain": [
       "                                           Job Title  \\\n",
       "0                                     Data Scientist   \n",
       "1                              Senior Data Scientist   \n",
       "2                                Lead Data Scientist   \n",
       "3    Data Scientist / Data Analyst -Business Analyst   \n",
       "4                 Data Scientist: Advanced Analytics   \n",
       "5                                     Data Scientist   \n",
       "6                              Senior Data Scientist   \n",
       "7  EXL - Senior Data Scientist, 5+ yrs, Mumbai / ...   \n",
       "8                                     Data Scientist   \n",
       "9  Senior Data Scientist/ Tech Lead - SQL/ Python...   \n",
       "\n",
       "                                       Company Name  \\\n",
       "0                 Flipkart Internet Private Limited   \n",
       "1                 Flipkart Internet Private Limited   \n",
       "2                                                bd   \n",
       "3                Inflexion Analytix Private Limited   \n",
       "4                            IBM India Pvt. Limited   \n",
       "5                            IBM India Pvt. Limited   \n",
       "6  inVentiv International Pharma Services Pvt. Ltd.   \n",
       "7                                       EXL Service   \n",
       "8                                 Applied Materials   \n",
       "9                                 Exploro Solutions   \n",
       "\n",
       "                                            Location  \\\n",
       "0                                Bangalore/Bengaluru   \n",
       "1                                Bangalore/Bengaluru   \n",
       "2                                Bangalore/Bengaluru   \n",
       "3  Hyderabad/Secunderabad, Chennai, Bangalore/Ben...   \n",
       "4                                Bangalore/Bengaluru   \n",
       "5                                Bangalore/Bengaluru   \n",
       "6  Hyderabad/Secunderabad, Gurgaon/Gurugram, Bang...   \n",
       "7    Pune, Chennai, Bangalore/Bengaluru, Delhi / NCR   \n",
       "8                                Bangalore/Bengaluru   \n",
       "9                 Pune, Chennai, Bangalore/Bengaluru   \n",
       "\n",
       "                                     Job Description  \n",
       "0  About the team\\nThe Data Sciences team at Flip...  \n",
       "1  About the role\\nA Senior Data Scientist in Fli...  \n",
       "2  Evaluating business requirements and developin...  \n",
       "3  Job description\\n\\nJob Role: Data Scientist/Da...  \n",
       "4                                                  -  \n",
       "5                                                  -  \n",
       "6                                                  -  \n",
       "7  Minimum Qualifications: (Specify if degree req...  \n",
       "8                                                  -  \n",
       "9  Responsibilities :\\n\\n- Lead a team of data sc...  "
      ]
     },
     "execution_count": 78,
     "metadata": {},
     "output_type": "execute_result"
    }
   ],
   "source": [
    "#Creating DataFrame\n",
    "\n",
    "df1 = pd.DataFrame({})\n",
    "df1['Job Title']=job_title\n",
    "df1['Company Name']=company_name\n",
    "df1['Location']=job_loc\n",
    "df1['Job Description']=job_description\n",
    "df1[:10]\n",
    "\n",
    "#Choosing only top 10"
   ]
  },
  {
   "cell_type": "markdown",
   "metadata": {},
   "source": [
    "## Q. ) Scrape data using the filters available"
   ]
  },
  {
   "cell_type": "code",
   "execution_count": 88,
   "metadata": {},
   "outputs": [],
   "source": [
    "url = 'https://www.naukri.com/'\n",
    "driver.get(url)"
   ]
  },
  {
   "cell_type": "code",
   "execution_count": null,
   "metadata": {},
   "outputs": [],
   "source": [
    "#Connecting to web driver\n",
    "\n",
    "driver = webdriver.Chrome(\"chromedriver.exe\")"
   ]
  },
  {
   "cell_type": "code",
   "execution_count": 89,
   "metadata": {},
   "outputs": [
    {
     "data": {
      "text/plain": [
       "<selenium.webdriver.remote.webelement.WebElement (session=\"9fd017061e2c80932ae98834cd3e75d8\", element=\"d47b590d-2887-4893-b0df-6fe0229dec72\")>"
      ]
     },
     "execution_count": 89,
     "metadata": {},
     "output_type": "execute_result"
    }
   ],
   "source": [
    "search_job = driver.find_element_by_id(\"qsb-keyword-sugg\")\n",
    "search_job"
   ]
  },
  {
   "cell_type": "code",
   "execution_count": 90,
   "metadata": {},
   "outputs": [],
   "source": [
    "search_job.send_keys(\"Data Scientist\")"
   ]
  },
  {
   "cell_type": "code",
   "execution_count": 91,
   "metadata": {},
   "outputs": [],
   "source": [
    "search_btn = driver.find_element_by_class_name(\"search-btn\")\n",
    "search_btn.click()"
   ]
  },
  {
   "cell_type": "code",
   "execution_count": 94,
   "metadata": {},
   "outputs": [],
   "source": [
    "#Using Salary/Location Filter\n",
    "\n",
    "loc = driver.find_element_by_xpath(\"//span[@title='Delhi / NCR']\")\n",
    "loc.click()"
   ]
  },
  {
   "cell_type": "code",
   "execution_count": 95,
   "metadata": {},
   "outputs": [],
   "source": [
    "sal = driver.find_element_by_xpath(\"//span[@title='3-6 Lakhs']\")\n",
    "sal.click()"
   ]
  },
  {
   "cell_type": "code",
   "execution_count": 97,
   "metadata": {},
   "outputs": [
    {
     "data": {
      "text/plain": [
       "['Data Scientist/Data Analyst /Business Analyst',\n",
       " 'Senior Data Scientist',\n",
       " 'Team Leader Operations/Data Scientist',\n",
       " 'Only Fresher / Data Scientist / Data Analyst / Analytics - MNC Jobs',\n",
       " 'Data Scientist (Early Joiner)',\n",
       " 'Advanced Analytics -Data Scientist',\n",
       " 'Data Scientist - Machine Learning/ NLP',\n",
       " 'Data Scientist',\n",
       " 'Data Scientist || Python || C2H',\n",
       " 'Data Scientist || Python || C2H']"
      ]
     },
     "execution_count": 97,
     "metadata": {},
     "output_type": "execute_result"
    }
   ],
   "source": [
    "\n",
    "title = driver.find_elements_by_xpath(\"//a[@class='title fw500 ellipsis']\")\n",
    "job_title = []\n",
    "\n",
    "for i in title[:10]:\n",
    "    job_title.append(i.text)\n",
    "    \n",
    "job_title"
   ]
  },
  {
   "cell_type": "code",
   "execution_count": 98,
   "metadata": {},
   "outputs": [
    {
     "data": {
      "text/plain": [
       "['Inflexion Analytix Private Limited',\n",
       " 'inVentiv International Pharma Services Pvt. Ltd.',\n",
       " 'Optimint Solutions Pvt. Ltd.',\n",
       " 'GABA Consultancy services',\n",
       " 'R Systems International Ltd.',\n",
       " 'ERM Placement Services (P) Ltd.',\n",
       " 'TalPro',\n",
       " 'recruitment advisory line',\n",
       " 'Growel Softech Pvt. Ltd.',\n",
       " 'Growel Softech Pvt. Ltd.']"
      ]
     },
     "execution_count": 98,
     "metadata": {},
     "output_type": "execute_result"
    }
   ],
   "source": [
    "company = driver.find_elements_by_xpath(\"//a[@class='subTitle ellipsis fleft']\")\n",
    "\n",
    "company_name=[]\n",
    "\n",
    "for i in company[:10]:\n",
    "    company_name.append(i.text)\n",
    "company_name"
   ]
  },
  {
   "cell_type": "code",
   "execution_count": 99,
   "metadata": {},
   "outputs": [
    {
     "data": {
      "text/plain": [
       "['Pune, Delhi / NCR, Mumbai (All Areas)',\n",
       " 'Hyderabad/Secunderabad, Gurgaon/Gurugram, Bangalore/Bengaluru',\n",
       " 'Gurgaon/Gurugram, Delhi / NCR',\n",
       " 'Noida, Greater Noida, Delhi / NCR',\n",
       " 'Noida(Sector-59 Noida)',\n",
       " 'New Delhi, Hyderabad/Secunderabad',\n",
       " 'Gurgaon/Gurugram',\n",
       " 'Hyderabad/Secunderabad, Gurgaon/Gurugram, Bangalore/Bengaluru',\n",
       " 'Noida, Kolkata, Gurgaon/Gurugram, Bangalore/Bengaluru',\n",
       " 'Noida, Kolkata, Gurgaon/Gurugram, Bangalore/Bengaluru']"
      ]
     },
     "execution_count": 99,
     "metadata": {},
     "output_type": "execute_result"
    }
   ],
   "source": [
    "#Similarly for job location\n",
    "\n",
    "location =  driver.find_elements_by_xpath(\"//li[@class='fleft grey-text br2 placeHolderLi location']//span\")\n",
    "\n",
    "job_location = []\n",
    "\n",
    "for i in location[:10]:\n",
    "    job_location.append(i.text)\n",
    "    \n",
    "job_location"
   ]
  },
  {
   "cell_type": "code",
   "execution_count": 100,
   "metadata": {},
   "outputs": [
    {
     "data": {
      "text/plain": [
       "['0-3 Yrs',\n",
       " '3-6 Yrs',\n",
       " '2-5 Yrs',\n",
       " '0-0 Yrs',\n",
       " '4-8 Yrs',\n",
       " '3-7 Yrs',\n",
       " '2-6 Yrs',\n",
       " '3-6 Yrs',\n",
       " '4-6 Yrs',\n",
       " '4-6 Yrs']"
      ]
     },
     "execution_count": 100,
     "metadata": {},
     "output_type": "execute_result"
    }
   ],
   "source": [
    "#Experience\n",
    "\n",
    "exp = driver.find_elements_by_xpath(\"//li[@class='fleft grey-text br2 placeHolderLi experience']//span\")\n",
    "\n",
    "experience = []\n",
    "\n",
    "for i in exp[:10]:\n",
    "    experience.append(i.text)\n",
    "    \n",
    "experience"
   ]
  },
  {
   "cell_type": "code",
   "execution_count": 101,
   "metadata": {},
   "outputs": [
    {
     "data": {
      "text/html": [
       "<div>\n",
       "<style scoped>\n",
       "    .dataframe tbody tr th:only-of-type {\n",
       "        vertical-align: middle;\n",
       "    }\n",
       "\n",
       "    .dataframe tbody tr th {\n",
       "        vertical-align: top;\n",
       "    }\n",
       "\n",
       "    .dataframe thead th {\n",
       "        text-align: right;\n",
       "    }\n",
       "</style>\n",
       "<table border=\"1\" class=\"dataframe\">\n",
       "  <thead>\n",
       "    <tr style=\"text-align: right;\">\n",
       "      <th></th>\n",
       "      <th>Job Title</th>\n",
       "      <th>Company Name</th>\n",
       "      <th>Location</th>\n",
       "      <th>Experience</th>\n",
       "    </tr>\n",
       "  </thead>\n",
       "  <tbody>\n",
       "    <tr>\n",
       "      <th>0</th>\n",
       "      <td>Data Scientist/Data Analyst /Business Analyst</td>\n",
       "      <td>Inflexion Analytix Private Limited</td>\n",
       "      <td>Pune, Delhi / NCR, Mumbai (All Areas)</td>\n",
       "      <td>0-3 Yrs</td>\n",
       "    </tr>\n",
       "    <tr>\n",
       "      <th>1</th>\n",
       "      <td>Senior Data Scientist</td>\n",
       "      <td>inVentiv International Pharma Services Pvt. Ltd.</td>\n",
       "      <td>Hyderabad/Secunderabad, Gurgaon/Gurugram, Bang...</td>\n",
       "      <td>3-6 Yrs</td>\n",
       "    </tr>\n",
       "    <tr>\n",
       "      <th>2</th>\n",
       "      <td>Team Leader Operations/Data Scientist</td>\n",
       "      <td>Optimint Solutions Pvt. Ltd.</td>\n",
       "      <td>Gurgaon/Gurugram, Delhi / NCR</td>\n",
       "      <td>2-5 Yrs</td>\n",
       "    </tr>\n",
       "    <tr>\n",
       "      <th>3</th>\n",
       "      <td>Only Fresher / Data Scientist / Data Analyst /...</td>\n",
       "      <td>GABA Consultancy services</td>\n",
       "      <td>Noida, Greater Noida, Delhi / NCR</td>\n",
       "      <td>0-0 Yrs</td>\n",
       "    </tr>\n",
       "    <tr>\n",
       "      <th>4</th>\n",
       "      <td>Data Scientist (Early Joiner)</td>\n",
       "      <td>R Systems International Ltd.</td>\n",
       "      <td>Noida(Sector-59 Noida)</td>\n",
       "      <td>4-8 Yrs</td>\n",
       "    </tr>\n",
       "    <tr>\n",
       "      <th>5</th>\n",
       "      <td>Advanced Analytics -Data Scientist</td>\n",
       "      <td>ERM Placement Services (P) Ltd.</td>\n",
       "      <td>New Delhi, Hyderabad/Secunderabad</td>\n",
       "      <td>3-7 Yrs</td>\n",
       "    </tr>\n",
       "    <tr>\n",
       "      <th>6</th>\n",
       "      <td>Data Scientist - Machine Learning/ NLP</td>\n",
       "      <td>TalPro</td>\n",
       "      <td>Gurgaon/Gurugram</td>\n",
       "      <td>2-6 Yrs</td>\n",
       "    </tr>\n",
       "    <tr>\n",
       "      <th>7</th>\n",
       "      <td>Data Scientist</td>\n",
       "      <td>recruitment advisory line</td>\n",
       "      <td>Hyderabad/Secunderabad, Gurgaon/Gurugram, Bang...</td>\n",
       "      <td>3-6 Yrs</td>\n",
       "    </tr>\n",
       "    <tr>\n",
       "      <th>8</th>\n",
       "      <td>Data Scientist || Python || C2H</td>\n",
       "      <td>Growel Softech Pvt. Ltd.</td>\n",
       "      <td>Noida, Kolkata, Gurgaon/Gurugram, Bangalore/Be...</td>\n",
       "      <td>4-6 Yrs</td>\n",
       "    </tr>\n",
       "    <tr>\n",
       "      <th>9</th>\n",
       "      <td>Data Scientist || Python || C2H</td>\n",
       "      <td>Growel Softech Pvt. Ltd.</td>\n",
       "      <td>Noida, Kolkata, Gurgaon/Gurugram, Bangalore/Be...</td>\n",
       "      <td>4-6 Yrs</td>\n",
       "    </tr>\n",
       "  </tbody>\n",
       "</table>\n",
       "</div>"
      ],
      "text/plain": [
       "                                           Job Title  \\\n",
       "0      Data Scientist/Data Analyst /Business Analyst   \n",
       "1                              Senior Data Scientist   \n",
       "2              Team Leader Operations/Data Scientist   \n",
       "3  Only Fresher / Data Scientist / Data Analyst /...   \n",
       "4                      Data Scientist (Early Joiner)   \n",
       "5                 Advanced Analytics -Data Scientist   \n",
       "6             Data Scientist - Machine Learning/ NLP   \n",
       "7                                     Data Scientist   \n",
       "8                    Data Scientist || Python || C2H   \n",
       "9                    Data Scientist || Python || C2H   \n",
       "\n",
       "                                       Company Name  \\\n",
       "0                Inflexion Analytix Private Limited   \n",
       "1  inVentiv International Pharma Services Pvt. Ltd.   \n",
       "2                      Optimint Solutions Pvt. Ltd.   \n",
       "3                         GABA Consultancy services   \n",
       "4                      R Systems International Ltd.   \n",
       "5                   ERM Placement Services (P) Ltd.   \n",
       "6                                            TalPro   \n",
       "7                         recruitment advisory line   \n",
       "8                          Growel Softech Pvt. Ltd.   \n",
       "9                          Growel Softech Pvt. Ltd.   \n",
       "\n",
       "                                            Location Experience  \n",
       "0              Pune, Delhi / NCR, Mumbai (All Areas)    0-3 Yrs  \n",
       "1  Hyderabad/Secunderabad, Gurgaon/Gurugram, Bang...    3-6 Yrs  \n",
       "2                      Gurgaon/Gurugram, Delhi / NCR    2-5 Yrs  \n",
       "3                  Noida, Greater Noida, Delhi / NCR    0-0 Yrs  \n",
       "4                             Noida(Sector-59 Noida)    4-8 Yrs  \n",
       "5                  New Delhi, Hyderabad/Secunderabad    3-7 Yrs  \n",
       "6                                   Gurgaon/Gurugram    2-6 Yrs  \n",
       "7  Hyderabad/Secunderabad, Gurgaon/Gurugram, Bang...    3-6 Yrs  \n",
       "8  Noida, Kolkata, Gurgaon/Gurugram, Bangalore/Be...    4-6 Yrs  \n",
       "9  Noida, Kolkata, Gurgaon/Gurugram, Bangalore/Be...    4-6 Yrs  "
      ]
     },
     "execution_count": 101,
     "metadata": {},
     "output_type": "execute_result"
    }
   ],
   "source": [
    "df2 = pd.DataFrame({})\n",
    "df2['Job Title']=job_title\n",
    "df2['Company Name']=company_name\n",
    "df2['Location']=job_location\n",
    "df2['Experience']=experience\n",
    "df2"
   ]
  },
  {
   "cell_type": "markdown",
   "metadata": {},
   "source": [
    "## Q : Scrape data of first 100 sunglasses listings on flipkart.com. You have to \n",
    "## scrape four attributes:\n",
    "1. Brand\n",
    "2. Product Description\n",
    "3. Price\n",
    "4. Discount %"
   ]
  },
  {
   "cell_type": "code",
   "execution_count": 151,
   "metadata": {},
   "outputs": [],
   "source": [
    "#Connecting to web driver\n",
    "\n",
    "driver = webdriver.Chrome(\"chromedriver.exe\")"
   ]
  },
  {
   "cell_type": "code",
   "execution_count": 152,
   "metadata": {},
   "outputs": [],
   "source": [
    "url = 'https://www.flipkart.com/'\n",
    "driver.get(url)"
   ]
  },
  {
   "cell_type": "code",
   "execution_count": 153,
   "metadata": {},
   "outputs": [],
   "source": [
    "#Search bar\n",
    "\n",
    "search_sung = driver.find_element_by_xpath(\"//input[@title='Search for products, brands and more']\")\n",
    "search_sung.send_keys(\"Sunglasses\")\n"
   ]
  },
  {
   "cell_type": "code",
   "execution_count": 155,
   "metadata": {},
   "outputs": [],
   "source": [
    "search_btn = driver.find_element_by_class_name(\"L0Z3Pu\")\n",
    "search_btn.click()"
   ]
  },
  {
   "cell_type": "code",
   "execution_count": 156,
   "metadata": {},
   "outputs": [
    {
     "data": {
      "text/plain": [
       "['https://www.flipkart.com/liza-angel-retro-square-sunglasses/p/itm2fba7b16ea1b1?pid=SGLGY3GWYMV8DHYW&lid=LSTSGLGY3GWYMV8DHYWHDYOLK&marketplace=FLIPKART&q=Sunglasses&store=26x&srno=s_1_1&otracker=search&otracker1=search&fm=SEARCH&iid=en_j5JoJfQWunJ2NlIuIqAwmicuObWlXBs6eLOSSklgXew6Vu0XqOP7G9pFMvcdorH5aA4mAQm93pdO%2FhfgaUyUrA%3D%3D&ppt=hp&ppn=homepage&ssid=vc5oua4hgw0000001625991898946&qH=0ff7a11a5902c9f7',\n",
       " 'https://www.flipkart.com/piraso-aviator-sunglasses/p/itm4210bb67b2728?pid=SGLFPFD7WRNASWSV&lid=LSTSGLFPFD7WRNASWSVJLGDDX&marketplace=FLIPKART&q=Sunglasses&store=26x&srno=s_1_2&otracker=search&otracker1=search&fm=SEARCH&iid=en_j5JoJfQWunJ2NlIuIqAwmicuObWlXBs6eLOSSklgXexSmzvDWTkhQfiFRVzXEXjnBA78XsmsdOfHUwHpG08WDQ%3D%3D&ppt=hp&ppn=homepage&ssid=vc5oua4hgw0000001625991898946&qH=0ff7a11a5902c9f7',\n",
       " 'https://www.flipkart.com/kingsunglasses-wayfarer-sunglasses/p/itm9c7287be7c247?pid=SGLG2ZY9UERPGCZX&lid=LSTSGLG2ZY9UERPGCZXOWQRMA&marketplace=FLIPKART&q=Sunglasses&store=26x&srno=s_1_3&otracker=search&otracker1=search&fm=SEARCH&iid=9f62a97b-3d3b-4ca5-a2d4-b81aef5db248.SGLG2ZY9UERPGCZX.SEARCH&ppt=hp&ppn=homepage&ssid=vc5oua4hgw0000001625991898946&qH=0ff7a11a5902c9f7',\n",
       " 'https://www.flipkart.com/fastrack-rectangular-sunglasses/p/itmf3yhd8wephwxh?pid=SGLES2WMF6CH5GYF&lid=LSTSGLES2WMF6CH5GYFXRVSZN&marketplace=FLIPKART&q=Sunglasses&store=26x&srno=s_1_4&otracker=search&otracker1=search&fm=SEARCH&iid=9f62a97b-3d3b-4ca5-a2d4-b81aef5db248.SGLES2WMF6CH5GYF.SEARCH&ppt=hp&ppn=homepage&ssid=vc5oua4hgw0000001625991898946&qH=0ff7a11a5902c9f7',\n",
       " 'https://www.flipkart.com/fastrack-wayfarer-sunglasses/p/itmf79dqjqucq9f3?pid=SGLF79DQR8NQAT2W&lid=LSTSGLF79DQR8NQAT2W0MLSHN&marketplace=FLIPKART&q=Sunglasses&store=26x&srno=s_1_5&otracker=search&otracker1=search&fm=SEARCH&iid=9f62a97b-3d3b-4ca5-a2d4-b81aef5db248.SGLF79DQR8NQAT2W.SEARCH&ppt=hp&ppn=homepage&ssid=vc5oua4hgw0000001625991898946&qH=0ff7a11a5902c9f7',\n",
       " 'https://www.flipkart.com/piraso-aviator-sunglasses/p/itm70504d13b7992?pid=SGLFV8YYCEA8RWAC&lid=LSTSGLFV8YYCEA8RWACIACICJ&marketplace=FLIPKART&q=Sunglasses&store=26x&spotlightTagId=BestsellerId_26x&srno=s_1_6&otracker=search&otracker1=search&fm=SEARCH&iid=9f62a97b-3d3b-4ca5-a2d4-b81aef5db248.SGLFV8YYCEA8RWAC.SEARCH&ppt=hp&ppn=homepage&ssid=vc5oua4hgw0000001625991898946&qH=0ff7a11a5902c9f7',\n",
       " 'https://www.flipkart.com/fastrack-wayfarer-sunglasses/p/itm04d9621b98c78?pid=SGLFG94C8PAHZ3SH&lid=LSTSGLFG94C8PAHZ3SHAFCJXO&marketplace=FLIPKART&q=Sunglasses&store=26x&srno=s_1_7&otracker=search&otracker1=search&fm=SEARCH&iid=9f62a97b-3d3b-4ca5-a2d4-b81aef5db248.SGLFG94C8PAHZ3SH.SEARCH&ppt=hp&ppn=homepage&ssid=vc5oua4hgw0000001625991898946&qH=0ff7a11a5902c9f7',\n",
       " 'https://www.flipkart.com/wrogn-wayfarer-sunglasses/p/itm7f7e238482e05?pid=SGLFVHMBY39XKD3K&lid=LSTSGLFVHMBY39XKD3KZ8TPD6&marketplace=FLIPKART&q=Sunglasses&store=26x&srno=s_1_8&otracker=search&otracker1=search&fm=SEARCH&iid=en_j5JoJfQWunJ2NlIuIqAwmicuObWlXBs6eLOSSklgXex0EOiQmL3oe%2BpfU2UVf3Cc132r29AAyP53DwPQA6DLfA%3D%3D&ppt=hp&ppn=homepage&ssid=vc5oua4hgw0000001625991898946&qH=0ff7a11a5902c9f7',\n",
       " 'https://www.flipkart.com/kingsunglasses-round-sunglasses/p/itm668e2503f485e?pid=SGLFY5AYFU27DZM4&lid=LSTSGLFY5AYFU27DZM4RRJKPX&marketplace=FLIPKART&q=Sunglasses&store=26x&srno=s_1_9&otracker=search&otracker1=search&fm=SEARCH&iid=9f62a97b-3d3b-4ca5-a2d4-b81aef5db248.SGLFY5AYFU27DZM4.SEARCH&ppt=hp&ppn=homepage&ssid=vc5oua4hgw0000001625991898946&qH=0ff7a11a5902c9f7',\n",
       " 'https://www.flipkart.com/fastrack-shield-sunglasses/p/itmf79dqdqcf4s4c?pid=SGLF79DPUDKZG4WB&lid=LSTSGLF79DPUDKZG4WBV7D6KR&marketplace=FLIPKART&q=Sunglasses&store=26x&srno=s_1_10&otracker=search&otracker1=search&fm=SEARCH&iid=9f62a97b-3d3b-4ca5-a2d4-b81aef5db248.SGLF79DPUDKZG4WB.SEARCH&ppt=hp&ppn=homepage&ssid=vc5oua4hgw0000001625991898946&qH=0ff7a11a5902c9f7',\n",
       " 'https://www.flipkart.com/fastrack-wayfarer-sunglasses/p/itmf17a9804236b9?pid=SGLFJATRZAUJGZGQ&lid=LSTSGLFJATRZAUJGZGQVHIHKU&marketplace=FLIPKART&q=Sunglasses&store=26x&srno=s_1_11&otracker=search&otracker1=search&fm=SEARCH&iid=9f62a97b-3d3b-4ca5-a2d4-b81aef5db248.SGLFJATRZAUJGZGQ.SEARCH&ppt=hp&ppn=homepage&ssid=vc5oua4hgw0000001625991898946&qH=0ff7a11a5902c9f7',\n",
       " 'https://www.flipkart.com/piraso-wayfarer-sunglasses/p/itm8b4f0ab184f40?pid=SGLFGAD4R4HZGEKD&lid=LSTSGLFGAD4R4HZGEKDWW1HBB&marketplace=FLIPKART&q=Sunglasses&store=26x&srno=s_1_12&otracker=search&otracker1=search&fm=SEARCH&iid=en_j5JoJfQWunJ2NlIuIqAwmicuObWlXBs6eLOSSklgXexHp3rmdmg6fP%2BmhPJdWlxeZzYp%2FfAmWI5aHWcHTrBmdQ%3D%3D&ppt=hp&ppn=homepage&ssid=vc5oua4hgw0000001625991898946&qH=0ff7a11a5902c9f7',\n",
       " 'https://www.flipkart.com/kingsunglasses-wayfarer-sunglasses/p/itm59aef661362cd?pid=SGLG2ZY2RFEUSYZS&lid=LSTSGLG2ZY2RFEUSYZSBUS16I&marketplace=FLIPKART&q=Sunglasses&store=26x&srno=s_1_13&otracker=search&otracker1=search&fm=SEARCH&iid=9f62a97b-3d3b-4ca5-a2d4-b81aef5db248.SGLG2ZY2RFEUSYZS.SEARCH&ppt=hp&ppn=homepage&ssid=vc5oua4hgw0000001625991898946&qH=0ff7a11a5902c9f7',\n",
       " 'https://www.flipkart.com/phenomenal-retro-square-sunglasses/p/itm05605e75ed801?pid=SGLFUXYAXFHYQAK4&lid=LSTSGLFUXYAXFHYQAK4VF4MKG&marketplace=FLIPKART&q=Sunglasses&store=26x&srno=s_1_14&otracker=search&otracker1=search&fm=SEARCH&iid=9f62a97b-3d3b-4ca5-a2d4-b81aef5db248.SGLFUXYAXFHYQAK4.SEARCH&ppt=hp&ppn=homepage&ssid=vc5oua4hgw0000001625991898946&qH=0ff7a11a5902c9f7',\n",
       " 'https://www.flipkart.com/kingsunglasses-round-sunglasses/p/itmfb9juuhzg79rv?pid=SGLFB9GQVKJZGNDG&lid=LSTSGLFB9GQVKJZGNDGMUY598&marketplace=FLIPKART&q=Sunglasses&store=26x&srno=s_1_15&otracker=search&otracker1=search&fm=SEARCH&iid=9f62a97b-3d3b-4ca5-a2d4-b81aef5db248.SGLFB9GQVKJZGNDG.SEARCH&ppt=hp&ppn=homepage&ssid=vc5oua4hgw0000001625991898946&qH=0ff7a11a5902c9f7',\n",
       " 'https://www.flipkart.com/royal-son-round-sunglasses/p/itm08ee366f541f9?pid=SGLFZJV9XTPRHAZQ&lid=LSTSGLFZJV9XTPRHAZQ48MYNV&marketplace=FLIPKART&q=Sunglasses&store=26x&srno=s_1_16&otracker=search&otracker1=search&fm=SEARCH&iid=en_j5JoJfQWunJ2NlIuIqAwmicuObWlXBs6eLOSSklgXezWFt95w08n0ozbu2CCzIX7MevXC2n4W%2FSZ1Xdiw8pkgg%3D%3D&ppt=hp&ppn=homepage&ssid=vc5oua4hgw0000001625991898946&qH=0ff7a11a5902c9f7',\n",
       " 'https://www.flipkart.com/fastrack-aviator-sunglasses/p/itm3d6674f888d98?pid=SGLFKYGHKP4BXEMH&lid=LSTSGLFKYGHKP4BXEMHAL1IED&marketplace=FLIPKART&q=Sunglasses&store=26x&srno=s_1_17&otracker=search&otracker1=search&fm=SEARCH&iid=9f62a97b-3d3b-4ca5-a2d4-b81aef5db248.SGLFKYGHKP4BXEMH.SEARCH&ppt=hp&ppn=homepage&ssid=vc5oua4hgw0000001625991898946&qH=0ff7a11a5902c9f7',\n",
       " 'https://www.flipkart.com/rozzetta-craft-retro-square-sunglasses/p/itmf248ba5b3a895?pid=SGLFZFZNAQNZHYB7&lid=LSTSGLFZFZNAQNZHYB7GZ3YO5&marketplace=FLIPKART&q=Sunglasses&store=26x&srno=s_1_18&otracker=search&otracker1=search&fm=SEARCH&iid=9f62a97b-3d3b-4ca5-a2d4-b81aef5db248.SGLFZFZNAQNZHYB7.SEARCH&ppt=hp&ppn=homepage&ssid=vc5oua4hgw0000001625991898946&qH=0ff7a11a5902c9f7',\n",
       " 'https://www.flipkart.com/silver-kartz-wayfarer-sunglasses/p/itmf3ykz37jypbdd?pid=SGLEXSP4CY6G2ZTY&lid=LSTSGLEXSP4CY6G2ZTYGHVAAN&marketplace=FLIPKART&q=Sunglasses&store=26x&srno=s_1_19&otracker=search&otracker1=search&fm=SEARCH&iid=9f62a97b-3d3b-4ca5-a2d4-b81aef5db248.SGLEXSP4CY6G2ZTY.SEARCH&ppt=hp&ppn=homepage&ssid=vc5oua4hgw0000001625991898946&qH=0ff7a11a5902c9f7',\n",
       " 'https://www.flipkart.com/royal-son-round-sunglasses/p/itm5b334314a720f?pid=SGLGYPHHV2VGDY8D&lid=LSTSGLGYPHHV2VGDY8DPWN2IS&marketplace=FLIPKART&q=Sunglasses&store=26x&srno=s_1_20&otracker=search&otracker1=search&fm=SEARCH&iid=en_j5JoJfQWunJ2NlIuIqAwmicuObWlXBs6eLOSSklgXewX4UQMOastknMBdkrhR7zdCvN1TMcfMCeQwBvJ%2FvlXgA%3D%3D&ppt=hp&ppn=homepage&ssid=vc5oua4hgw0000001625991898946&qH=0ff7a11a5902c9f7',\n",
       " 'https://www.flipkart.com/fastrack-wayfarer-sunglasses/p/itmb27e122319437?pid=SGLFJATQYNC8ASFJ&lid=LSTSGLFJATQYNC8ASFJEM0L5Q&marketplace=FLIPKART&q=Sunglasses&store=26x&srno=s_1_21&otracker=search&otracker1=search&fm=SEARCH&iid=9f62a97b-3d3b-4ca5-a2d4-b81aef5db248.SGLFJATQYNC8ASFJ.SEARCH&ppt=hp&ppn=homepage&ssid=vc5oua4hgw0000001625991898946&qH=0ff7a11a5902c9f7',\n",
       " 'https://www.flipkart.com/phenomenal-round-sunglasses/p/itm7fc559d677aa4?pid=SGLFN8AUWJHNFAZD&lid=LSTSGLFN8AUWJHNFAZDP6OYYD&marketplace=FLIPKART&q=Sunglasses&store=26x&srno=s_1_22&otracker=search&otracker1=search&fm=SEARCH&iid=9f62a97b-3d3b-4ca5-a2d4-b81aef5db248.SGLFN8AUWJHNFAZD.SEARCH&ppt=hp&ppn=homepage&ssid=vc5oua4hgw0000001625991898946&qH=0ff7a11a5902c9f7',\n",
       " 'https://www.flipkart.com/piraso-aviator-sunglasses/p/itme10cb1c3329df?pid=SGLFZGE6GMSXZGRP&lid=LSTSGLFZGE6GMSXZGRPN2FYWJ&marketplace=FLIPKART&q=Sunglasses&store=26x&srno=s_1_23&otracker=search&otracker1=search&fm=SEARCH&iid=9f62a97b-3d3b-4ca5-a2d4-b81aef5db248.SGLFZGE6GMSXZGRP.SEARCH&ppt=hp&ppn=homepage&ssid=vc5oua4hgw0000001625991898946&qH=0ff7a11a5902c9f7',\n",
       " 'https://www.flipkart.com/royal-son-round-sunglasses/p/itm14465ee5c0bb8?pid=SGLFZJV94GSHJRJA&lid=LSTSGLFZJV94GSHJRJAUMWUVT&marketplace=FLIPKART&q=Sunglasses&store=26x&srno=s_1_24&otracker=search&otracker1=search&fm=SEARCH&iid=en_j5JoJfQWunJ2NlIuIqAwmicuObWlXBs6eLOSSklgXexF%2B2wmYH66tbN%2BqsS7jTNI6g9JOfMi4RfI5zoW%2FN7z%2Fg%3D%3D&ppt=hp&ppn=homepage&ssid=vc5oua4hgw0000001625991898946&qH=0ff7a11a5902c9f7',\n",
       " 'https://www.flipkart.com/piraso-aviator-sunglasses/p/itm405062704fcc0?pid=SGLFTYY5NWNKSC64&lid=LSTSGLFTYY5NWNKSC64YLGIVW&marketplace=FLIPKART&q=Sunglasses&store=26x&srno=s_1_25&otracker=search&otracker1=search&fm=SEARCH&iid=9f62a97b-3d3b-4ca5-a2d4-b81aef5db248.SGLFTYY5NWNKSC64.SEARCH&ppt=hp&ppn=homepage&ssid=vc5oua4hgw0000001625991898946&qH=0ff7a11a5902c9f7',\n",
       " 'https://www.flipkart.com/hippon-wayfarer-sunglasses/p/itm05550ccebbf7b?pid=SGLFHPMMVHHGWKNG&lid=LSTSGLFHPMMVHHGWKNG1S9QVG&marketplace=FLIPKART&q=Sunglasses&store=26x&srno=s_1_26&otracker=search&otracker1=search&fm=SEARCH&iid=9f62a97b-3d3b-4ca5-a2d4-b81aef5db248.SGLFHPMMVHHGWKNG.SEARCH&ppt=hp&ppn=homepage&ssid=vc5oua4hgw0000001625991898946&qH=0ff7a11a5902c9f7',\n",
       " 'https://www.flipkart.com/deixels-aviator-wayfarer-sunglasses/p/itmf3yke7n2axuym?pid=SGLF2YZXCDM6QACV&lid=LSTSGLF2YZXCDM6QACV8HRV24&marketplace=FLIPKART&q=Sunglasses&store=26x&srno=s_1_27&otracker=search&otracker1=search&fm=SEARCH&iid=9f62a97b-3d3b-4ca5-a2d4-b81aef5db248.SGLF2YZXCDM6QACV.SEARCH&ppt=hp&ppn=homepage&ssid=vc5oua4hgw0000001625991898946&qH=0ff7a11a5902c9f7',\n",
       " 'https://www.flipkart.com/royal-son-aviator-sunglasses/p/itme479614d796cc?pid=SGLED3YH6AQQFTJT&lid=LSTSGLED3YH6AQQFTJTD9JARU&marketplace=FLIPKART&q=Sunglasses&store=26x&srno=s_1_28&otracker=search&otracker1=search&fm=SEARCH&iid=en_j5JoJfQWunJ2NlIuIqAwmicuObWlXBs6eLOSSklgXeyuYk2oG3Lje3FjonOvQ8Ustt3BnNSpHLMZAgVidQKZ1w%3D%3D&ppt=hp&ppn=homepage&ssid=vc5oua4hgw0000001625991898946&qH=0ff7a11a5902c9f7',\n",
       " 'https://www.flipkart.com/kingsunglasses-rectangular-sunglasses/p/itm7a1f2d0b309e9?pid=SGLGYFFNQNFTBBVU&lid=LSTSGLGYFFNQNFTBBVUXSSV7U&marketplace=FLIPKART&q=Sunglasses&store=26x&srno=s_1_29&otracker=search&otracker1=search&fm=SEARCH&iid=9f62a97b-3d3b-4ca5-a2d4-b81aef5db248.SGLGYFFNQNFTBBVU.SEARCH&ppt=hp&ppn=homepage&ssid=vc5oua4hgw0000001625991898946&qH=0ff7a11a5902c9f7',\n",
       " 'https://www.flipkart.com/phenomenal-retro-square-sunglasses/p/itm1ead9ddbbb3d8?pid=SGLFUBFWNBFEAVD3&lid=LSTSGLFUBFWNBFEAVD31E0HIC&marketplace=FLIPKART&q=Sunglasses&store=26x&srno=s_1_30&otracker=search&otracker1=search&fm=SEARCH&iid=9f62a97b-3d3b-4ca5-a2d4-b81aef5db248.SGLFUBFWNBFEAVD3.SEARCH&ppt=hp&ppn=homepage&ssid=vc5oua4hgw0000001625991898946&qH=0ff7a11a5902c9f7',\n",
       " 'https://www.flipkart.com/rozzetta-craft-rectangular-sunglasses/p/itmc07cb7e8aec50?pid=SGLFSZV6PXGZGZGX&lid=LSTSGLFSZV6PXGZGZGXNWELSX&marketplace=FLIPKART&q=Sunglasses&store=26x&srno=s_1_31&otracker=search&otracker1=search&fm=SEARCH&iid=9f62a97b-3d3b-4ca5-a2d4-b81aef5db248.SGLFSZV6PXGZGZGX.SEARCH&ppt=hp&ppn=homepage&ssid=vc5oua4hgw0000001625991898946&qH=0ff7a11a5902c9f7',\n",
       " 'https://www.flipkart.com/royal-son-retro-square-sunglasses/p/itm7c48028a023cc?pid=SGLFPBJEBM3UUWZP&lid=LSTSGLFPBJEBM3UUWZPQWDIEK&marketplace=FLIPKART&q=Sunglasses&store=26x&srno=s_1_32&otracker=search&otracker1=search&fm=SEARCH&iid=en_j5JoJfQWunJ2NlIuIqAwmicuObWlXBs6eLOSSklgXewgoQ5fJq8%2BRTKO4vf6cVrtrk4I4MkFgS113qkRF1LCLA%3D%3D&ppt=hp&ppn=homepage&ssid=vc5oua4hgw0000001625991898946&qH=0ff7a11a5902c9f7',\n",
       " 'https://www.flipkart.com/flizz-retro-square-sunglasses/p/itmfcfa8ecd9dbce?pid=SGLFWQP8JZVJZEZW&lid=LSTSGLFWQP8JZVJZEZWAUAWZL&marketplace=FLIPKART&q=Sunglasses&store=26x&srno=s_1_33&otracker=search&otracker1=search&fm=SEARCH&iid=9f62a97b-3d3b-4ca5-a2d4-b81aef5db248.SGLFWQP8JZVJZEZW.SEARCH&ppt=hp&ppn=homepage&ssid=vc5oua4hgw0000001625991898946&qH=0ff7a11a5902c9f7',\n",
       " 'https://www.flipkart.com/fastrack-aviator-sunglasses/p/itmf79dqewt9sf6d?pid=SGLF79DQGP7E4G2P&lid=LSTSGLF79DQGP7E4G2PYP2PGG&marketplace=FLIPKART&q=Sunglasses&store=26x&srno=s_1_34&otracker=search&otracker1=search&fm=SEARCH&iid=9f62a97b-3d3b-4ca5-a2d4-b81aef5db248.SGLF79DQGP7E4G2P.SEARCH&ppt=hp&ppn=homepage&ssid=vc5oua4hgw0000001625991898946&qH=0ff7a11a5902c9f7',\n",
       " 'https://www.flipkart.com/gansta-aviator-sunglasses/p/itmf7hmfp5r8hcdb?pid=SGLF7HGZKHHSTQ8H&lid=LSTSGLF7HGZKHHSTQ8H5VK4WX&marketplace=FLIPKART&q=Sunglasses&store=26x&srno=s_1_35&otracker=search&otracker1=search&fm=SEARCH&iid=9f62a97b-3d3b-4ca5-a2d4-b81aef5db248.SGLF7HGZKHHSTQ8H.SEARCH&ppt=hp&ppn=homepage&ssid=vc5oua4hgw0000001625991898946&qH=0ff7a11a5902c9f7',\n",
       " 'https://www.flipkart.com/royal-son-rectangular-sunglasses/p/itmefc71f75555a7?pid=SGLF6GYMZHQMQX3H&lid=LSTSGLF6GYMZHQMQX3HKFFAUL&marketplace=FLIPKART&q=Sunglasses&store=26x&srno=s_1_36&otracker=search&otracker1=search&fm=SEARCH&iid=en_j5JoJfQWunJ2NlIuIqAwmicuObWlXBs6eLOSSklgXey5ntvdUiJmjxfGHFMVP0bZnMg9q%2FN5mOn1%2BVfvWQX7hw%3D%3D&ppt=hp&ppn=homepage&ssid=vc5oua4hgw0000001625991898946&qH=0ff7a11a5902c9f7',\n",
       " 'https://www.flipkart.com/fastrack-wayfarer-sunglasses/p/itmf79dqxyft72kh?pid=SGLF79DQWYPMFYVY&lid=LSTSGLF79DQWYPMFYVYGNZHDZ&marketplace=FLIPKART&q=Sunglasses&store=26x&srno=s_1_37&otracker=search&otracker1=search&fm=SEARCH&iid=9f62a97b-3d3b-4ca5-a2d4-b81aef5db248.SGLF79DQWYPMFYVY.SEARCH&ppt=hp&ppn=homepage&ssid=vc5oua4hgw0000001625991898946&qH=0ff7a11a5902c9f7',\n",
       " 'https://www.flipkart.com/rozzetta-craft-round-sunglasses/p/itm3ca5f665ffe8a?pid=SGLFZY7UJHZZ4ZZC&lid=LSTSGLFZY7UJHZZ4ZZCI8PNGA&marketplace=FLIPKART&q=Sunglasses&store=26x&srno=s_1_38&otracker=search&otracker1=search&fm=SEARCH&iid=9f62a97b-3d3b-4ca5-a2d4-b81aef5db248.SGLFZY7UJHZZ4ZZC.SEARCH&ppt=hp&ppn=homepage&ssid=vc5oua4hgw0000001625991898946&qH=0ff7a11a5902c9f7',\n",
       " 'https://www.flipkart.com/fastrack-wrap-around-sunglasses/p/itmf3yhbz5qhyhaz?pid=SGLDNGSB52SYAHP8&lid=LSTSGLDNGSB52SYAHP8KFQP3U&marketplace=FLIPKART&q=Sunglasses&store=26x&srno=s_1_39&otracker=search&otracker1=search&fm=SEARCH&iid=9f62a97b-3d3b-4ca5-a2d4-b81aef5db248.SGLDNGSB52SYAHP8.SEARCH&ppt=hp&ppn=homepage&ssid=vc5oua4hgw0000001625991898946&qH=0ff7a11a5902c9f7',\n",
       " 'https://www.flipkart.com/royal-son-rectangular-sunglasses/p/itmf3ykhgghgd5wu?pid=SGLEQHVE3GZHYW7R&lid=LSTSGLEQHVE3GZHYW7R16S3VH&marketplace=FLIPKART&q=Sunglasses&store=26x&srno=s_1_40&otracker=search&otracker1=search&fm=SEARCH&iid=en_j5JoJfQWunJ2NlIuIqAwmicuObWlXBs6eLOSSklgXezYMl7jQIe5C4gsLQoRj65rIFeth5DUNuxAzpXj%2Fh70dQ%3D%3D&ppt=hp&ppn=homepage&ssid=vc5oua4hgw0000001625991898946&qH=0ff7a11a5902c9f7']"
      ]
     },
     "execution_count": 156,
     "metadata": {},
     "output_type": "execute_result"
    }
   ],
   "source": [
    "#Fetching urls :\n",
    "urls1 = []\n",
    "\n",
    "for i in driver.find_elements_by_xpath(\"//a[@class='_2UzuFa']\"):\n",
    "    urls1.append(i.get_attribute(\"href\"))\n",
    "urls1"
   ]
  },
  {
   "cell_type": "code",
   "execution_count": 157,
   "metadata": {},
   "outputs": [],
   "source": [
    "#Clicking next button\n",
    "\n",
    "btn = driver.find_element_by_xpath(\"//a[@class='_1LKTO3']\")\n",
    "btn.click()"
   ]
  },
  {
   "cell_type": "code",
   "execution_count": 158,
   "metadata": {},
   "outputs": [
    {
     "data": {
      "text/plain": [
       "['https://www.flipkart.com/rozzetta-craft-rectangular-sunglasses/p/itma3addc61d1d3f?pid=SGLFSUXHJZWKYRHG&lid=LSTSGLFSUXHJZWKYRHGPARCAG&marketplace=FLIPKART&q=Sunglasses&store=26x&srno=s_2_41&otracker=search&otracker1=search&fm=SEARCH&iid=3c26db3f-7d9c-4048-84a9-a0805cb11439.SGLFSUXHJZWKYRHG.SEARCH&ppt=sp&ppn=sp&ssid=vc5oua4hgw0000001625991898946&qH=0ff7a11a5902c9f7',\n",
       " 'https://www.flipkart.com/fastrack-aviator-sunglasses/p/itm71bfd7c0bb72a?pid=SGLFKYGHRDPNJGGG&lid=LSTSGLFKYGHRDPNJGGGVIF0IZ&marketplace=FLIPKART&q=Sunglasses&store=26x&srno=s_2_42&otracker=search&otracker1=search&fm=SEARCH&iid=3c26db3f-7d9c-4048-84a9-a0805cb11439.SGLFKYGHRDPNJGGG.SEARCH&ppt=sp&ppn=sp&ssid=vc5oua4hgw0000001625991898946&qH=0ff7a11a5902c9f7',\n",
       " 'https://www.flipkart.com/fastrack-wayfarer-sunglasses/p/itm21c980ee51600?pid=SGLFG94CXYTBH8XR&lid=LSTSGLFG94CXYTBH8XR0WNU9P&marketplace=FLIPKART&q=Sunglasses&store=26x&srno=s_2_43&otracker=search&otracker1=search&fm=SEARCH&iid=3c26db3f-7d9c-4048-84a9-a0805cb11439.SGLFG94CXYTBH8XR.SEARCH&ppt=sp&ppn=sp&ssid=vc5oua4hgw0000001625991898946&qH=0ff7a11a5902c9f7',\n",
       " 'https://www.flipkart.com/royal-son-retro-square-sunglasses/p/itm212388ef7fc65?pid=SGLFNFU4MMKYSCFH&lid=LSTSGLFNFU4MMKYSCFHCNIBKD&marketplace=FLIPKART&q=Sunglasses&store=26x&srno=s_2_44&otracker=search&otracker1=search&fm=SEARCH&iid=en_qmRUUQdc4y%2B0m14mRx7Xmy2v4QijxAAJQiqc9Xwwh%2BjzDUvZxheD3dWEpgP8v0JSG6Ff85BCnt3MvnG4Y7LIFQ%3D%3D&ppt=sp&ppn=sp&ssid=vc5oua4hgw0000001625991898946&qH=0ff7a11a5902c9f7',\n",
       " 'https://www.flipkart.com/kingsunglasses-rectangular-sunglasses/p/itm64b34ea1657a8?pid=SGLFY9FKJNVPJWGY&lid=LSTSGLFY9FKJNVPJWGY0JURHX&marketplace=FLIPKART&q=Sunglasses&store=26x&srno=s_2_45&otracker=search&otracker1=search&fm=SEARCH&iid=3c26db3f-7d9c-4048-84a9-a0805cb11439.SGLFY9FKJNVPJWGY.SEARCH&ppt=sp&ppn=sp&ssid=vc5oua4hgw0000001625991898946&qH=0ff7a11a5902c9f7',\n",
       " 'https://www.flipkart.com/hipe-sports-sunglasses/p/itm3e54ea56c399f?pid=SGLFGYGHYR7AAJPJ&lid=LSTSGLFGYGHYR7AAJPJMUU6KY&marketplace=FLIPKART&q=Sunglasses&store=26x&srno=s_2_46&otracker=search&otracker1=search&fm=SEARCH&iid=3c26db3f-7d9c-4048-84a9-a0805cb11439.SGLFGYGHYR7AAJPJ.SEARCH&ppt=sp&ppn=sp&ssid=vc5oua4hgw0000001625991898946&qH=0ff7a11a5902c9f7',\n",
       " 'https://www.flipkart.com/rozzetta-craft-rectangular-sunglasses/p/itm7e717fb4e4af0?pid=SGLFX84MT48ZH7RZ&lid=LSTSGLFX84MT48ZH7RZPN64SZ&marketplace=FLIPKART&q=Sunglasses&store=26x&srno=s_2_47&otracker=search&otracker1=search&fm=SEARCH&iid=3c26db3f-7d9c-4048-84a9-a0805cb11439.SGLFX84MT48ZH7RZ.SEARCH&ppt=sp&ppn=sp&ssid=vc5oua4hgw0000001625991898946&qH=0ff7a11a5902c9f7',\n",
       " 'https://www.flipkart.com/fravy-retro-square-sunglasses/p/itma42c41d69987a?pid=SGLFYMDHWZU4BYRG&lid=LSTSGLFYMDHWZU4BYRG0C4QCL&marketplace=FLIPKART&q=Sunglasses&store=26x&srno=s_2_48&otracker=search&otracker1=search&fm=SEARCH&iid=en_qmRUUQdc4y%2B0m14mRx7Xmy2v4QijxAAJQiqc9Xwwh%2BhF9QvaJp5%2B6GXETsUA1VC10si6NQXuFAlCInNgox6OTg%3D%3D&ppt=sp&ppn=sp&ssid=vc5oua4hgw0000001625991898946&qH=0ff7a11a5902c9f7',\n",
       " 'https://www.flipkart.com/kingsunglasses-round-sunglasses/p/itm810221f4c6ed2?pid=SGLFY5GSCZFRHGFS&lid=LSTSGLFY5GSCZFRHGFSUYKPT0&marketplace=FLIPKART&q=Sunglasses&store=26x&srno=s_2_49&otracker=search&otracker1=search&fm=SEARCH&iid=3c26db3f-7d9c-4048-84a9-a0805cb11439.SGLFY5GSCZFRHGFS.SEARCH&ppt=sp&ppn=sp&ssid=vc5oua4hgw0000001625991898946&qH=0ff7a11a5902c9f7',\n",
       " 'https://www.flipkart.com/elegante-round-sunglasses/p/itm58a4f476a7ae1?pid=SGLFZ6NZJ2QH7EGH&lid=LSTSGLFZ6NZJ2QH7EGHOKX9P3&marketplace=FLIPKART&q=Sunglasses&store=26x&srno=s_2_50&otracker=search&otracker1=search&fm=SEARCH&iid=3c26db3f-7d9c-4048-84a9-a0805cb11439.SGLFZ6NZJ2QH7EGH.SEARCH&ppt=sp&ppn=sp&ssid=vc5oua4hgw0000001625991898946&qH=0ff7a11a5902c9f7',\n",
       " 'https://www.flipkart.com/piraso-aviator-sunglasses/p/itma9ed6fe9b3b86?pid=SGLFZJQUNAHYUCAS&lid=LSTSGLFZJQUNAHYUCASKDXKTE&marketplace=FLIPKART&q=Sunglasses&store=26x&srno=s_2_51&otracker=search&otracker1=search&fm=SEARCH&iid=3c26db3f-7d9c-4048-84a9-a0805cb11439.SGLFZJQUNAHYUCAS.SEARCH&ppt=sp&ppn=sp&ssid=vc5oua4hgw0000001625991898946&qH=0ff7a11a5902c9f7',\n",
       " 'https://www.flipkart.com/fravy-retro-square-sunglasses/p/itm0465bb9805684?pid=SGLFVRYP9PAXCH9E&lid=LSTSGLFVRYP9PAXCH9ES1SWL9&marketplace=FLIPKART&q=Sunglasses&store=26x&srno=s_2_52&otracker=search&otracker1=search&fm=SEARCH&iid=en_qmRUUQdc4y%2B0m14mRx7Xmy2v4QijxAAJQiqc9Xwwh%2BjA5AtiYWxS5pYEbvGIZBlHh1YR8ugXkL0%2FNQbPGbjeyA%3D%3D&ppt=sp&ppn=sp&ssid=vc5oua4hgw0000001625991898946&qH=0ff7a11a5902c9f7',\n",
       " 'https://www.flipkart.com/kingsunglasses-wayfarer-wayfarer-sunglasses/p/itm284f3ffbb5a56?pid=SGLFPSNCXVVP78AA&lid=LSTSGLFPSNCXVVP78AAWQUOML&marketplace=FLIPKART&q=Sunglasses&store=26x&srno=s_2_53&otracker=search&otracker1=search&fm=SEARCH&iid=3c26db3f-7d9c-4048-84a9-a0805cb11439.SGLFPSNCXVVP78AA.SEARCH&ppt=sp&ppn=sp&ssid=vc5oua4hgw0000001625991898946&qH=0ff7a11a5902c9f7',\n",
       " 'https://www.flipkart.com/hipe-round-sunglasses/p/itm05dde0582be36?pid=SGLFQETNDUT4ZRPX&lid=LSTSGLFQETNDUT4ZRPXSFWXQA&marketplace=FLIPKART&q=Sunglasses&store=26x&srno=s_2_54&otracker=search&otracker1=search&fm=SEARCH&iid=3c26db3f-7d9c-4048-84a9-a0805cb11439.SGLFQETNDUT4ZRPX.SEARCH&ppt=sp&ppn=sp&ssid=vc5oua4hgw0000001625991898946&qH=0ff7a11a5902c9f7',\n",
       " 'https://www.flipkart.com/rozzetta-craft-round-sunglasses/p/itm50b1a774b7e0d?pid=SGLFMFKYUQNWGHWT&lid=LSTSGLFMFKYUQNWGHWTZ6YYV4&marketplace=FLIPKART&q=Sunglasses&store=26x&srno=s_2_55&otracker=search&otracker1=search&fm=SEARCH&iid=3c26db3f-7d9c-4048-84a9-a0805cb11439.SGLFMFKYUQNWGHWT.SEARCH&ppt=sp&ppn=sp&ssid=vc5oua4hgw0000001625991898946&qH=0ff7a11a5902c9f7',\n",
       " 'https://www.flipkart.com/royal-son-rectangular-sunglasses/p/itmfhmsrkchzyr9y?pid=SGLFHHV5PXK3GZZ3&lid=LSTSGLFHHV5PXK3GZZ346BCCJ&marketplace=FLIPKART&q=Sunglasses&store=26x&srno=s_2_56&otracker=search&otracker1=search&fm=SEARCH&iid=en_qmRUUQdc4y%2B0m14mRx7Xmy2v4QijxAAJQiqc9Xwwh%2BhLb2VhoZghWVqXJjnhtQDYhh3Wr%2BpR2Uqp3Xiwi2g9nA%3D%3D&ppt=sp&ppn=sp&ssid=vc5oua4hgw0000001625991898946&qH=0ff7a11a5902c9f7',\n",
       " 'https://www.flipkart.com/nuvew-aviator-sunglasses/p/itm1b5c5bd8eee84?pid=SGLFKJW39ZRP8MYU&lid=LSTSGLFKJW39ZRP8MYUANUM4Q&marketplace=FLIPKART&q=Sunglasses&store=26x&srno=s_2_57&otracker=search&otracker1=search&fm=SEARCH&iid=3c26db3f-7d9c-4048-84a9-a0805cb11439.SGLFKJW39ZRP8MYU.SEARCH&ppt=sp&ppn=sp&ssid=vc5oua4hgw0000001625991898946&qH=0ff7a11a5902c9f7',\n",
       " 'https://www.flipkart.com/singco-india-aviator-sunglasses/p/itm2bc818fcd5d29?pid=SGLFH5ZGZGPZJ5DP&lid=LSTSGLFH5ZGZGPZJ5DPAYBD27&marketplace=FLIPKART&q=Sunglasses&store=26x&srno=s_2_58&otracker=search&otracker1=search&fm=SEARCH&iid=3c26db3f-7d9c-4048-84a9-a0805cb11439.SGLFH5ZGZGPZJ5DP.SEARCH&ppt=sp&ppn=sp&ssid=vc5oua4hgw0000001625991898946&qH=0ff7a11a5902c9f7',\n",
       " 'https://www.flipkart.com/kingsunglasses-rectangular-sunglasses/p/itm27163acdd2c49?pid=SGLGYFG8RQHMHWKH&lid=LSTSGLGYFG8RQHMHWKHFNQD7E&marketplace=FLIPKART&q=Sunglasses&store=26x&srno=s_2_59&otracker=search&otracker1=search&fm=SEARCH&iid=3c26db3f-7d9c-4048-84a9-a0805cb11439.SGLGYFG8RQHMHWKH.SEARCH&ppt=sp&ppn=sp&ssid=vc5oua4hgw0000001625991898946&qH=0ff7a11a5902c9f7',\n",
       " 'https://www.flipkart.com/rozzetta-craft-shield-sunglasses/p/itmc5444d5058e09?pid=SGLFPZ65YQPYKUQP&lid=LSTSGLFPZ65YQPYKUQP4W0V5O&marketplace=FLIPKART&q=Sunglasses&store=26x&srno=s_2_60&otracker=search&otracker1=search&fm=SEARCH&iid=en_qmRUUQdc4y%2B0m14mRx7Xmy2v4QijxAAJQiqc9Xwwh%2Bit52A2H9hICozAEBas2rNKZMvNoiTBE%2BEl1Ea7HXUbvw%3D%3D&ppt=sp&ppn=sp&ssid=vc5oua4hgw0000001625991898946&qH=0ff7a11a5902c9f7',\n",
       " 'https://www.flipkart.com/singco-india-sports-sunglasses/p/itmb6d550eb0932b?pid=SGLFVYKGREY28QVK&lid=LSTSGLFVYKGREY28QVKRAX3RH&marketplace=FLIPKART&q=Sunglasses&store=26x&srno=s_2_61&otracker=search&otracker1=search&fm=SEARCH&iid=3c26db3f-7d9c-4048-84a9-a0805cb11439.SGLFVYKGREY28QVK.SEARCH&ppt=sp&ppn=sp&ssid=vc5oua4hgw0000001625991898946&qH=0ff7a11a5902c9f7',\n",
       " 'https://www.flipkart.com/poland-wayfarer-sunglasses/p/itmf5rz8q7benykg?pid=SGLF5RXAYNCUZZZ2&lid=LSTSGLF5RXAYNCUZZZ2HEUI6X&marketplace=FLIPKART&q=Sunglasses&store=26x&srno=s_2_62&otracker=search&otracker1=search&fm=SEARCH&iid=3c26db3f-7d9c-4048-84a9-a0805cb11439.SGLF5RXAYNCUZZZ2.SEARCH&ppt=sp&ppn=sp&ssid=vc5oua4hgw0000001625991898946&qH=0ff7a11a5902c9f7',\n",
       " 'https://www.flipkart.com/kingsunglasses-round-sunglasses/p/itmfck3ygkkwgwrh?pid=SGLFCJVMYUEZSJSP&lid=LSTSGLFCJVMYUEZSJSPJCY2VU&marketplace=FLIPKART&q=Sunglasses&store=26x&srno=s_2_63&otracker=search&otracker1=search&fm=SEARCH&iid=3c26db3f-7d9c-4048-84a9-a0805cb11439.SGLFCJVMYUEZSJSP.SEARCH&ppt=sp&ppn=sp&ssid=vc5oua4hgw0000001625991898946&qH=0ff7a11a5902c9f7',\n",
       " 'https://www.flipkart.com/piraso-aviator-sunglasses/p/itm1a5d20174a62d?pid=SGLFHBYNTTWQFH5V&lid=LSTSGLFHBYNTTWQFH5VABQRDZ&marketplace=FLIPKART&q=Sunglasses&store=26x&srno=s_2_64&otracker=search&otracker1=search&fm=SEARCH&iid=en_qmRUUQdc4y%2B0m14mRx7Xmy2v4QijxAAJQiqc9Xwwh%2BiCoIgaR9rsdBp5c79jX%2FI3Tyt%2F1jegcPCqbcOMMrNh8A%3D%3D&ppt=sp&ppn=sp&ssid=vc5oua4hgw0000001625991898946&qH=0ff7a11a5902c9f7',\n",
       " 'https://www.flipkart.com/royal-son-wayfarer-sunglasses/p/itmfgaf93tm9amaa?pid=SGLFGAYYCQWCN5FH&lid=LSTSGLFGAYYCQWCN5FHJBRXON&marketplace=FLIPKART&q=Sunglasses&store=26x&srno=s_2_65&otracker=search&otracker1=search&fm=SEARCH&iid=3c26db3f-7d9c-4048-84a9-a0805cb11439.SGLFGAYYCQWCN5FH.SEARCH&ppt=sp&ppn=sp&ssid=vc5oua4hgw0000001625991898946&qH=0ff7a11a5902c9f7',\n",
       " 'https://www.flipkart.com/hipe-round-sunglasses/p/itm8a01459b4f641?pid=SGLFPS56TZ9AYNK9&lid=LSTSGLFPS56TZ9AYNK9ZIGSCO&marketplace=FLIPKART&q=Sunglasses&store=26x&srno=s_2_66&otracker=search&otracker1=search&fm=SEARCH&iid=3c26db3f-7d9c-4048-84a9-a0805cb11439.SGLFPS56TZ9AYNK9.SEARCH&ppt=sp&ppn=sp&ssid=vc5oua4hgw0000001625991898946&qH=0ff7a11a5902c9f7',\n",
       " 'https://www.flipkart.com/fastrack-wayfarer-sunglasses/p/itma9864babc060c?pid=SGLFG94CV3EVXTZE&lid=LSTSGLFG94CV3EVXTZEPQ88ZR&marketplace=FLIPKART&q=Sunglasses&store=26x&srno=s_2_67&otracker=search&otracker1=search&fm=SEARCH&iid=3c26db3f-7d9c-4048-84a9-a0805cb11439.SGLFG94CV3EVXTZE.SEARCH&ppt=sp&ppn=sp&ssid=vc5oua4hgw0000001625991898946&qH=0ff7a11a5902c9f7',\n",
       " 'https://www.flipkart.com/piraso-aviator-sunglasses/p/itmfhb7v2an4mwgz?pid=SGLFHBFMMWHZCATJ&lid=LSTSGLFHBFMMWHZCATJ2UX7NL&marketplace=FLIPKART&q=Sunglasses&store=26x&srno=s_2_68&otracker=search&otracker1=search&fm=SEARCH&iid=en_qmRUUQdc4y%2B0m14mRx7Xmy2v4QijxAAJQiqc9Xwwh%2BhTJqsAIYEpVB60IPXv4vRhxqUuekERRHGatkqeAwEHdQ%3D%3D&ppt=sp&ppn=sp&ssid=vc5oua4hgw0000001625991898946&qH=0ff7a11a5902c9f7',\n",
       " 'https://www.flipkart.com/phenomenal-retro-square-sunglasses/p/itmd2e48206db032?pid=SGLFU7DSZHYHHN3G&lid=LSTSGLFU7DSZHYHHN3GJENRM7&marketplace=FLIPKART&q=Sunglasses&store=26x&srno=s_2_69&otracker=search&otracker1=search&fm=SEARCH&iid=3c26db3f-7d9c-4048-84a9-a0805cb11439.SGLFU7DSZHYHHN3G.SEARCH&ppt=sp&ppn=sp&ssid=vc5oua4hgw0000001625991898946&qH=0ff7a11a5902c9f7',\n",
       " 'https://www.flipkart.com/piraso-aviator-sunglasses/p/itm4210bb67b2728?pid=SGLFPFD7WRNASWSV&lid=LSTSGLFPFD7WRNASWSVJLGDDX&marketplace=FLIPKART&q=Sunglasses&store=26x&srno=s_2_70&otracker=search&otracker1=search&fm=SEARCH&iid=3c26db3f-7d9c-4048-84a9-a0805cb11439.SGLFPFD7WRNASWSV.SEARCH&ppt=sp&ppn=sp&ssid=vc5oua4hgw0000001625991898946&qH=0ff7a11a5902c9f7',\n",
       " 'https://www.flipkart.com/royal-son-aviator-sunglasses/p/itme479614d796cc?pid=SGLED3YH6AQQFTJT&lid=LSTSGLED3YH6AQQFTJTD9JARU&marketplace=FLIPKART&q=Sunglasses&store=26x&srno=s_2_71&otracker=search&otracker1=search&fm=SEARCH&iid=3c26db3f-7d9c-4048-84a9-a0805cb11439.SGLED3YH6AQQFTJT.SEARCH&ppt=sp&ppn=sp&ssid=vc5oua4hgw0000001625991898946&qH=0ff7a11a5902c9f7',\n",
       " 'https://www.flipkart.com/rozzetta-craft-round-sunglasses/p/itm5d1752789cc22?pid=SGLFMGVZP22SPRTQ&lid=LSTSGLFMGVZP22SPRTQCVS7RR&marketplace=FLIPKART&q=Sunglasses&store=26x&srno=s_2_72&otracker=search&otracker1=search&fm=SEARCH&iid=en_qmRUUQdc4y%2B0m14mRx7Xmy2v4QijxAAJQiqc9Xwwh%2BixvtLDNdECMIyQ6POsS7LG2n9RYFpUj%2Bi9NxUL7L0fHg%3D%3D&ppt=sp&ppn=sp&ssid=vc5oua4hgw0000001625991898946&qH=0ff7a11a5902c9f7',\n",
       " 'https://www.flipkart.com/kingsunglasses-rectangular-sunglasses/p/itmdf10ca043ccd9?pid=SGLGYFGGUKQF2VYD&lid=LSTSGLGYFGGUKQF2VYDE3BTJV&marketplace=FLIPKART&q=Sunglasses&store=26x&srno=s_2_73&otracker=search&otracker1=search&fm=SEARCH&iid=3c26db3f-7d9c-4048-84a9-a0805cb11439.SGLGYFGGUKQF2VYD.SEARCH&ppt=sp&ppn=sp&ssid=vc5oua4hgw0000001625991898946&qH=0ff7a11a5902c9f7',\n",
       " 'https://www.flipkart.com/phenomenal-retro-square-sunglasses/p/itmd8e965df77be9?pid=SGLFUWZTAWHY9CB6&lid=LSTSGLFUWZTAWHY9CB6ZMETGU&marketplace=FLIPKART&q=Sunglasses&store=26x&srno=s_2_74&otracker=search&otracker1=search&fm=SEARCH&iid=3c26db3f-7d9c-4048-84a9-a0805cb11439.SGLFUWZTAWHY9CB6.SEARCH&ppt=sp&ppn=sp&ssid=vc5oua4hgw0000001625991898946&qH=0ff7a11a5902c9f7',\n",
       " 'https://www.flipkart.com/hipe-rectangular-sunglasses/p/itmd333d813bb3c8?pid=SGLFXVFZH28K9HPQ&lid=LSTSGLFXVFZH28K9HPQDF5WEJ&marketplace=FLIPKART&q=Sunglasses&store=26x&srno=s_2_75&otracker=search&otracker1=search&fm=SEARCH&iid=3c26db3f-7d9c-4048-84a9-a0805cb11439.SGLFXVFZH28K9HPQ.SEARCH&ppt=sp&ppn=sp&ssid=vc5oua4hgw0000001625991898946&qH=0ff7a11a5902c9f7',\n",
       " 'https://www.flipkart.com/eyellusion-retro-square-sunglasses/p/itmde400264ff26d?pid=SGLFYN4VAT8KNFTW&lid=LSTSGLFYN4VAT8KNFTWUAXAW4&marketplace=FLIPKART&q=Sunglasses&store=26x&srno=s_2_76&otracker=search&otracker1=search&fm=SEARCH&iid=en_qmRUUQdc4y%2B0m14mRx7Xmy2v4QijxAAJQiqc9Xwwh%2BhKnp4Nfx454v7smEJ0O8GVs8V3pG2UAkmaw9gt4zmABw%3D%3D&ppt=sp&ppn=sp&ssid=vc5oua4hgw0000001625991898946&qH=0ff7a11a5902c9f7',\n",
       " 'https://www.flipkart.com/hipe-round-butterfly-sunglasses/p/itm3232120326d32?pid=SGLFXFHYF7WMTFKX&lid=LSTSGLFXFHYF7WMTFKXDOILDH&marketplace=FLIPKART&q=Sunglasses&store=26x&srno=s_2_77&otracker=search&otracker1=search&fm=SEARCH&iid=3c26db3f-7d9c-4048-84a9-a0805cb11439.SGLFXFHYF7WMTFKX.SEARCH&ppt=sp&ppn=sp&ssid=vc5oua4hgw0000001625991898946&qH=0ff7a11a5902c9f7',\n",
       " 'https://www.flipkart.com/singco-india-aviator-wayfarer-sunglasses/p/itmf5b6c6e88f44a?pid=SGLFF9BTZUQZGZ3H&lid=LSTSGLFF9BTZUQZGZ3HMQDMDM&marketplace=FLIPKART&q=Sunglasses&store=26x&srno=s_2_78&otracker=search&otracker1=search&fm=SEARCH&iid=3c26db3f-7d9c-4048-84a9-a0805cb11439.SGLFF9BTZUQZGZ3H.SEARCH&ppt=sp&ppn=sp&ssid=vc5oua4hgw0000001625991898946&qH=0ff7a11a5902c9f7',\n",
       " 'https://www.flipkart.com/phenomenal-clubmaster-sunglasses/p/itmfbnws6gfw8rqy?pid=SGLFBNT2KVPNBPSN&lid=LSTSGLFBNT2KVPNBPSNC5SQTR&marketplace=FLIPKART&q=Sunglasses&store=26x&srno=s_2_79&otracker=search&otracker1=search&fm=SEARCH&iid=3c26db3f-7d9c-4048-84a9-a0805cb11439.SGLFBNT2KVPNBPSN.SEARCH&ppt=sp&ppn=sp&ssid=vc5oua4hgw0000001625991898946&qH=0ff7a11a5902c9f7',\n",
       " 'https://www.flipkart.com/povty-wayfarer-sunglasses/p/itmc1b53a685d5c9?pid=SGLFPEWHA3PMGGYU&lid=LSTSGLFPEWHA3PMGGYUESZMPF&marketplace=FLIPKART&q=Sunglasses&store=26x&srno=s_2_80&otracker=search&otracker1=search&fm=SEARCH&iid=en_qmRUUQdc4y%2B0m14mRx7Xmy2v4QijxAAJQiqc9Xwwh%2Bho2YSybPWPtJRsIW3pGbQnHIqQM6GT07LtOekS9x%2FYOg%3D%3D&ppt=sp&ppn=sp&ssid=vc5oua4hgw0000001625991898946&qH=0ff7a11a5902c9f7']"
      ]
     },
     "execution_count": 158,
     "metadata": {},
     "output_type": "execute_result"
    }
   ],
   "source": [
    "#Fetching next 40 urls :\n",
    "urls2 = []\n",
    "\n",
    "for i in driver.find_elements_by_xpath(\"//a[@class='_2UzuFa']\"):\n",
    "    urls2.append(i.get_attribute(\"href\"))\n",
    "urls2"
   ]
  },
  {
   "cell_type": "code",
   "execution_count": 159,
   "metadata": {},
   "outputs": [],
   "source": [
    "#Clicking next button again\n",
    "\n",
    "btn.click()"
   ]
  },
  {
   "cell_type": "code",
   "execution_count": 160,
   "metadata": {},
   "outputs": [
    {
     "data": {
      "text/plain": [
       "['https://www.flipkart.com/fastrack-wayfarer-sunglasses/p/itmd5a7d30828893?pid=SGLFG94DZ7PBDZZN&lid=LSTSGLFG94DZ7PBDZZNRKZB8H&marketplace=FLIPKART&q=Sunglasses&store=26x&srno=s_3_81&otracker=search&otracker1=search&fm=SEARCH&iid=bdaf18f2-5cab-45b9-945f-2c88d5775575.SGLFG94DZ7PBDZZN.SEARCH&ppt=sp&ppn=sp&ssid=vc5oua4hgw0000001625991898946&qH=0ff7a11a5902c9f7',\n",
       " 'https://www.flipkart.com/fastrack-wayfarer-sunglasses/p/itmf7h5mhydrp7na?pid=SGLEXGFWVZAGZXHD&lid=LSTSGLEXGFWVZAGZXHDDI6IKJ&marketplace=FLIPKART&q=Sunglasses&store=26x&srno=s_3_82&otracker=search&otracker1=search&fm=SEARCH&iid=bdaf18f2-5cab-45b9-945f-2c88d5775575.SGLEXGFWVZAGZXHD.SEARCH&ppt=sp&ppn=sp&ssid=vc5oua4hgw0000001625991898946&qH=0ff7a11a5902c9f7',\n",
       " 'https://www.flipkart.com/royal-son-wayfarer-sunglasses/p/itmfgaf9pdmpxhre?pid=SGLFGAYYFCAGPJ2N&lid=LSTSGLFGAYYFCAGPJ2NUDBKSR&marketplace=FLIPKART&q=Sunglasses&store=26x&srno=s_3_83&otracker=search&otracker1=search&fm=SEARCH&iid=bdaf18f2-5cab-45b9-945f-2c88d5775575.SGLFGAYYFCAGPJ2N.SEARCH&ppt=sp&ppn=sp&ssid=vc5oua4hgw0000001625991898946&qH=0ff7a11a5902c9f7',\n",
       " 'https://www.flipkart.com/wrogn-aviator-sunglasses/p/itm4580405e8b274?pid=SGLFVHMCZHFQCYBW&lid=LSTSGLFVHMCZHFQCYBWPACMJI&marketplace=FLIPKART&q=Sunglasses&store=26x&srno=s_3_84&otracker=search&otracker1=search&fm=SEARCH&iid=en_hTlaOUuQYkuprjx8Ht%2F28ZG4gxF0wVSZ36Am8YteLGS%2Fs%2BIuiv6VZHz3XLpXHknQolsyhr0LuwYLqeGnadRqxw%3D%3D&ppt=sp&ppn=sp&ssid=vc5oua4hgw0000001625991898946&qH=0ff7a11a5902c9f7',\n",
       " 'https://www.flipkart.com/hipe-wayfarer-sunglasses/p/itm57a9456b8c71b?pid=SGLFZA3AXMDG4SNE&lid=LSTSGLFZA3AXMDG4SNEWM2IYA&marketplace=FLIPKART&q=Sunglasses&store=26x&srno=s_3_85&otracker=search&otracker1=search&fm=SEARCH&iid=bdaf18f2-5cab-45b9-945f-2c88d5775575.SGLFZA3AXMDG4SNE.SEARCH&ppt=sp&ppn=sp&ssid=vc5oua4hgw0000001625991898946&qH=0ff7a11a5902c9f7',\n",
       " 'https://www.flipkart.com/rozzetta-craft-rectangular-sunglasses/p/itmbcdad02770603?pid=SGLFSSFAYTD858TY&lid=LSTSGLFSSFAYTD858TYZROTZL&marketplace=FLIPKART&q=Sunglasses&store=26x&srno=s_3_86&otracker=search&otracker1=search&fm=SEARCH&iid=bdaf18f2-5cab-45b9-945f-2c88d5775575.SGLFSSFAYTD858TY.SEARCH&ppt=sp&ppn=sp&ssid=vc5oua4hgw0000001625991898946&qH=0ff7a11a5902c9f7',\n",
       " 'https://www.flipkart.com/singco-aviator-sunglasses/p/itmad59ee26b3c94?pid=SGLF3859NKPNFBSW&lid=LSTSGLF3859NKPNFBSWJF0WXM&marketplace=FLIPKART&q=Sunglasses&store=26x&srno=s_3_87&otracker=search&otracker1=search&fm=SEARCH&iid=bdaf18f2-5cab-45b9-945f-2c88d5775575.SGLF3859NKPNFBSW.SEARCH&ppt=sp&ppn=sp&ssid=vc5oua4hgw0000001625991898946&qH=0ff7a11a5902c9f7',\n",
       " 'https://www.flipkart.com/royal-son-rectangular-sunglasses/p/itm50e19c99dee25?pid=SGLFPBJCYDGGSHJZ&lid=LSTSGLFPBJCYDGGSHJZKNNFDP&marketplace=FLIPKART&q=Sunglasses&store=26x&srno=s_3_88&otracker=search&otracker1=search&fm=SEARCH&iid=en_hTlaOUuQYkuprjx8Ht%2F28ZG4gxF0wVSZ36Am8YteLGR%2FGexTGEt9RzHAyuqan9O24PC0Xk6PNuKcIW3rSpEcEw%3D%3D&ppt=sp&ppn=sp&ssid=vc5oua4hgw0000001625991898946&qH=0ff7a11a5902c9f7',\n",
       " 'https://www.flipkart.com/fastrack-wayfarer-sunglasses/p/itmf79dqccyjbdez?pid=SGLF79DQNHPY9N6U&lid=LSTSGLF79DQNHPY9N6UHBMJVE&marketplace=FLIPKART&q=Sunglasses&store=26x&srno=s_3_89&otracker=search&otracker1=search&fm=SEARCH&iid=bdaf18f2-5cab-45b9-945f-2c88d5775575.SGLF79DQNHPY9N6U.SEARCH&ppt=sp&ppn=sp&ssid=vc5oua4hgw0000001625991898946&qH=0ff7a11a5902c9f7',\n",
       " 'https://www.flipkart.com/fravy-retro-square-sunglasses/p/itm04fda6395be09?pid=SGLFVSMZSXHDR3QG&lid=LSTSGLFVSMZSXHDR3QGLQ4IJX&marketplace=FLIPKART&q=Sunglasses&store=26x&srno=s_3_90&otracker=search&otracker1=search&fm=SEARCH&iid=bdaf18f2-5cab-45b9-945f-2c88d5775575.SGLFVSMZSXHDR3QG.SEARCH&ppt=sp&ppn=sp&ssid=vc5oua4hgw0000001625991898946&qH=0ff7a11a5902c9f7',\n",
       " 'https://www.flipkart.com/rozzetta-craft-retro-square-sunglasses/p/itmfd05447fa5361?pid=SGLFZ2YCQ7UQ3XBQ&lid=LSTSGLFZ2YCQ7UQ3XBQRG02II&marketplace=FLIPKART&q=Sunglasses&store=26x&srno=s_3_91&otracker=search&otracker1=search&fm=SEARCH&iid=bdaf18f2-5cab-45b9-945f-2c88d5775575.SGLFZ2YCQ7UQ3XBQ.SEARCH&ppt=sp&ppn=sp&ssid=vc5oua4hgw0000001625991898946&qH=0ff7a11a5902c9f7',\n",
       " 'https://www.flipkart.com/aislin-wayfarer-sunglasses/p/itm03b74e9890bd2?pid=SGLFRGSVHQZMUKPA&lid=LSTSGLFRGSVHQZMUKPASVROAW&marketplace=FLIPKART&q=Sunglasses&store=26x&srno=s_3_92&otracker=search&otracker1=search&fm=SEARCH&iid=en_hTlaOUuQYkuprjx8Ht%2F28ZG4gxF0wVSZ36Am8YteLGRHkHCXnlXb2CL5kJuth6A3vG0dK7wrc8zTcyvAdqf0ng%3D%3D&ppt=sp&ppn=sp&ssid=vc5oua4hgw0000001625991898946&qH=0ff7a11a5902c9f7',\n",
       " 'https://www.flipkart.com/nuvew-wayfarer-sunglasses/p/itmb1f24534ef860?pid=SGLFT46ZRHWPXBPR&lid=LSTSGLFT46ZRHWPXBPRNX9KER&marketplace=FLIPKART&q=Sunglasses&store=26x&srno=s_3_93&otracker=search&otracker1=search&fm=SEARCH&iid=bdaf18f2-5cab-45b9-945f-2c88d5775575.SGLFT46ZRHWPXBPR.SEARCH&ppt=sp&ppn=sp&ssid=vc5oua4hgw0000001625991898946&qH=0ff7a11a5902c9f7',\n",
       " 'https://www.flipkart.com/irus-idee-rectangular-sunglasses/p/itm15f1f8c72b6be?pid=SGLFUG58GGAZXPFY&lid=LSTSGLFUG58GGAZXPFYYHEKLD&marketplace=FLIPKART&q=Sunglasses&store=26x&srno=s_3_94&otracker=search&otracker1=search&fm=SEARCH&iid=bdaf18f2-5cab-45b9-945f-2c88d5775575.SGLFUG58GGAZXPFY.SEARCH&ppt=sp&ppn=sp&ssid=vc5oua4hgw0000001625991898946&qH=0ff7a11a5902c9f7',\n",
       " 'https://www.flipkart.com/nuvew-aviator-sunglasses/p/itmf9qyy7chzyfkq?pid=SGLF9QSHC3EM2RP5&lid=LSTSGLF9QSHC3EM2RP5MHYTKK&marketplace=FLIPKART&q=Sunglasses&store=26x&srno=s_3_95&otracker=search&otracker1=search&fm=SEARCH&iid=bdaf18f2-5cab-45b9-945f-2c88d5775575.SGLF9QSHC3EM2RP5.SEARCH&ppt=sp&ppn=sp&ssid=vc5oua4hgw0000001625991898946&qH=0ff7a11a5902c9f7',\n",
       " 'https://www.flipkart.com/royal-son-retro-square-sunglasses/p/itmaf727a17b0c96?pid=SGLFPBJE3HN3RWVM&lid=LSTSGLFPBJE3HN3RWVMABNEBX&marketplace=FLIPKART&q=Sunglasses&store=26x&srno=s_3_96&otracker=search&otracker1=search&fm=SEARCH&iid=en_hTlaOUuQYkuprjx8Ht%2F28ZG4gxF0wVSZ36Am8YteLGQ139iGOv7PsGjLQ83xoZlCnpSgSsB87y3sJ8MGim%2Fe3g%3D%3D&ppt=sp&ppn=sp&ssid=vc5oua4hgw0000001625991898946&qH=0ff7a11a5902c9f7',\n",
       " 'https://www.flipkart.com/hipe-aviator-sunglasses/p/itm33a43d44704ea?pid=SGLFY7UFDQ3WKZYG&lid=LSTSGLFY7UFDQ3WKZYGIOVRC2&marketplace=FLIPKART&q=Sunglasses&store=26x&srno=s_3_97&otracker=search&otracker1=search&fm=SEARCH&iid=bdaf18f2-5cab-45b9-945f-2c88d5775575.SGLFY7UFDQ3WKZYG.SEARCH&ppt=sp&ppn=sp&ssid=vc5oua4hgw0000001625991898946&qH=0ff7a11a5902c9f7',\n",
       " 'https://www.flipkart.com/fastrack-wayfarer-sunglasses/p/itmf8a68vrn22d6d?pid=SGLF8A689P4JGV83&lid=LSTSGLF8A689P4JGV83P0NNWC&marketplace=FLIPKART&q=Sunglasses&store=26x&srno=s_3_98&otracker=search&otracker1=search&fm=SEARCH&iid=bdaf18f2-5cab-45b9-945f-2c88d5775575.SGLF8A689P4JGV83.SEARCH&ppt=sp&ppn=sp&ssid=vc5oua4hgw0000001625991898946&qH=0ff7a11a5902c9f7',\n",
       " 'https://www.flipkart.com/fastrack-wayfarer-sunglasses/p/itm4d9dc6cb9ea61?pid=SGLFG94DQWP79UUG&lid=LSTSGLFG94DQWP79UUG6HT6MU&marketplace=FLIPKART&q=Sunglasses&store=26x&srno=s_3_99&otracker=search&otracker1=search&fm=SEARCH&iid=bdaf18f2-5cab-45b9-945f-2c88d5775575.SGLFG94DQWP79UUG.SEARCH&ppt=sp&ppn=sp&ssid=vc5oua4hgw0000001625991898946&qH=0ff7a11a5902c9f7',\n",
       " 'https://www.flipkart.com/piraso-aviator-sunglasses/p/itm3830efcc9aea6?pid=SGLFZJPGKZR4ZDZJ&lid=LSTSGLFZJPGKZR4ZDZJOEH8B0&marketplace=FLIPKART&q=Sunglasses&store=26x&srno=s_3_100&otracker=search&otracker1=search&fm=SEARCH&iid=en_hTlaOUuQYkuprjx8Ht%2F28ZG4gxF0wVSZ36Am8YteLGS5kEjDy4U0oA%2FS5Crw9WBHO%2Fl1A6%2Fzwn2J0PKFajJnxQ%3D%3D&ppt=sp&ppn=sp&ssid=vc5oua4hgw0000001625991898946&qH=0ff7a11a5902c9f7',\n",
       " 'https://www.flipkart.com/fastrack-wayfarer-sunglasses/p/itmf79dqhfca7q8t?pid=SGLF79DQWCWEFUNR&lid=LSTSGLF79DQWCWEFUNRB9EV8J&marketplace=FLIPKART&q=Sunglasses&store=26x&srno=s_3_101&otracker=search&otracker1=search&fm=SEARCH&iid=bdaf18f2-5cab-45b9-945f-2c88d5775575.SGLF79DQWCWEFUNR.SEARCH&ppt=sp&ppn=sp&ssid=vc5oua4hgw0000001625991898946&qH=0ff7a11a5902c9f7',\n",
       " 'https://www.flipkart.com/elligator-rectangular-retro-square-wayfarer-sunglasses/p/itmcecc08e83a9da?pid=SGLFYJYXEHWZT6KA&lid=LSTSGLFYJYXEHWZT6KAZOKTOF&marketplace=FLIPKART&q=Sunglasses&store=26x&srno=s_3_102&otracker=search&otracker1=search&fm=SEARCH&iid=bdaf18f2-5cab-45b9-945f-2c88d5775575.SGLFYJYXEHWZT6KA.SEARCH&ppt=sp&ppn=sp&ssid=vc5oua4hgw0000001625991898946&qH=0ff7a11a5902c9f7',\n",
       " 'https://www.flipkart.com/gansta-aviator-sunglasses/p/itmf3ykedksubzjh?pid=SGLEWMY4JCRQTG2K&lid=LSTSGLEWMY4JCRQTG2KZCC31D&marketplace=FLIPKART&q=Sunglasses&store=26x&srno=s_3_103&otracker=search&otracker1=search&fm=SEARCH&iid=bdaf18f2-5cab-45b9-945f-2c88d5775575.SGLEWMY4JCRQTG2K.SEARCH&ppt=sp&ppn=sp&ssid=vc5oua4hgw0000001625991898946&qH=0ff7a11a5902c9f7',\n",
       " 'https://www.flipkart.com/elligator-round-sunglasses/p/itm898b54b2da721?pid=SGLFMG3YHA3YHB3B&lid=LSTSGLFMG3YHA3YHB3BRLCXLE&marketplace=FLIPKART&q=Sunglasses&store=26x&srno=s_3_104&otracker=search&otracker1=search&fm=SEARCH&iid=en_hTlaOUuQYkuprjx8Ht%2F28ZG4gxF0wVSZ36Am8YteLGSCetxnGaiILOEbVeZdVDy8Yg%2BxycK9HYOpI2JQ1LzeOQ%3D%3D&ppt=sp&ppn=sp&ssid=vc5oua4hgw0000001625991898946&qH=0ff7a11a5902c9f7',\n",
       " 'https://www.flipkart.com/fastrack-aviator-sunglasses/p/itme4f91ee140d80?pid=SGLFJATQYGHK9P8D&lid=LSTSGLFJATQYGHK9P8DFEFAYH&marketplace=FLIPKART&q=Sunglasses&store=26x&srno=s_3_105&otracker=search&otracker1=search&fm=SEARCH&iid=bdaf18f2-5cab-45b9-945f-2c88d5775575.SGLFJATQYGHK9P8D.SEARCH&ppt=sp&ppn=sp&ssid=vc5oua4hgw0000001625991898946&qH=0ff7a11a5902c9f7',\n",
       " 'https://www.flipkart.com/deixels-wayfarer-sunglasses/p/itmd472d69f3666e?pid=SGLFKMMXWMAEFHMF&lid=LSTSGLFKMMXWMAEFHMFSMSLWM&marketplace=FLIPKART&q=Sunglasses&store=26x&srno=s_3_106&otracker=search&otracker1=search&fm=SEARCH&iid=bdaf18f2-5cab-45b9-945f-2c88d5775575.SGLFKMMXWMAEFHMF.SEARCH&ppt=sp&ppn=sp&ssid=vc5oua4hgw0000001625991898946&qH=0ff7a11a5902c9f7',\n",
       " 'https://www.flipkart.com/gansta-aviator-sunglasses/p/itma841cb28ba5b2?pid=SGLFSFVG8R3XZAMN&lid=LSTSGLFSFVG8R3XZAMNIB8HEQ&marketplace=FLIPKART&q=Sunglasses&store=26x&srno=s_3_107&otracker=search&otracker1=search&fm=SEARCH&iid=bdaf18f2-5cab-45b9-945f-2c88d5775575.SGLFSFVG8R3XZAMN.SEARCH&ppt=sp&ppn=sp&ssid=vc5oua4hgw0000001625991898946&qH=0ff7a11a5902c9f7',\n",
       " 'https://www.flipkart.com/royal-son-aviator-sunglasses/p/itmbd315e7e36fe0?pid=SGLGYPT5UAHQW2TS&lid=LSTSGLGYPT5UAHQW2TSMFQNIV&marketplace=FLIPKART&q=Sunglasses&store=26x&srno=s_3_108&otracker=search&otracker1=search&fm=SEARCH&iid=en_hTlaOUuQYkuprjx8Ht%2F28ZG4gxF0wVSZ36Am8YteLGTQDaw765lIs95tpaawiivNO1vB%2F4p%2BPXKZsgVO0CVDng%3D%3D&ppt=sp&ppn=sp&ssid=vc5oua4hgw0000001625991898946&qH=0ff7a11a5902c9f7',\n",
       " 'https://www.flipkart.com/fastrack-aviator-sunglasses/p/itm707512fc942bc?pid=SGLFKYGHGZU6HVNG&lid=LSTSGLFKYGHGZU6HVNGQJCIFD&marketplace=FLIPKART&q=Sunglasses&store=26x&srno=s_3_109&otracker=search&otracker1=search&fm=SEARCH&iid=bdaf18f2-5cab-45b9-945f-2c88d5775575.SGLFKYGHGZU6HVNG.SEARCH&ppt=sp&ppn=sp&ssid=vc5oua4hgw0000001625991898946&qH=0ff7a11a5902c9f7',\n",
       " 'https://www.flipkart.com/aislin-butterfly-retro-square-sunglasses/p/itma409b55e8037c?pid=SGLFRGT7GJF6GG84&lid=LSTSGLFRGT7GJF6GG84BJPHJY&marketplace=FLIPKART&q=Sunglasses&store=26x&srno=s_3_110&otracker=search&otracker1=search&fm=SEARCH&iid=bdaf18f2-5cab-45b9-945f-2c88d5775575.SGLFRGT7GJF6GG84.SEARCH&ppt=sp&ppn=sp&ssid=vc5oua4hgw0000001625991898946&qH=0ff7a11a5902c9f7',\n",
       " 'https://www.flipkart.com/deixels-round-sunglasses/p/itmdd33fa786bc09?pid=SGLFJ7F7F2F94QZK&lid=LSTSGLFJ7F7F2F94QZKQH7WX5&marketplace=FLIPKART&q=Sunglasses&store=26x&srno=s_3_111&otracker=search&otracker1=search&fm=SEARCH&iid=bdaf18f2-5cab-45b9-945f-2c88d5775575.SGLFJ7F7F2F94QZK.SEARCH&ppt=sp&ppn=sp&ssid=vc5oua4hgw0000001625991898946&qH=0ff7a11a5902c9f7',\n",
       " 'https://www.flipkart.com/royal-son-aviator-sunglasses/p/itm33560be239d86?pid=SGLEQHVEX4WXVXW9&lid=LSTSGLEQHVEX4WXVXW9UYXODI&marketplace=FLIPKART&q=Sunglasses&store=26x&srno=s_3_112&otracker=search&otracker1=search&fm=SEARCH&iid=en_hTlaOUuQYkuprjx8Ht%2F28ZG4gxF0wVSZ36Am8YteLGT8qJpAVbBIETq88eaLB%2BpeNR2ub9PL%2BokZ%2BvI5Y89NRg%3D%3D&ppt=sp&ppn=sp&ssid=vc5oua4hgw0000001625991898946&qH=0ff7a11a5902c9f7',\n",
       " 'https://www.flipkart.com/gansta-wayfarer-sunglasses/p/itm3d5cb285bf693?pid=SGLFV5GC7KVUAK4Y&lid=LSTSGLFV5GC7KVUAK4YSQV2WV&marketplace=FLIPKART&q=Sunglasses&store=26x&srno=s_3_113&otracker=search&otracker1=search&fm=SEARCH&iid=bdaf18f2-5cab-45b9-945f-2c88d5775575.SGLFV5GC7KVUAK4Y.SEARCH&ppt=sp&ppn=sp&ssid=vc5oua4hgw0000001625991898946&qH=0ff7a11a5902c9f7',\n",
       " 'https://www.flipkart.com/singco-india-round-sunglasses/p/itm459cf9b987961?pid=SGLFHJXPKEJAZGFM&lid=LSTSGLFHJXPKEJAZGFMJGBJ5M&marketplace=FLIPKART&q=Sunglasses&store=26x&srno=s_3_114&otracker=search&otracker1=search&fm=SEARCH&iid=bdaf18f2-5cab-45b9-945f-2c88d5775575.SGLFHJXPKEJAZGFM.SEARCH&ppt=sp&ppn=sp&ssid=vc5oua4hgw0000001625991898946&qH=0ff7a11a5902c9f7',\n",
       " 'https://www.flipkart.com/singco-india-wrap-around-retro-square-over-sized-sunglasses/p/itm6903a4c8e406a?pid=SGLFUKACGVUQMUYS&lid=LSTSGLFUKACGVUQMUYSSIYPFI&marketplace=FLIPKART&q=Sunglasses&store=26x&srno=s_3_115&otracker=search&otracker1=search&fm=SEARCH&iid=bdaf18f2-5cab-45b9-945f-2c88d5775575.SGLFUKACGVUQMUYS.SEARCH&ppt=sp&ppn=sp&ssid=vc5oua4hgw0000001625991898946&qH=0ff7a11a5902c9f7',\n",
       " 'https://www.flipkart.com/nuvew-cat-eye-sunglasses/p/itm6805a6b560578?pid=SGLFKGPNSKGWEDGK&lid=LSTSGLFKGPNSKGWEDGKZGGYUI&marketplace=FLIPKART&q=Sunglasses&store=26x&srno=s_3_116&otracker=search&otracker1=search&fm=SEARCH&iid=en_hTlaOUuQYkuprjx8Ht%2F28ZG4gxF0wVSZ36Am8YteLGTW%2B%2Bso9JJGpgbu%2FQWjLaqRL%2BYszB6Zj%2B3b4pimR528sA%3D%3D&ppt=sp&ppn=sp&ssid=vc5oua4hgw0000001625991898946&qH=0ff7a11a5902c9f7',\n",
       " 'https://www.flipkart.com/phenomenal-clubmaster-sunglasses/p/itmf6jv9ac9ayfnb?pid=SGLF6J56EA4JZCYM&lid=LSTSGLF6J56EA4JZCYM6FBVJL&marketplace=FLIPKART&q=Sunglasses&store=26x&srno=s_3_117&otracker=search&otracker1=search&fm=SEARCH&iid=bdaf18f2-5cab-45b9-945f-2c88d5775575.SGLF6J56EA4JZCYM.SEARCH&ppt=sp&ppn=sp&ssid=vc5oua4hgw0000001625991898946&qH=0ff7a11a5902c9f7',\n",
       " 'https://www.flipkart.com/fastrack-wayfarer-sunglasses/p/itmf7h5mytnjfufg?pid=SGLES2WMQRHCY3PP&lid=LSTSGLES2WMQRHCY3PPUVG9EU&marketplace=FLIPKART&q=Sunglasses&store=26x&srno=s_3_118&otracker=search&otracker1=search&fm=SEARCH&iid=bdaf18f2-5cab-45b9-945f-2c88d5775575.SGLES2WMQRHCY3PP.SEARCH&ppt=sp&ppn=sp&ssid=vc5oua4hgw0000001625991898946&qH=0ff7a11a5902c9f7',\n",
       " 'https://www.flipkart.com/fastrack-rectangular-sunglasses/p/itm5e003331c9584?pid=SGLFKYGHF2AMZZQE&lid=LSTSGLFKYGHF2AMZZQEBH2ZEX&marketplace=FLIPKART&q=Sunglasses&store=26x&srno=s_3_119&otracker=search&otracker1=search&fm=SEARCH&iid=bdaf18f2-5cab-45b9-945f-2c88d5775575.SGLFKYGHF2AMZZQE.SEARCH&ppt=sp&ppn=sp&ssid=vc5oua4hgw0000001625991898946&qH=0ff7a11a5902c9f7',\n",
       " 'https://www.flipkart.com/villain-retro-square-sunglasses/p/itmd4d858799c270?pid=SGLGYFCUFAGZGPPH&lid=LSTSGLGYFCUFAGZGPPH6MTKU4&marketplace=FLIPKART&q=Sunglasses&store=26x&srno=s_3_120&otracker=search&otracker1=search&fm=SEARCH&iid=en_hTlaOUuQYkuprjx8Ht%2F28ZG4gxF0wVSZ36Am8YteLGQ3YSDfoWkImyL8mcVCjMyLyxGhqSWEQbNwgstP254SnQ%3D%3D&ppt=sp&ppn=sp&ssid=vc5oua4hgw0000001625991898946&qH=0ff7a11a5902c9f7']"
      ]
     },
     "execution_count": 160,
     "metadata": {},
     "output_type": "execute_result"
    }
   ],
   "source": [
    "urls3 = []\n",
    "\n",
    "for i in driver.find_elements_by_xpath(\"//a[@class='_2UzuFa']\"):\n",
    "    urls3.append(i.get_attribute(\"href\"))\n",
    "urls3"
   ]
  },
  {
   "cell_type": "code",
   "execution_count": 161,
   "metadata": {},
   "outputs": [
    {
     "name": "stdout",
     "output_type": "stream",
     "text": [
      "120\n"
     ]
    }
   ],
   "source": [
    "url = urls1+urls2+urls3\n",
    "print(len(url))"
   ]
  },
  {
   "cell_type": "code",
   "execution_count": 162,
   "metadata": {},
   "outputs": [
    {
     "name": "stdout",
     "output_type": "stream",
     "text": [
      "100\n"
     ]
    }
   ],
   "source": [
    "#choosing first 100 urls\n",
    "urls = url[:len(url)-20]\n",
    "print(len(urls))"
   ]
  },
  {
   "cell_type": "code",
   "execution_count": 163,
   "metadata": {},
   "outputs": [],
   "source": [
    "#Defining Variables\n",
    "\n",
    "brand = []\n",
    "product_desc =[]\n",
    "price = []\n",
    "discount = []"
   ]
  },
  {
   "cell_type": "code",
   "execution_count": 164,
   "metadata": {},
   "outputs": [],
   "source": [
    "for i in urls:\n",
    "    driver.get(i)\n",
    "    time.sleep(3)\n",
    "        \n",
    "    try:\n",
    "        brand_ = driver.find_element_by_class_name(\"G6XhRU\")\n",
    "        brand.append(brand_.text)\n",
    "        \n",
    "    except NoSuchElementException:\n",
    "        \n",
    "        brand.append('-')\n",
    "        \n",
    "        #Discount\n",
    "        \n",
    "    try:\n",
    "        dis = driver.find_element_by_xpath(\"//div[@class='_3Ay6Sb _31Dcoz pZkvcx']\")\n",
    "        discount.append(dis.text)\n",
    "        \n",
    "    except NoSuchElementException:\n",
    "        \n",
    "        discount.append('-')\n",
    "        \n",
    "        #Price\n",
    "        \n",
    "\n",
    "    try:\n",
    "        \n",
    "        pr = driver.find_element_by_xpath(\"//div[@class='_30jeq3 _16Jk6d']\")\n",
    "        price.append(pr.text)\n",
    "        \n",
    "    except NoSuchElementException:\n",
    "        \n",
    "        price.append('-')\n",
    "        \n",
    "        \n",
    "        #Product Description\n",
    "        \n",
    "        \n",
    "    try:\n",
    "        \n",
    "        pd = driver.find_element_by_class_name(\"B_NuCI\")\n",
    "        product_desc.append(pd.text)\n",
    "        \n",
    "    except NoSuchElementException:\n",
    "        \n",
    "        product_desc.append('-')\n",
    "        "
   ]
  },
  {
   "cell_type": "code",
   "execution_count": 165,
   "metadata": {},
   "outputs": [
    {
     "name": "stdout",
     "output_type": "stream",
     "text": [
      "100 100 100 100\n"
     ]
    }
   ],
   "source": [
    "print(len(brand),len(discount),len(price),len(product_desc))"
   ]
  },
  {
   "cell_type": "code",
   "execution_count": 168,
   "metadata": {},
   "outputs": [
    {
     "data": {
      "text/html": [
       "<div>\n",
       "<style scoped>\n",
       "    .dataframe tbody tr th:only-of-type {\n",
       "        vertical-align: middle;\n",
       "    }\n",
       "\n",
       "    .dataframe tbody tr th {\n",
       "        vertical-align: top;\n",
       "    }\n",
       "\n",
       "    .dataframe thead th {\n",
       "        text-align: right;\n",
       "    }\n",
       "</style>\n",
       "<table border=\"1\" class=\"dataframe\">\n",
       "  <thead>\n",
       "    <tr style=\"text-align: right;\">\n",
       "      <th></th>\n",
       "      <th>Brand</th>\n",
       "      <th>Price</th>\n",
       "      <th>Discount</th>\n",
       "      <th>Description</th>\n",
       "    </tr>\n",
       "  </thead>\n",
       "  <tbody>\n",
       "    <tr>\n",
       "      <th>0</th>\n",
       "      <td>LIZA ANGEL</td>\n",
       "      <td>₹279</td>\n",
       "      <td>65% off</td>\n",
       "      <td>UV Protection, Mirrored, Riding Glasses Retro ...</td>\n",
       "    </tr>\n",
       "    <tr>\n",
       "      <th>1</th>\n",
       "      <td>PIRASO</td>\n",
       "      <td>₹237</td>\n",
       "      <td>85% off</td>\n",
       "      <td>UV Protection Aviator Sunglasses (54)  (For Me...</td>\n",
       "    </tr>\n",
       "    <tr>\n",
       "      <th>2</th>\n",
       "      <td>kingsunglasses</td>\n",
       "      <td>₹299</td>\n",
       "      <td>88% off</td>\n",
       "      <td>Mirrored, UV Protection Wayfarer Sunglasses (F...</td>\n",
       "    </tr>\n",
       "    <tr>\n",
       "      <th>3</th>\n",
       "      <td>Fastrack</td>\n",
       "      <td>₹513</td>\n",
       "      <td>35% off</td>\n",
       "      <td>UV Protection Rectangular Sunglasses (Free Siz...</td>\n",
       "    </tr>\n",
       "    <tr>\n",
       "      <th>4</th>\n",
       "      <td>Fastrack</td>\n",
       "      <td>₹758</td>\n",
       "      <td>15% off</td>\n",
       "      <td>UV Protection Wayfarer Sunglasses (Free Size) ...</td>\n",
       "    </tr>\n",
       "    <tr>\n",
       "      <th>...</th>\n",
       "      <td>...</td>\n",
       "      <td>...</td>\n",
       "      <td>...</td>\n",
       "      <td>...</td>\n",
       "    </tr>\n",
       "    <tr>\n",
       "      <th>95</th>\n",
       "      <td>ROYAL SON</td>\n",
       "      <td>₹699</td>\n",
       "      <td>53% off</td>\n",
       "      <td>Polarized Retro Square Sunglasses (59)  (For M...</td>\n",
       "    </tr>\n",
       "    <tr>\n",
       "      <th>96</th>\n",
       "      <td>hipe</td>\n",
       "      <td>₹209</td>\n",
       "      <td>79% off</td>\n",
       "      <td>UV Protection, Gradient, Mirrored, Riding Glas...</td>\n",
       "    </tr>\n",
       "    <tr>\n",
       "      <th>97</th>\n",
       "      <td>Fastrack</td>\n",
       "      <td>₹758</td>\n",
       "      <td>15% off</td>\n",
       "      <td>UV Protection Wayfarer Sunglasses (Free Size) ...</td>\n",
       "    </tr>\n",
       "    <tr>\n",
       "      <th>98</th>\n",
       "      <td>Fastrack</td>\n",
       "      <td>₹655</td>\n",
       "      <td>18% off</td>\n",
       "      <td>UV Protection Wayfarer Sunglasses (Free Size) ...</td>\n",
       "    </tr>\n",
       "    <tr>\n",
       "      <th>99</th>\n",
       "      <td>PIRASO</td>\n",
       "      <td>₹237</td>\n",
       "      <td>85% off</td>\n",
       "      <td>UV Protection Aviator Sunglasses (54)  (For Me...</td>\n",
       "    </tr>\n",
       "  </tbody>\n",
       "</table>\n",
       "<p>100 rows × 4 columns</p>\n",
       "</div>"
      ],
      "text/plain": [
       "              Brand Price Discount  \\\n",
       "0       LIZA ANGEL   ₹279  65% off   \n",
       "1           PIRASO   ₹237  85% off   \n",
       "2   kingsunglasses   ₹299  88% off   \n",
       "3         Fastrack   ₹513  35% off   \n",
       "4         Fastrack   ₹758  15% off   \n",
       "..              ...   ...      ...   \n",
       "95       ROYAL SON   ₹699  53% off   \n",
       "96            hipe   ₹209  79% off   \n",
       "97        Fastrack   ₹758  15% off   \n",
       "98        Fastrack   ₹655  18% off   \n",
       "99          PIRASO   ₹237  85% off   \n",
       "\n",
       "                                          Description  \n",
       "0   UV Protection, Mirrored, Riding Glasses Retro ...  \n",
       "1   UV Protection Aviator Sunglasses (54)  (For Me...  \n",
       "2   Mirrored, UV Protection Wayfarer Sunglasses (F...  \n",
       "3   UV Protection Rectangular Sunglasses (Free Siz...  \n",
       "4   UV Protection Wayfarer Sunglasses (Free Size) ...  \n",
       "..                                                ...  \n",
       "95  Polarized Retro Square Sunglasses (59)  (For M...  \n",
       "96  UV Protection, Gradient, Mirrored, Riding Glas...  \n",
       "97  UV Protection Wayfarer Sunglasses (Free Size) ...  \n",
       "98  UV Protection Wayfarer Sunglasses (Free Size) ...  \n",
       "99  UV Protection Aviator Sunglasses (54)  (For Me...  \n",
       "\n",
       "[100 rows x 4 columns]"
      ]
     },
     "execution_count": 168,
     "metadata": {},
     "output_type": "execute_result"
    }
   ],
   "source": [
    "#Creating DataFrame\n",
    "\n",
    "df3 = pd.DataFrame({})\n",
    "df3['Brand'] = brand\n",
    "df3['Price'] = price\n",
    "df3['Discount'] = discount\n",
    "df3['Description'] = product_desc\n",
    "df3"
   ]
  },
  {
   "cell_type": "markdown",
   "metadata": {},
   "source": [
    "## Q.) Scrape 10 reviews data from flipkart.com for iphone11 phone. You have to \n",
    "go the link: https://www.flipkart.com/apple-iphone-11-black-64-gb-includes\u0002earpods-power\u0002adapter/p/itm0f37c2240b217?pid=MOBFKCTSVZAXUHGR&lid=LSTMOBFKC\n",
    "TSVZAXUHGREPBFGI&marketplace."
   ]
  },
  {
   "cell_type": "code",
   "execution_count": 254,
   "metadata": {},
   "outputs": [],
   "source": [
    "driver = webdriver.Chrome(\"chromedriver.exe\")"
   ]
  },
  {
   "cell_type": "code",
   "execution_count": 255,
   "metadata": {},
   "outputs": [],
   "source": [
    "url = 'https://www.flipkart.com/apple-iphone-11-black-64-gb-includes-earpods-power-adapter/p/itm0f37c2240b217?pid=MOBFKCTSVZAXUHGR&lid=LSTMOBFKCTSVZAXUHGREPBFGI&marketplace'\n",
    "driver.get(url)"
   ]
  },
  {
   "cell_type": "code",
   "execution_count": 256,
   "metadata": {},
   "outputs": [],
   "source": [
    "search_btn = driver.find_element_by_xpath(\"//div[@class='_3UAT2v _16PBlm']\")\n",
    "search_btn.click()"
   ]
  },
  {
   "cell_type": "code",
   "execution_count": 257,
   "metadata": {},
   "outputs": [],
   "source": [
    "rating=[]\n",
    "review=[]\n",
    "full_rev=[]"
   ]
  },
  {
   "cell_type": "code",
   "execution_count": 258,
   "metadata": {},
   "outputs": [
    {
     "data": {
      "text/plain": [
       "['https://www.flipkart.com/apple-iphone-11-black-64-gb-includes-earpods-power-adapter/product-reviews/itm0f37c2240b217?pid=MOBFKCTSVZAXUHGR&lid=LSTMOBFKCTSVZAXUHGREPBFGI&marketplace=FLIPKART&page=2',\n",
       " 'https://www.flipkart.com/apple-iphone-11-black-64-gb-includes-earpods-power-adapter/product-reviews/itm0f37c2240b217?pid=MOBFKCTSVZAXUHGR&lid=LSTMOBFKCTSVZAXUHGREPBFGI&marketplace=FLIPKART&page=3',\n",
       " 'https://www.flipkart.com/apple-iphone-11-black-64-gb-includes-earpods-power-adapter/product-reviews/itm0f37c2240b217?pid=MOBFKCTSVZAXUHGR&lid=LSTMOBFKCTSVZAXUHGREPBFGI&marketplace=FLIPKART&page=4',\n",
       " 'https://www.flipkart.com/apple-iphone-11-black-64-gb-includes-earpods-power-adapter/product-reviews/itm0f37c2240b217?pid=MOBFKCTSVZAXUHGR&lid=LSTMOBFKCTSVZAXUHGREPBFGI&marketplace=FLIPKART&page=5',\n",
       " 'https://www.flipkart.com/apple-iphone-11-black-64-gb-includes-earpods-power-adapter/product-reviews/itm0f37c2240b217?pid=MOBFKCTSVZAXUHGR&lid=LSTMOBFKCTSVZAXUHGREPBFGI&marketplace=FLIPKART&page=6',\n",
       " 'https://www.flipkart.com/apple-iphone-11-black-64-gb-includes-earpods-power-adapter/product-reviews/itm0f37c2240b217?pid=MOBFKCTSVZAXUHGR&lid=LSTMOBFKCTSVZAXUHGREPBFGI&marketplace=FLIPKART&page=7',\n",
       " 'https://www.flipkart.com/apple-iphone-11-black-64-gb-includes-earpods-power-adapter/product-reviews/itm0f37c2240b217?pid=MOBFKCTSVZAXUHGR&lid=LSTMOBFKCTSVZAXUHGREPBFGI&marketplace=FLIPKART&page=8',\n",
       " 'https://www.flipkart.com/apple-iphone-11-black-64-gb-includes-earpods-power-adapter/product-reviews/itm0f37c2240b217?pid=MOBFKCTSVZAXUHGR&lid=LSTMOBFKCTSVZAXUHGREPBFGI&marketplace=FLIPKART&page=9',\n",
       " 'https://www.flipkart.com/apple-iphone-11-black-64-gb-includes-earpods-power-adapter/product-reviews/itm0f37c2240b217?pid=MOBFKCTSVZAXUHGR&lid=LSTMOBFKCTSVZAXUHGREPBFGI&marketplace=FLIPKART&page=10']"
      ]
     },
     "execution_count": 258,
     "metadata": {},
     "output_type": "execute_result"
    }
   ],
   "source": [
    "url_ = []\n",
    "\n",
    "for i in driver.find_elements_by_xpath(\"//a[@class='ge-49M']\"):\n",
    "    url_.append(i.get_attribute(\"href\"))\n",
    "    \n",
    "url_"
   ]
  },
  {
   "cell_type": "code",
   "execution_count": 259,
   "metadata": {},
   "outputs": [],
   "source": [
    "for i in url_:\n",
    "    driver.get(i)\n",
    "    time.sleep(2)\n",
    "        \n",
    "    try:\n",
    "        rat_ = driver.find_element_by_xpath(\"//div[@class='_3LWZlK _1BLPMq']\")\n",
    "        rating.append(rat_.text)\n",
    "        \n",
    "    except NoSuchElementException:\n",
    "        \n",
    "        rating.append('-')\n",
    "        \n",
    "        #review_sum\n",
    "        \n",
    "    try:\n",
    "        rev = driver.find_element_by_class_name(\"_2-N8zT\")\n",
    "        review.append(rev.text)\n",
    "        \n",
    "    except NoSuchElementException:\n",
    "        \n",
    "        review.append('-')\n",
    "        \n",
    "        #Full_rev\n",
    "        \n",
    "\n",
    "    try:\n",
    "        \n",
    "        fr = driver.find_element_by_xpath(\"//div[@class='t-ZTKy']\")\n",
    "        full_rev.append(fr.text)\n",
    "        \n",
    "    except NoSuchElementException:\n",
    "        \n",
    "        full_rev.append('-')\n",
    "        \n",
    "        \n",
    " "
   ]
  },
  {
   "cell_type": "code",
   "execution_count": 261,
   "metadata": {},
   "outputs": [
    {
     "data": {
      "text/html": [
       "<div>\n",
       "<style scoped>\n",
       "    .dataframe tbody tr th:only-of-type {\n",
       "        vertical-align: middle;\n",
       "    }\n",
       "\n",
       "    .dataframe tbody tr th {\n",
       "        vertical-align: top;\n",
       "    }\n",
       "\n",
       "    .dataframe thead th {\n",
       "        text-align: right;\n",
       "    }\n",
       "</style>\n",
       "<table border=\"1\" class=\"dataframe\">\n",
       "  <thead>\n",
       "    <tr style=\"text-align: right;\">\n",
       "      <th></th>\n",
       "      <th>rating</th>\n",
       "      <th>review</th>\n",
       "      <th>Full review</th>\n",
       "    </tr>\n",
       "  </thead>\n",
       "  <tbody>\n",
       "    <tr>\n",
       "      <th>0</th>\n",
       "      <td>5</td>\n",
       "      <td>Perfect product!</td>\n",
       "      <td>Value for money❤️❤️\\nIts awesome mobile phone ...</td>\n",
       "    </tr>\n",
       "    <tr>\n",
       "      <th>1</th>\n",
       "      <td>5</td>\n",
       "      <td>Classy product</td>\n",
       "      <td>Totally in love with this ❤ the camera quality...</td>\n",
       "    </tr>\n",
       "    <tr>\n",
       "      <th>2</th>\n",
       "      <td>5</td>\n",
       "      <td>Mind-blowing purchase</td>\n",
       "      <td>This will help you more. See if you are planni...</td>\n",
       "    </tr>\n",
       "    <tr>\n",
       "      <th>3</th>\n",
       "      <td>5</td>\n",
       "      <td>Mind-blowing purchase</td>\n",
       "      <td>First thanks to Flipkart for this amazing deal...</td>\n",
       "    </tr>\n",
       "    <tr>\n",
       "      <th>4</th>\n",
       "      <td>5</td>\n",
       "      <td>Awesome</td>\n",
       "      <td>Very excited to have this phone. This phone ha...</td>\n",
       "    </tr>\n",
       "    <tr>\n",
       "      <th>5</th>\n",
       "      <td>5</td>\n",
       "      <td>Not recommended at all</td>\n",
       "      <td>They are selling cheep quality items. There is...</td>\n",
       "    </tr>\n",
       "    <tr>\n",
       "      <th>6</th>\n",
       "      <td>5</td>\n",
       "      <td>Just wow!</td>\n",
       "      <td>Great iphone.\\nI am writing this review after ...</td>\n",
       "    </tr>\n",
       "    <tr>\n",
       "      <th>7</th>\n",
       "      <td>5</td>\n",
       "      <td>Mind-blowing purchase</td>\n",
       "      <td>Absolutely powerful gadget. Loved it’s look! S...</td>\n",
       "    </tr>\n",
       "    <tr>\n",
       "      <th>8</th>\n",
       "      <td>5</td>\n",
       "      <td>Wonderful</td>\n",
       "      <td>Nice value for money good and best price I pho...</td>\n",
       "    </tr>\n",
       "  </tbody>\n",
       "</table>\n",
       "</div>"
      ],
      "text/plain": [
       "  rating                  review  \\\n",
       "0      5        Perfect product!   \n",
       "1      5          Classy product   \n",
       "2      5   Mind-blowing purchase   \n",
       "3      5   Mind-blowing purchase   \n",
       "4      5                 Awesome   \n",
       "5      5  Not recommended at all   \n",
       "6      5               Just wow!   \n",
       "7      5   Mind-blowing purchase   \n",
       "8      5               Wonderful   \n",
       "\n",
       "                                         Full review  \n",
       "0  Value for money❤️❤️\\nIts awesome mobile phone ...  \n",
       "1  Totally in love with this ❤ the camera quality...  \n",
       "2  This will help you more. See if you are planni...  \n",
       "3  First thanks to Flipkart for this amazing deal...  \n",
       "4  Very excited to have this phone. This phone ha...  \n",
       "5  They are selling cheep quality items. There is...  \n",
       "6  Great iphone.\\nI am writing this review after ...  \n",
       "7  Absolutely powerful gadget. Loved it’s look! S...  \n",
       "8  Nice value for money good and best price I pho...  "
      ]
     },
     "execution_count": 261,
     "metadata": {},
     "output_type": "execute_result"
    }
   ],
   "source": [
    "#Creating DataFrame\n",
    "\n",
    "df4 = pd.DataFrame({})\n",
    "df4['rating'] = rating\n",
    "df4['review'] = review\n",
    "df4['Full review'] = full_rev\n",
    "df4"
   ]
  },
  {
   "cell_type": "markdown",
   "metadata": {},
   "source": [
    "## Q.) Scrape data for first 100 sneakers you find when you visit flipkart.com and \n",
    "## search for “sneakers” in the search field.\n",
    "You have to scrape 4 attributes of each sneaker :\n",
    "1. Brand\n",
    "2. Product Description\n",
    "3. Price\n",
    "4. discount %"
   ]
  },
  {
   "cell_type": "code",
   "execution_count": 262,
   "metadata": {},
   "outputs": [],
   "source": [
    "#Connecting to web driver\n",
    "\n",
    "driver = webdriver.Chrome(\"chromedriver.exe\")"
   ]
  },
  {
   "cell_type": "code",
   "execution_count": 263,
   "metadata": {},
   "outputs": [],
   "source": [
    "url = 'https://www.flipkart.com/'\n",
    "driver.get(url)"
   ]
  },
  {
   "cell_type": "code",
   "execution_count": 267,
   "metadata": {},
   "outputs": [],
   "source": [
    "search_sneak = driver.find_element_by_xpath(\"//input[@title='Search for products, brands and more']\")\n",
    "search_sneak.send_keys(\"Sneakers\")"
   ]
  },
  {
   "cell_type": "code",
   "execution_count": 268,
   "metadata": {},
   "outputs": [],
   "source": [
    "search_btn = driver.find_element_by_class_name(\"L0Z3Pu\")\n",
    "search_btn.click()"
   ]
  },
  {
   "cell_type": "code",
   "execution_count": 269,
   "metadata": {},
   "outputs": [
    {
     "data": {
      "text/plain": [
       "['https://www.flipkart.com/robbie-jones-casual-sneakers-shoes-men/p/itm5ee18096b212e?pid=SHOFVJG9AWTPN5GJ&lid=LSTSHOFVJG9AWTPN5GJT4JSYQ&marketplace=FLIPKART&q=Sneakers&store=osp%2Fcil%2Fe1f&srno=s_1_1&otracker=search&otracker1=search&fm=SEARCH&iid=0af44cb2-16ce-4a30-a388-0130a5253ed8.SHOFVJG9AWTPN5GJ.SEARCH&ppt=hp&ppn=homepage&ssid=93d0ui5sjk0000001626017008444&qH=ea24260ef5764089',\n",
       " 'https://www.flipkart.com/calcados-modern-trendy-shoes-combo-pack-4-sneakers-men/p/itm6d53374118bd3?pid=SHOGF43N3VVF8ATZ&lid=LSTSHOGF43N3VVF8ATZDIM8WW&marketplace=FLIPKART&q=Sneakers&store=osp%2Fcil%2Fe1f&srno=s_1_2&otracker=search&otracker1=search&fm=SEARCH&iid=0af44cb2-16ce-4a30-a388-0130a5253ed8.SHOGF43N3VVF8ATZ.SEARCH&ppt=hp&ppn=homepage&ssid=93d0ui5sjk0000001626017008444&qH=ea24260ef5764089',\n",
       " 'https://www.flipkart.com/nilatin-black-sneaker-men-sneakers/p/itmd49f1f095b6ce?pid=SHOG42RAPAE6WQKG&lid=LSTSHOG42RAPAE6WQKGNMTZQD&marketplace=FLIPKART&q=Sneakers&store=osp%2Fcil%2Fe1f&srno=s_1_3&otracker=search&otracker1=search&fm=SEARCH&iid=0af44cb2-16ce-4a30-a388-0130a5253ed8.SHOG42RAPAE6WQKG.SEARCH&ppt=hp&ppn=homepage&ssid=93d0ui5sjk0000001626017008444&qH=ea24260ef5764089',\n",
       " 'https://www.flipkart.com/pehanosa-sneakers-men/p/itm79691dee62250?pid=SHOGFXFQXJAHPSBV&lid=LSTSHOGFXFQXJAHPSBVCMHOML&marketplace=FLIPKART&q=Sneakers&store=osp%2Fcil%2Fe1f&srno=s_1_4&otracker=search&otracker1=search&fm=SEARCH&iid=0af44cb2-16ce-4a30-a388-0130a5253ed8.SHOGFXFQXJAHPSBV.SEARCH&ppt=hp&ppn=homepage&ssid=93d0ui5sjk0000001626017008444&qH=ea24260ef5764089',\n",
       " 'https://www.flipkart.com/chevit-super-stylish-trendy-combo-pack-02-pairs-sneakers-outdoor-loafer-sports-running-rock-climbing-gym-shoes-men/p/itmfce3a6f2183d4?pid=SHOGFVTAG39Y7ZHY&lid=LSTSHOGFVTAG39Y7ZHYAAGEEY&marketplace=FLIPKART&q=Sneakers&store=osp%2Fcil%2Fe1f&srno=s_1_5&otracker=search&otracker1=search&fm=SEARCH&iid=0af44cb2-16ce-4a30-a388-0130a5253ed8.SHOGFVTAG39Y7ZHY.SEARCH&ppt=hp&ppn=homepage&ssid=93d0ui5sjk0000001626017008444&qH=ea24260ef5764089',\n",
       " 'https://www.flipkart.com/shoes-bank-white-sneaker-men-s-boy-s-sneakers-men/p/itmf9p2zdypz2jyt?pid=SHOF9Z76DWFGAFWY&lid=LSTSHOF9Z76DWFGAFWYSDVYDU&marketplace=FLIPKART&q=Sneakers&store=osp%2Fcil%2Fe1f&srno=s_1_6&otracker=search&otracker1=search&fm=SEARCH&iid=0af44cb2-16ce-4a30-a388-0130a5253ed8.SHOF9Z76DWFGAFWY.SEARCH&ppt=hp&ppn=homepage&ssid=93d0ui5sjk0000001626017008444&qH=ea24260ef5764089',\n",
       " 'https://www.flipkart.com/world-wear-footwear-5011-latest-collection-stylish-casual-loafer-sneakers-shoes-men/p/itm01930e5430e12?pid=SHOFMY6NYMGEHRHX&lid=LSTSHOFMY6NYMGEHRHXR2SLIQ&marketplace=FLIPKART&q=Sneakers&store=osp%2Fcil%2Fe1f&srno=s_1_7&otracker=search&otracker1=search&fm=SEARCH&iid=0af44cb2-16ce-4a30-a388-0130a5253ed8.SHOFMY6NYMGEHRHX.SEARCH&ppt=hp&ppn=homepage&ssid=93d0ui5sjk0000001626017008444&qH=ea24260ef5764089',\n",
       " 'https://www.flipkart.com/labbin-sneakers-men/p/itm22551963c0809?pid=SHOG497GVHMHTKMH&lid=LSTSHOG497GVHMHTKMHOV3U7K&marketplace=FLIPKART&q=Sneakers&store=osp%2Fcil%2Fe1f&srno=s_1_8&otracker=search&otracker1=search&fm=SEARCH&iid=0af44cb2-16ce-4a30-a388-0130a5253ed8.SHOG497GVHMHTKMH.SEARCH&ppt=hp&ppn=homepage&ssid=93d0ui5sjk0000001626017008444&qH=ea24260ef5764089',\n",
       " 'https://www.flipkart.com/numenzo-sneakers-men/p/itm072bfb0c5e869?pid=SHOFZ4RGEGXFYHY9&lid=LSTSHOFZ4RGEGXFYHY9UPNWTY&marketplace=FLIPKART&q=Sneakers&store=osp%2Fcil%2Fe1f&srno=s_1_9&otracker=search&otracker1=search&fm=SEARCH&iid=0af44cb2-16ce-4a30-a388-0130a5253ed8.SHOFZ4RGEGXFYHY9.SEARCH&ppt=hp&ppn=homepage&ssid=93d0ui5sjk0000001626017008444&qH=ea24260ef5764089',\n",
       " 'https://www.flipkart.com/asteroid-original-luxury-branded-fashionable-men-s-casual-walking-partywear-sneakers-running-white-shoes-men/p/itmadb9562baf1cd?pid=SHOG3F72EB7HAFQF&lid=LSTSHOG3F72EB7HAFQFENVW0L&marketplace=FLIPKART&q=Sneakers&store=osp%2Fcil%2Fe1f&srno=s_1_10&otracker=search&otracker1=search&fm=SEARCH&iid=0af44cb2-16ce-4a30-a388-0130a5253ed8.SHOG3F72EB7HAFQF.SEARCH&ppt=hp&ppn=homepage&ssid=93d0ui5sjk0000001626017008444&qH=ea24260ef5764089',\n",
       " 'https://www.flipkart.com/birde-combo-pack-4-casual-shoes-sneakers-men/p/itm6e3d45add0c84?pid=SHOGYGTHK7F9W2ZF&lid=LSTSHOGYGTHK7F9W2ZF1JAISX&marketplace=FLIPKART&q=Sneakers&store=osp%2Fcil%2Fe1f&srno=s_1_11&otracker=search&otracker1=search&fm=SEARCH&iid=0af44cb2-16ce-4a30-a388-0130a5253ed8.SHOGYGTHK7F9W2ZF.SEARCH&ppt=hp&ppn=homepage&ssid=93d0ui5sjk0000001626017008444&qH=ea24260ef5764089',\n",
       " 'https://www.flipkart.com/believe-sneakers-men-black-6-men/p/itmfdyhg8ezwgav9?pid=SHOFDXWW9M7YNPPM&lid=LSTSHOFDXWW9M7YNPPM46ICQT&marketplace=FLIPKART&q=Sneakers&store=osp%2Fcil%2Fe1f&srno=s_1_12&otracker=search&otracker1=search&fm=SEARCH&iid=0af44cb2-16ce-4a30-a388-0130a5253ed8.SHOFDXWW9M7YNPPM.SEARCH&ppt=hp&ppn=homepage&ssid=93d0ui5sjk0000001626017008444&qH=ea24260ef5764089',\n",
       " 'https://www.flipkart.com/essence-casuals-sneakers-men/p/itm5f0ba0887b1f8?pid=SHOFK4QZG2HRUD6B&lid=LSTSHOFK4QZG2HRUD6BC8287E&marketplace=FLIPKART&q=Sneakers&store=osp%2Fcil%2Fe1f&srno=s_1_13&otracker=search&otracker1=search&fm=SEARCH&iid=0af44cb2-16ce-4a30-a388-0130a5253ed8.SHOFK4QZG2HRUD6B.SEARCH&ppt=hp&ppn=homepage&ssid=93d0ui5sjk0000001626017008444&qH=ea24260ef5764089',\n",
       " 'https://www.flipkart.com/numenzo-sneakers-men/p/itm12368ade2be34?pid=SHOG3MZ4XBAGSDVE&lid=LSTSHOG3MZ4XBAGSDVEPUXZCL&marketplace=FLIPKART&q=Sneakers&store=osp%2Fcil%2Fe1f&srno=s_1_14&otracker=search&otracker1=search&fm=SEARCH&iid=0af44cb2-16ce-4a30-a388-0130a5253ed8.SHOG3MZ4XBAGSDVE.SEARCH&ppt=hp&ppn=homepage&ssid=93d0ui5sjk0000001626017008444&qH=ea24260ef5764089',\n",
       " 'https://www.flipkart.com/robbie-jones-sneakers-men/p/itmb630cbefaaf97?pid=SHOGF4HZY4QYKZ6M&lid=LSTSHOGF4HZY4QYKZ6MZSLDPN&marketplace=FLIPKART&q=Sneakers&store=osp%2Fcil%2Fe1f&srno=s_1_15&otracker=search&otracker1=search&fm=SEARCH&iid=0af44cb2-16ce-4a30-a388-0130a5253ed8.SHOGF4HZY4QYKZ6M.SEARCH&ppt=hp&ppn=homepage&ssid=93d0ui5sjk0000001626017008444&qH=ea24260ef5764089',\n",
       " 'https://www.flipkart.com/chevit-unique-perfect-collection-combo-pack-02-shoes-men-casual-sneakers-outdoor-walking-sport-running-gym-cycling-trekking-rock-climbing/p/itmff4e5480ba998?pid=SHOGYX9SX8ZHGMYH&lid=LSTSHOGYX9SX8ZHGMYHXKPZ6Z&marketplace=FLIPKART&q=Sneakers&store=osp%2Fcil%2Fe1f&srno=s_1_16&otracker=search&otracker1=search&fm=SEARCH&iid=0af44cb2-16ce-4a30-a388-0130a5253ed8.SHOGYX9SX8ZHGMYH.SEARCH&ppt=hp&ppn=homepage&ssid=93d0ui5sjk0000001626017008444&qH=ea24260ef5764089',\n",
       " 'https://www.flipkart.com/bluemaker-casual-men-blue-06-sneakers/p/itm3f838f669177a?pid=SHOFUSH75ABRTZMY&lid=LSTSHOFUSH75ABRTZMY8H410M&marketplace=FLIPKART&q=Sneakers&store=osp%2Fcil%2Fe1f&srno=s_1_17&otracker=search&otracker1=search&fm=SEARCH&iid=0af44cb2-16ce-4a30-a388-0130a5253ed8.SHOFUSH75ABRTZMY.SEARCH&ppt=hp&ppn=homepage&ssid=93d0ui5sjk0000001626017008444&qH=ea24260ef5764089',\n",
       " 'https://www.flipkart.com/chevit-speed-set-5-pairs-sneakers-outdoors-casuals-men/p/itmccd9dcb86e757?pid=SHOFWJJFGKQEQFFW&lid=LSTSHOFWJJFGKQEQFFWDUC33S&marketplace=FLIPKART&q=Sneakers&store=osp%2Fcil%2Fe1f&srno=s_1_18&otracker=search&otracker1=search&fm=SEARCH&iid=0af44cb2-16ce-4a30-a388-0130a5253ed8.SHOFWJJFGKQEQFFW.SEARCH&ppt=hp&ppn=homepage&ssid=93d0ui5sjk0000001626017008444&qH=ea24260ef5764089',\n",
       " 'https://www.flipkart.com/stefano-rads-classy-sneakers-men/p/itmf3xvz7y5zngns?pid=SHOERAYW83HKH9FX&lid=LSTSHOERAYW83HKH9FX0GODGZ&marketplace=FLIPKART&q=Sneakers&store=osp%2Fcil%2Fe1f&srno=s_1_19&otracker=search&otracker1=search&fm=SEARCH&iid=0af44cb2-16ce-4a30-a388-0130a5253ed8.SHOERAYW83HKH9FX.SEARCH&ppt=hp&ppn=homepage&ssid=93d0ui5sjk0000001626017008444&qH=ea24260ef5764089',\n",
       " 'https://www.flipkart.com/chevit-super-445-fashion-sneakers-men/p/itm66119bb8aece9?pid=SHOFYAT7HUFHBTBE&lid=LSTSHOFYAT7HUFHBTBELSIG7O&marketplace=FLIPKART&q=Sneakers&store=osp%2Fcil%2Fe1f&srno=s_1_20&otracker=search&otracker1=search&fm=SEARCH&iid=0af44cb2-16ce-4a30-a388-0130a5253ed8.SHOFYAT7HUFHBTBE.SEARCH&ppt=hp&ppn=homepage&ssid=93d0ui5sjk0000001626017008444&qH=ea24260ef5764089',\n",
       " 'https://www.flipkart.com/hotstyle-sneakers-men/p/itmfbwkjycr7hnwv?pid=SHOFBV6YYFZZUDA4&lid=LSTSHOFBV6YYFZZUDA4FIFE2L&marketplace=FLIPKART&q=Sneakers&store=osp%2Fcil%2Fe1f&srno=s_1_21&otracker=search&otracker1=search&fm=SEARCH&iid=0af44cb2-16ce-4a30-a388-0130a5253ed8.SHOFBV6YYFZZUDA4.SEARCH&ppt=hp&ppn=homepage&ssid=93d0ui5sjk0000001626017008444&qH=ea24260ef5764089',\n",
       " 'https://www.flipkart.com/world-wear-footwear-sneakers-men/p/itmc042a22b4f1aa?pid=SHOFNKAB5J2DRMYS&lid=LSTSHOFNKAB5J2DRMYSRZSEX7&marketplace=FLIPKART&q=Sneakers&store=osp%2Fcil%2Fe1f&srno=s_1_22&otracker=search&otracker1=search&fm=SEARCH&iid=0af44cb2-16ce-4a30-a388-0130a5253ed8.SHOFNKAB5J2DRMYS.SEARCH&ppt=hp&ppn=homepage&ssid=93d0ui5sjk0000001626017008444&qH=ea24260ef5764089',\n",
       " 'https://www.flipkart.com/scatchite-sneakers-men/p/itmc13680b1d9604?pid=SHOFUDSUUG8AAMZZ&lid=LSTSHOFUDSUUG8AAMZZXEJRH6&marketplace=FLIPKART&q=Sneakers&store=osp%2Fcil%2Fe1f&srno=s_1_23&otracker=search&otracker1=search&fm=SEARCH&iid=0af44cb2-16ce-4a30-a388-0130a5253ed8.SHOFUDSUUG8AAMZZ.SEARCH&ppt=hp&ppn=homepage&ssid=93d0ui5sjk0000001626017008444&qH=ea24260ef5764089',\n",
       " 'https://www.flipkart.com/t-rock-synthetic-leather-casual-partywear-wedding-sneakers-shoes-men/p/itmfhkz7qghnktdg?pid=SHOFHKH6B39PV5HE&lid=LSTSHOFHKH6B39PV5HE3W1SEV&marketplace=FLIPKART&q=Sneakers&store=osp%2Fcil%2Fe1f&srno=s_1_24&otracker=search&otracker1=search&fm=SEARCH&iid=0af44cb2-16ce-4a30-a388-0130a5253ed8.SHOFHKH6B39PV5HE.SEARCH&ppt=hp&ppn=homepage&ssid=93d0ui5sjk0000001626017008444&qH=ea24260ef5764089',\n",
       " 'https://www.flipkart.com/absolute-comfort-soft-sneakers-men/p/itm01b8b3d676371?pid=SHOFTFP8AD9HUYVM&lid=LSTSHOFTFP8AD9HUYVMHSLVHE&marketplace=FLIPKART&q=Sneakers&store=osp%2Fcil%2Fe1f&srno=s_1_25&otracker=search&otracker1=search&fm=SEARCH&iid=0af44cb2-16ce-4a30-a388-0130a5253ed8.SHOFTFP8AD9HUYVM.SEARCH&ppt=hp&ppn=homepage&ssid=93d0ui5sjk0000001626017008444&qH=ea24260ef5764089',\n",
       " 'https://www.flipkart.com/wrizt-casual-sneakers-dancing-walking-sneakers-men/p/itm3631db68b0f9b?pid=SHOGYWYKBH5HQNKZ&lid=LSTSHOGYWYKBH5HQNKZU1MIDU&marketplace=FLIPKART&q=Sneakers&store=osp%2Fcil%2Fe1f&srno=s_1_26&otracker=search&otracker1=search&fm=SEARCH&iid=0af44cb2-16ce-4a30-a388-0130a5253ed8.SHOGYWYKBH5HQNKZ.SEARCH&ppt=hp&ppn=homepage&ssid=93d0ui5sjk0000001626017008444&qH=ea24260ef5764089',\n",
       " 'https://www.flipkart.com/jokatoo-casual-sneaker-shoes-partywear-casuals-men-sneakers/p/itmbc07ae8e0f5fc?pid=SHOFMKKUWZQZHY3B&lid=LSTSHOFMKKUWZQZHY3B8RHJNE&marketplace=FLIPKART&q=Sneakers&store=osp%2Fcil%2Fe1f&srno=s_1_27&otracker=search&otracker1=search&fm=SEARCH&iid=0af44cb2-16ce-4a30-a388-0130a5253ed8.SHOFMKKUWZQZHY3B.SEARCH&ppt=hp&ppn=homepage&ssid=93d0ui5sjk0000001626017008444&qH=ea24260ef5764089',\n",
       " 'https://www.flipkart.com/d-sneakerz-casual-partywear-sneakers-shoes-men-s-boys-white-color-men/p/itmf3xujnyvhbeqh?pid=SHOFFT35TZJFPTA4&lid=LSTSHOFFT35TZJFPTA4GQXUMX&marketplace=FLIPKART&q=Sneakers&store=osp%2Fcil%2Fe1f&srno=s_1_28&otracker=search&otracker1=search&fm=SEARCH&iid=0af44cb2-16ce-4a30-a388-0130a5253ed8.SHOFFT35TZJFPTA4.SEARCH&ppt=hp&ppn=homepage&ssid=93d0ui5sjk0000001626017008444&qH=ea24260ef5764089',\n",
       " 'https://www.flipkart.com/world-wear-footwear-latest-collection-1227-stylish-casual-sports-sneakers-men/p/itmf417d91f7b7b2?pid=SHOFJGUEKN5G9YFG&lid=LSTSHOFJGUEKN5G9YFGBFKDOL&marketplace=FLIPKART&q=Sneakers&store=osp%2Fcil%2Fe1f&srno=s_1_29&otracker=search&otracker1=search&fm=SEARCH&iid=0af44cb2-16ce-4a30-a388-0130a5253ed8.SHOFJGUEKN5G9YFG.SEARCH&ppt=hp&ppn=homepage&ssid=93d0ui5sjk0000001626017008444&qH=ea24260ef5764089',\n",
       " 'https://www.flipkart.com/stranger-brothers-sneakers-men/p/itma25b0e41be4ec?pid=SHOG44DPPTT9RNUU&lid=LSTSHOG44DPPTT9RNUU0YEM8T&marketplace=FLIPKART&q=Sneakers&store=osp%2Fcil%2Fe1f&srno=s_1_30&otracker=search&otracker1=search&fm=SEARCH&iid=0af44cb2-16ce-4a30-a388-0130a5253ed8.SHOG44DPPTT9RNUU.SEARCH&ppt=hp&ppn=homepage&ssid=93d0ui5sjk0000001626017008444&qH=ea24260ef5764089',\n",
       " 'https://www.flipkart.com/restinfoot-casual-shoes-sneakers-men/p/itmfeuvtqzmpswx7?pid=SHOFEUP9KHS4RZZX&lid=LSTSHOFEUP9KHS4RZZXWLN97J&marketplace=FLIPKART&q=Sneakers&store=osp%2Fcil%2Fe1f&srno=s_1_31&otracker=search&otracker1=search&fm=SEARCH&iid=0af44cb2-16ce-4a30-a388-0130a5253ed8.SHOFEUP9KHS4RZZX.SEARCH&ppt=hp&ppn=homepage&ssid=93d0ui5sjk0000001626017008444&qH=ea24260ef5764089',\n",
       " 'https://www.flipkart.com/kraasa-series-7-sneakers-men/p/itmda307099c343b?pid=SHOGF3MZ5VCXD7HG&lid=LSTSHOGF3MZ5VCXD7HGSAF6TP&marketplace=FLIPKART&q=Sneakers&store=osp%2Fcil%2Fe1f&srno=s_1_32&otracker=search&otracker1=search&fm=SEARCH&iid=0af44cb2-16ce-4a30-a388-0130a5253ed8.SHOGF3MZ5VCXD7HG.SEARCH&ppt=hp&ppn=homepage&ssid=93d0ui5sjk0000001626017008444&qH=ea24260ef5764089',\n",
       " 'https://www.flipkart.com/zorth-new-fashion-outdoor-trendy-lightweight-casual-canvas-stylish-partywear-sneakers-shoes-boys-men/p/itme127ce3431f9d?pid=SHOFTMXCZQWYPSQH&lid=LSTSHOFTMXCZQWYPSQHIRWVWT&marketplace=FLIPKART&q=Sneakers&store=osp%2Fcil%2Fe1f&srno=s_1_33&otracker=search&otracker1=search&fm=SEARCH&iid=0af44cb2-16ce-4a30-a388-0130a5253ed8.SHOFTMXCZQWYPSQH.SEARCH&ppt=hp&ppn=homepage&ssid=93d0ui5sjk0000001626017008444&qH=ea24260ef5764089',\n",
       " 'https://www.flipkart.com/magnolia-sneakers-men/p/itmb42a681797f2d?pid=SHOGYAAFUZKMR64D&lid=LSTSHOGYAAFUZKMR64DI8THYW&marketplace=FLIPKART&q=Sneakers&store=osp%2Fcil%2Fe1f&srno=s_1_34&otracker=search&otracker1=search&fm=SEARCH&iid=0af44cb2-16ce-4a30-a388-0130a5253ed8.SHOGYAAFUZKMR64D.SEARCH&ppt=hp&ppn=homepage&ssid=93d0ui5sjk0000001626017008444&qH=ea24260ef5764089',\n",
       " 'https://www.flipkart.com/robbie-jones-sneakers-men/p/itm71828864239ee?pid=SHOFWVUDSWMBMN4Q&lid=LSTSHOFWVUDSWMBMN4QWSNJDS&marketplace=FLIPKART&q=Sneakers&store=osp%2Fcil%2Fe1f&srno=s_1_35&otracker=search&otracker1=search&fm=SEARCH&iid=0af44cb2-16ce-4a30-a388-0130a5253ed8.SHOFWVUDSWMBMN4Q.SEARCH&ppt=hp&ppn=homepage&ssid=93d0ui5sjk0000001626017008444&qH=ea24260ef5764089',\n",
       " 'https://www.flipkart.com/essence-sneakers-men/p/itmc3d0142b55301?pid=SHOFK4QZSQAFPV82&lid=LSTSHOFK4QZSQAFPV82U7LGQN&marketplace=FLIPKART&q=Sneakers&store=osp%2Fcil%2Fe1f&srno=s_1_36&otracker=search&otracker1=search&fm=SEARCH&iid=0af44cb2-16ce-4a30-a388-0130a5253ed8.SHOFK4QZSQAFPV82.SEARCH&ppt=hp&ppn=homepage&ssid=93d0ui5sjk0000001626017008444&qH=ea24260ef5764089',\n",
       " 'https://www.flipkart.com/birde-combo-pack-5-casual-shoes-loafers-sneakers-men/p/itm139f7f99aea3b?pid=SHOFKGZPYFGTRH5Q&lid=LSTSHOFKGZPYFGTRH5QQAKDBK&marketplace=FLIPKART&q=Sneakers&store=osp%2Fcil%2Fe1f&srno=s_1_37&otracker=search&otracker1=search&fm=SEARCH&iid=0af44cb2-16ce-4a30-a388-0130a5253ed8.SHOFKGZPYFGTRH5Q.SEARCH&ppt=hp&ppn=homepage&ssid=93d0ui5sjk0000001626017008444&qH=ea24260ef5764089',\n",
       " 'https://www.flipkart.com/kulp-sneakers-men/p/itma5bdef0d0cea8?pid=SHOGFHHUZ5NRYDTA&lid=LSTSHOGFHHUZ5NRYDTAK203BA&marketplace=FLIPKART&q=Sneakers&store=osp%2Fcil%2Fe1f&srno=s_1_38&otracker=search&otracker1=search&fm=SEARCH&iid=0af44cb2-16ce-4a30-a388-0130a5253ed8.SHOGFHHUZ5NRYDTA.SEARCH&ppt=hp&ppn=homepage&ssid=93d0ui5sjk0000001626017008444&qH=ea24260ef5764089',\n",
       " 'https://www.flipkart.com/robbie-jones-casual-sneakers-white-shoes-men/p/itm1cd015e596af2?pid=SHOG3HTS5XZKFY93&lid=LSTSHOG3HTS5XZKFY93XCTJXD&marketplace=FLIPKART&q=Sneakers&store=osp%2Fcil%2Fe1f&srno=s_1_39&otracker=search&otracker1=search&fm=SEARCH&iid=0af44cb2-16ce-4a30-a388-0130a5253ed8.SHOG3HTS5XZKFY93.SEARCH&ppt=hp&ppn=homepage&ssid=93d0ui5sjk0000001626017008444&qH=ea24260ef5764089',\n",
       " 'https://www.flipkart.com/arohi-sneakers-men/p/itm6902e4b22d54d?pid=SHOFZUBJEZGYCJXZ&lid=LSTSHOFZUBJEZGYCJXZQBFB6N&marketplace=FLIPKART&q=Sneakers&store=osp%2Fcil%2Fe1f&srno=s_1_40&otracker=search&otracker1=search&fm=SEARCH&iid=0af44cb2-16ce-4a30-a388-0130a5253ed8.SHOFZUBJEZGYCJXZ.SEARCH&ppt=hp&ppn=homepage&ssid=93d0ui5sjk0000001626017008444&qH=ea24260ef5764089']"
      ]
     },
     "execution_count": 269,
     "metadata": {},
     "output_type": "execute_result"
    }
   ],
   "source": [
    "#Fetching urls :\n",
    "urls1 = []\n",
    "\n",
    "for i in driver.find_elements_by_xpath(\"//a[@class='_2UzuFa']\"):\n",
    "    urls1.append(i.get_attribute(\"href\"))\n",
    "urls1"
   ]
  },
  {
   "cell_type": "code",
   "execution_count": 270,
   "metadata": {},
   "outputs": [],
   "source": [
    "#Clicking next button\n",
    "\n",
    "btn = driver.find_element_by_xpath(\"//a[@class='_1LKTO3']\")\n",
    "btn.click()"
   ]
  },
  {
   "cell_type": "code",
   "execution_count": 271,
   "metadata": {},
   "outputs": [
    {
     "data": {
      "text/plain": [
       "['https://www.flipkart.com/robbie-jones-casual-sneakers-green-shoes-men-boys/p/itmcb034185a84b6?pid=SHOG48H9GXBFJRHB&lid=LSTSHOG48H9GXBFJRHBALSSFE&marketplace=FLIPKART&q=Sneakers&store=osp%2Fcil%2Fe1f&srno=s_2_41&otracker=search&otracker1=search&fm=SEARCH&iid=e608e797-cdac-4678-acb9-162c47beac11.SHOG48H9GXBFJRHB.SEARCH&ppt=sp&ppn=sp&ssid=93d0ui5sjk0000001626017008444&qH=ea24260ef5764089',\n",
       " 'https://www.flipkart.com/absolute-comfort-redt-sneakers-men/p/itmea2323739a8e1?pid=SHOFN66APSFZBXAJ&lid=LSTSHOFN66APSFZBXAJR91NQ6&marketplace=FLIPKART&q=Sneakers&store=osp%2Fcil%2Fe1f&srno=s_2_42&otracker=search&otracker1=search&fm=SEARCH&iid=e608e797-cdac-4678-acb9-162c47beac11.SHOFN66APSFZBXAJ.SEARCH&ppt=sp&ppn=sp&ssid=93d0ui5sjk0000001626017008444&qH=ea24260ef5764089',\n",
       " 'https://www.flipkart.com/fzzirok-premium-quality-sneakers-men/p/itm513fd99fa782c?pid=SHOFWX2PWEBTZYN8&lid=LSTSHOFWX2PWEBTZYN8MEQZQR&marketplace=FLIPKART&q=Sneakers&store=osp%2Fcil%2Fe1f&srno=s_2_43&otracker=search&otracker1=search&fm=SEARCH&iid=e608e797-cdac-4678-acb9-162c47beac11.SHOFWX2PWEBTZYN8.SEARCH&ppt=sp&ppn=sp&ssid=93d0ui5sjk0000001626017008444&qH=ea24260ef5764089',\n",
       " 'https://www.flipkart.com/m-k-footwear-sneakers-men/p/itmdef8cfdc73108?pid=SHOFWC5PYCVW2FEZ&lid=LSTSHOFWC5PYCVW2FEZFNADMT&marketplace=FLIPKART&q=Sneakers&store=osp%2Fcil%2Fe1f&srno=s_2_44&otracker=search&otracker1=search&fm=SEARCH&iid=e608e797-cdac-4678-acb9-162c47beac11.SHOFWC5PYCVW2FEZ.SEARCH&ppt=sp&ppn=sp&ssid=93d0ui5sjk0000001626017008444&qH=ea24260ef5764089',\n",
       " 'https://www.flipkart.com/bruton-combo-pack-4-casual-sneakers-men/p/itm1d1e636ead4f8?pid=SHOFUXX6KZQCXMQG&lid=LSTSHOFUXX6KZQCXMQGKFIAGB&marketplace=FLIPKART&q=Sneakers&store=osp%2Fcil%2Fe1f&srno=s_2_45&otracker=search&otracker1=search&fm=SEARCH&iid=e608e797-cdac-4678-acb9-162c47beac11.SHOFUXX6KZQCXMQG.SEARCH&ppt=sp&ppn=sp&ssid=93d0ui5sjk0000001626017008444&qH=ea24260ef5764089',\n",
       " 'https://www.flipkart.com/essence-trendy-sneakers-men/p/itme81433c7af69b?pid=SHOFVXKTF2GVGGYQ&lid=LSTSHOFVXKTF2GVGGYQSMLBAA&marketplace=FLIPKART&q=Sneakers&store=osp%2Fcil%2Fe1f&srno=s_2_46&otracker=search&otracker1=search&fm=SEARCH&iid=e608e797-cdac-4678-acb9-162c47beac11.SHOFVXKTF2GVGGYQ.SEARCH&ppt=sp&ppn=sp&ssid=93d0ui5sjk0000001626017008444&qH=ea24260ef5764089',\n",
       " 'https://www.flipkart.com/world-wear-footwear-men-5014-latest-collection-stylish-casual-sports-loafers-shoes-sneakers/p/itme2c602df3a559?pid=SHOFNKABXC5Z6B6Z&lid=LSTSHOFNKABXC5Z6B6ZPEG7CD&marketplace=FLIPKART&q=Sneakers&store=osp%2Fcil%2Fe1f&srno=s_2_47&otracker=search&otracker1=search&fm=SEARCH&iid=e608e797-cdac-4678-acb9-162c47beac11.SHOFNKABXC5Z6B6Z.SEARCH&ppt=sp&ppn=sp&ssid=93d0ui5sjk0000001626017008444&qH=ea24260ef5764089',\n",
       " 'https://www.flipkart.com/kardam-sons-karda-casual-sneakers-gym-shoes-men-s-boys-white-color-men/p/itm9e03a806f0997?pid=SHOFN4MF3J9MY9B6&lid=LSTSHOFN4MF3J9MY9B6OLX4CT&marketplace=FLIPKART&q=Sneakers&store=osp%2Fcil%2Fe1f&srno=s_2_48&otracker=search&otracker1=search&fm=SEARCH&iid=e608e797-cdac-4678-acb9-162c47beac11.SHOFN4MF3J9MY9B6.SEARCH&ppt=sp&ppn=sp&ssid=93d0ui5sjk0000001626017008444&qH=ea24260ef5764089',\n",
       " 'https://www.flipkart.com/hotstyle-sneakers-men/p/itmd61642c1b04ea?pid=SHOFQ3GJ5GZHK5RM&lid=LSTSHOFQ3GJ5GZHK5RMRAZXSF&marketplace=FLIPKART&q=Sneakers&store=osp%2Fcil%2Fe1f&srno=s_2_49&otracker=search&otracker1=search&fm=SEARCH&iid=e608e797-cdac-4678-acb9-162c47beac11.SHOFQ3GJ5GZHK5RM.SEARCH&ppt=sp&ppn=sp&ssid=93d0ui5sjk0000001626017008444&qH=ea24260ef5764089',\n",
       " 'https://www.flipkart.com/ktiz-rockstyle-trending-multicolor-ultralight-canvas-sport-training-lace-up-morning-evening-walk-dating-running-shoes-men-sports-latest-stylish-casual-sneakers-lace-up-lightweight-running-walking-gym-trekking-hiking-party/p/itm36847ea3fc492?pid=SHOFYPTAVBMHJW8E&lid=LSTSHOFYPTAVBMHJW8EUNLE9S&marketplace=FLIPKART&q=Sneakers&store=osp%2Fcil%2Fe1f&srno=s_2_50&otracker=search&otracker1=search&fm=SEARCH&iid=e608e797-cdac-4678-acb9-162c47beac11.SHOFYPTAVBMHJW8E.SEARCH&ppt=sp&ppn=sp&ssid=93d0ui5sjk0000001626017008444&qH=ea24260ef5764089',\n",
       " 'https://www.flipkart.com/jack-diamond-sneakers-men/p/itmfg3zsnpc53pes?pid=SHOFG3REUWHYBHBA&lid=LSTSHOFG3REUWHYBHBA77CGXA&marketplace=FLIPKART&q=Sneakers&store=osp%2Fcil%2Fe1f&srno=s_2_51&otracker=search&otracker1=search&fm=SEARCH&iid=e608e797-cdac-4678-acb9-162c47beac11.SHOFG3REUWHYBHBA.SEARCH&ppt=sp&ppn=sp&ssid=93d0ui5sjk0000001626017008444&qH=ea24260ef5764089',\n",
       " 'https://www.flipkart.com/lee-won-2-pairs-sneakers-men/p/itmf7jyjqwm5cgms?pid=SHOF7JHNHHDU6HFN&lid=LSTSHOF7JHNHHDU6HFN9E58ST&marketplace=FLIPKART&q=Sneakers&store=osp%2Fcil%2Fe1f&srno=s_2_52&otracker=search&otracker1=search&fm=SEARCH&iid=e608e797-cdac-4678-acb9-162c47beac11.SHOF7JHNHHDU6HFN.SEARCH&ppt=sp&ppn=sp&ssid=93d0ui5sjk0000001626017008444&qH=ea24260ef5764089',\n",
       " 'https://www.flipkart.com/zsyto-sneakers-men/p/itmd1559e06f06f0?pid=SHOG4BNP7BZYFWKP&lid=LSTSHOG4BNP7BZYFWKPVMYOZT&marketplace=FLIPKART&q=Sneakers&store=osp%2Fcil%2Fe1f&srno=s_2_53&otracker=search&otracker1=search&fm=SEARCH&iid=e608e797-cdac-4678-acb9-162c47beac11.SHOG4BNP7BZYFWKP.SEARCH&ppt=sp&ppn=sp&ssid=93d0ui5sjk0000001626017008444&qH=ea24260ef5764089',\n",
       " 'https://www.flipkart.com/chevit-combo-pack-4-casual-sneakers-men/p/itmfg2ybzgeygd6t?pid=SHOFGY97JGZTBRHY&lid=LSTSHOFGY97JGZTBRHYNHQPWS&marketplace=FLIPKART&q=Sneakers&store=osp%2Fcil%2Fe1f&srno=s_2_54&otracker=search&otracker1=search&fm=SEARCH&iid=e608e797-cdac-4678-acb9-162c47beac11.SHOFGY97JGZTBRHY.SEARCH&ppt=sp&ppn=sp&ssid=93d0ui5sjk0000001626017008444&qH=ea24260ef5764089',\n",
       " 'https://www.flipkart.com/robbie-jones-casual-sneakers-shoes-men/p/itme701e43fadcc5?pid=SHOFYW3GHH5TXSDK&lid=LSTSHOFYW3GHH5TXSDK9HPZPF&marketplace=FLIPKART&q=Sneakers&store=osp%2Fcil%2Fe1f&srno=s_2_55&otracker=search&otracker1=search&fm=SEARCH&iid=e608e797-cdac-4678-acb9-162c47beac11.SHOFYW3GHH5TXSDK.SEARCH&ppt=sp&ppn=sp&ssid=93d0ui5sjk0000001626017008444&qH=ea24260ef5764089',\n",
       " 'https://www.flipkart.com/d-sneakerz-casual-partywear-sneakers-shoes-men-s-boys-white-color-men/p/itmf3yysmcgaff2q?pid=SHOFFT2ZAMFVYJGQ&lid=LSTSHOFFT2ZAMFVYJGQCFTOI3&marketplace=FLIPKART&q=Sneakers&store=osp%2Fcil%2Fe1f&srno=s_2_56&otracker=search&otracker1=search&fm=SEARCH&iid=e608e797-cdac-4678-acb9-162c47beac11.SHOFFT2ZAMFVYJGQ.SEARCH&ppt=sp&ppn=sp&ssid=93d0ui5sjk0000001626017008444&qH=ea24260ef5764089',\n",
       " 'https://www.flipkart.com/zsyto-sneakers-men/p/itm26251f32cf9d2?pid=SHOFW3FHSQMEGDHJ&lid=LSTSHOFW3FHSQMEGDHJBP9KK7&marketplace=FLIPKART&q=Sneakers&store=osp%2Fcil%2Fe1f&srno=s_2_57&otracker=search&otracker1=search&fm=SEARCH&iid=e608e797-cdac-4678-acb9-162c47beac11.SHOFW3FHSQMEGDHJ.SEARCH&ppt=sp&ppn=sp&ssid=93d0ui5sjk0000001626017008444&qH=ea24260ef5764089',\n",
       " 'https://www.flipkart.com/kardam-sons-fashionable-casual-sneaker-shoes-sneakers-men/p/itm1a790775c3b9f?pid=SHOG2FU4K3NRZ2WT&lid=LSTSHOG2FU4K3NRZ2WT21CMUJ&marketplace=FLIPKART&q=Sneakers&store=osp%2Fcil%2Fe1f&srno=s_2_58&otracker=search&otracker1=search&fm=SEARCH&iid=e608e797-cdac-4678-acb9-162c47beac11.SHOG2FU4K3NRZ2WT.SEARCH&ppt=sp&ppn=sp&ssid=93d0ui5sjk0000001626017008444&qH=ea24260ef5764089',\n",
       " 'https://www.flipkart.com/robbie-jones-casual-sneakers-green-shoes-men-boys/p/itm842febe84a991?pid=SHOG48BFTWTBRUVX&lid=LSTSHOG48BFTWTBRUVXZNBPHN&marketplace=FLIPKART&q=Sneakers&store=osp%2Fcil%2Fe1f&srno=s_2_59&otracker=search&otracker1=search&fm=SEARCH&iid=e608e797-cdac-4678-acb9-162c47beac11.SHOG48BFTWTBRUVX.SEARCH&ppt=sp&ppn=sp&ssid=93d0ui5sjk0000001626017008444&qH=ea24260ef5764089',\n",
       " 'https://www.flipkart.com/birde-combo-pack-4-casual-shoes-sneakers-men/p/itm3915ef2ffae83?pid=SHOGFAZ9GTDPBCWR&lid=LSTSHOGFAZ9GTDPBCWR1JIPNM&marketplace=FLIPKART&q=Sneakers&store=osp%2Fcil%2Fe1f&srno=s_2_60&otracker=search&otracker1=search&fm=SEARCH&iid=e608e797-cdac-4678-acb9-162c47beac11.SHOGFAZ9GTDPBCWR.SEARCH&ppt=sp&ppn=sp&ssid=93d0ui5sjk0000001626017008444&qH=ea24260ef5764089',\n",
       " 'https://www.flipkart.com/puma-trenzo-ii-idp-sneakers-men/p/itm4cdc98e6416cb?pid=SHOFNU2WG9WTBMUP&lid=LSTSHOFNU2WG9WTBMUPZ1ULMZ&marketplace=FLIPKART&q=Sneakers&store=osp%2Fcil%2Fe1f&srno=s_2_61&otracker=search&otracker1=search&fm=SEARCH&iid=e608e797-cdac-4678-acb9-162c47beac11.SHOFNU2WG9WTBMUP.SEARCH&ppt=sp&ppn=sp&ssid=93d0ui5sjk0000001626017008444&qH=ea24260ef5764089',\n",
       " 'https://www.flipkart.com/bluemaker-casual-shoe-men-sneakers/p/itm02405f7701115?pid=SHOFP4YXHPZMZM7A&lid=LSTSHOFP4YXHPZMZM7AZZVCRL&marketplace=FLIPKART&q=Sneakers&store=osp%2Fcil%2Fe1f&srno=s_2_62&otracker=search&otracker1=search&fm=SEARCH&iid=e608e797-cdac-4678-acb9-162c47beac11.SHOFP4YXHPZMZM7A.SEARCH&ppt=sp&ppn=sp&ssid=93d0ui5sjk0000001626017008444&qH=ea24260ef5764089',\n",
       " 'https://www.flipkart.com/kardam-sons-karda-casual-sneakers-gym-shoes-men-s-boys-white-color-men/p/itm9a720004b26f8?pid=SHOFN4MFQHHHYYWQ&lid=LSTSHOFN4MFQHHHYYWQOBYUOA&marketplace=FLIPKART&q=Sneakers&store=osp%2Fcil%2Fe1f&srno=s_2_63&otracker=search&otracker1=search&fm=SEARCH&iid=e608e797-cdac-4678-acb9-162c47beac11.SHOFN4MFQHHHYYWQ.SEARCH&ppt=sp&ppn=sp&ssid=93d0ui5sjk0000001626017008444&qH=ea24260ef5764089',\n",
       " 'https://www.flipkart.com/hockwood-street-smart-sneakers-men/p/itmb8679ed3fea08?pid=SHOFHPQT4UTRF5ZF&lid=LSTSHOFHPQT4UTRF5ZF7K8TGT&marketplace=FLIPKART&q=Sneakers&store=osp%2Fcil%2Fe1f&srno=s_2_64&otracker=search&otracker1=search&fm=SEARCH&iid=e608e797-cdac-4678-acb9-162c47beac11.SHOFHPQT4UTRF5ZF.SEARCH&ppt=sp&ppn=sp&ssid=93d0ui5sjk0000001626017008444&qH=ea24260ef5764089',\n",
       " 'https://www.flipkart.com/essence-trendy-sneakers-men/p/itm8d585afd62014?pid=SHOFVXKTSHF8AJ5C&lid=LSTSHOFVXKTSHF8AJ5COIYBBN&marketplace=FLIPKART&q=Sneakers&store=osp%2Fcil%2Fe1f&srno=s_2_65&otracker=search&otracker1=search&fm=SEARCH&iid=e608e797-cdac-4678-acb9-162c47beac11.SHOFVXKTSHF8AJ5C.SEARCH&ppt=sp&ppn=sp&ssid=93d0ui5sjk0000001626017008444&qH=ea24260ef5764089',\n",
       " 'https://www.flipkart.com/essence-trendy-sneakers-men/p/itmaeaf9a6d34c0f?pid=SHOFVXKT8EC6FSUG&lid=LSTSHOFVXKT8EC6FSUGTMLPQH&marketplace=FLIPKART&q=Sneakers&store=osp%2Fcil%2Fe1f&srno=s_2_66&otracker=search&otracker1=search&fm=SEARCH&iid=e608e797-cdac-4678-acb9-162c47beac11.SHOFVXKT8EC6FSUG.SEARCH&ppt=sp&ppn=sp&ssid=93d0ui5sjk0000001626017008444&qH=ea24260ef5764089',\n",
       " 'https://www.flipkart.com/kardam-sons-karda-casual-sneakers-gym-shoes-men-s-boys-white-color-men/p/itmb5c60fbfab967?pid=SHOFN4MFWEQQ7FUZ&lid=LSTSHOFN4MFWEQQ7FUZPLEOMR&marketplace=FLIPKART&q=Sneakers&store=osp%2Fcil%2Fe1f&srno=s_2_67&otracker=search&otracker1=search&fm=SEARCH&iid=e608e797-cdac-4678-acb9-162c47beac11.SHOFN4MFWEQQ7FUZ.SEARCH&ppt=sp&ppn=sp&ssid=93d0ui5sjk0000001626017008444&qH=ea24260ef5764089',\n",
       " 'https://www.flipkart.com/edoeviv-sneakers-men-white-men/p/itm2a544a96f49e8?pid=SHOFY7QPGWHX8ZNT&lid=LSTSHOFY7QPGWHX8ZNTGXIWER&marketplace=FLIPKART&q=Sneakers&store=osp%2Fcil%2Fe1f&srno=s_2_68&otracker=search&otracker1=search&fm=SEARCH&iid=e608e797-cdac-4678-acb9-162c47beac11.SHOFY7QPGWHX8ZNT.SEARCH&ppt=sp&ppn=sp&ssid=93d0ui5sjk0000001626017008444&qH=ea24260ef5764089',\n",
       " 'https://www.flipkart.com/india-hub-fashionable-casual-sneakers-shoes-men/p/itm5b26824d21d3a?pid=SHOFUZ4HGSQBWHKD&lid=LSTSHOFUZ4HGSQBWHKDKQ1FV2&marketplace=FLIPKART&q=Sneakers&store=osp%2Fcil%2Fe1f&srno=s_2_69&otracker=search&otracker1=search&fm=SEARCH&iid=e608e797-cdac-4678-acb9-162c47beac11.SHOFUZ4HGSQBWHKD.SEARCH&ppt=sp&ppn=sp&ssid=93d0ui5sjk0000001626017008444&qH=ea24260ef5764089',\n",
       " 'https://www.flipkart.com/puma-speeder-dp-sneakers-men/p/itmf3xsewhh8wzy3?pid=SHOE3YKBQVGJZGFZ&lid=LSTSHOE3YKBQVGJZGFZKYZOOX&marketplace=FLIPKART&q=Sneakers&store=osp%2Fcil%2Fe1f&srno=s_2_70&otracker=search&otracker1=search&fm=SEARCH&iid=e608e797-cdac-4678-acb9-162c47beac11.SHOE3YKBQVGJZGFZ.SEARCH&ppt=sp&ppn=sp&ssid=93d0ui5sjk0000001626017008444&qH=ea24260ef5764089',\n",
       " 'https://www.flipkart.com/sparx-sm-482-sneakers-men/p/itmdc045a01d0c82?pid=SHOFK93VWFHQG3GZ&lid=LSTSHOFK93VWFHQG3GZ1A2VSN&marketplace=FLIPKART&q=Sneakers&store=osp%2Fcil%2Fe1f&srno=s_2_71&otracker=search&otracker1=search&fm=SEARCH&iid=e608e797-cdac-4678-acb9-162c47beac11.SHOFK93VWFHQG3GZ.SEARCH&ppt=sp&ppn=sp&ssid=93d0ui5sjk0000001626017008444&qH=ea24260ef5764089',\n",
       " 'https://www.flipkart.com/robbie-jones-casual-sneakers-white-shoes-men-boys/p/itm41837de0ef26e?pid=SHOG3QBCSSFTMUCN&lid=LSTSHOG3QBCSSFTMUCNZ7PNKG&marketplace=FLIPKART&q=Sneakers&store=osp%2Fcil%2Fe1f&srno=s_2_72&otracker=search&otracker1=search&fm=SEARCH&iid=e608e797-cdac-4678-acb9-162c47beac11.SHOG3QBCSSFTMUCN.SEARCH&ppt=sp&ppn=sp&ssid=93d0ui5sjk0000001626017008444&qH=ea24260ef5764089',\n",
       " 'https://www.flipkart.com/hotstyle-sneakers-men/p/itm3b8928a42acd7?pid=SHOFQ3GJZKAU528G&lid=LSTSHOFQ3GJZKAU528GFWYEUO&marketplace=FLIPKART&q=Sneakers&store=osp%2Fcil%2Fe1f&srno=s_2_73&otracker=search&otracker1=search&fm=SEARCH&iid=e608e797-cdac-4678-acb9-162c47beac11.SHOFQ3GJZKAU528G.SEARCH&ppt=sp&ppn=sp&ssid=93d0ui5sjk0000001626017008444&qH=ea24260ef5764089',\n",
       " 'https://www.flipkart.com/world-wear-footwear-combo-pack-4-latest-collection-stylish-casual-loafer-sneakers-shoes-men/p/itm4d7438636eeaa?pid=SHOFZYY2HTUKFGCB&lid=LSTSHOFZYY2HTUKFGCBMWD0RN&marketplace=FLIPKART&q=Sneakers&store=osp%2Fcil%2Fe1f&srno=s_2_74&otracker=search&otracker1=search&fm=SEARCH&iid=e608e797-cdac-4678-acb9-162c47beac11.SHOFZYY2HTUKFGCB.SEARCH&ppt=sp&ppn=sp&ssid=93d0ui5sjk0000001626017008444&qH=ea24260ef5764089',\n",
       " 'https://www.flipkart.com/puma-perforated-low-idp-sneakers-men/p/itm4634022fd8574?pid=SHOFNU2WM94JSAF9&lid=LSTSHOFNU2WM94JSAF92AC1JZ&marketplace=FLIPKART&q=Sneakers&store=osp%2Fcil%2Fe1f&srno=s_2_75&otracker=search&otracker1=search&fm=SEARCH&iid=e608e797-cdac-4678-acb9-162c47beac11.SHOFNU2WM94JSAF9.SEARCH&ppt=sp&ppn=sp&ssid=93d0ui5sjk0000001626017008444&qH=ea24260ef5764089',\n",
       " 'https://www.flipkart.com/birde-combo-pack-2-casual-shoes-sneakers-men/p/itm860b3eb6cfa69?pid=SHOFZ5HQHXEJAAVD&lid=LSTSHOFZ5HQHXEJAAVD0DPEYP&marketplace=FLIPKART&q=Sneakers&store=osp%2Fcil%2Fe1f&srno=s_2_76&otracker=search&otracker1=search&fm=SEARCH&iid=e608e797-cdac-4678-acb9-162c47beac11.SHOFZ5HQHXEJAAVD.SEARCH&ppt=sp&ppn=sp&ssid=93d0ui5sjk0000001626017008444&qH=ea24260ef5764089',\n",
       " 'https://www.flipkart.com/axter-combo-pack-2-new-fashion-casual-loafers-sneakers-men/p/itm6fb86fabde186?pid=SHOFUZ32EUMV7EUJ&lid=LSTSHOFUZ32EUMV7EUJKLZBTW&marketplace=FLIPKART&q=Sneakers&store=osp%2Fcil%2Fe1f&srno=s_2_77&otracker=search&otracker1=search&fm=SEARCH&iid=e608e797-cdac-4678-acb9-162c47beac11.SHOFUZ32EUMV7EUJ.SEARCH&ppt=sp&ppn=sp&ssid=93d0ui5sjk0000001626017008444&qH=ea24260ef5764089',\n",
       " 'https://www.flipkart.com/sparx-sm-162-sneakers-men/p/itmfafyfwpdjcrpz?pid=SHOE5FAHFRQRVX5V&lid=LSTSHOE5FAHFRQRVX5VT8FGGS&marketplace=FLIPKART&q=Sneakers&store=osp%2Fcil%2Fe1f&srno=s_2_78&otracker=search&otracker1=search&fm=SEARCH&iid=e608e797-cdac-4678-acb9-162c47beac11.SHOE5FAHFRQRVX5V.SEARCH&ppt=sp&ppn=sp&ssid=93d0ui5sjk0000001626017008444&qH=ea24260ef5764089',\n",
       " 'https://www.flipkart.com/zsyto-casual-sneaker-shoes-men-sneakers/p/itmafd79dd6b16bd?pid=SHOG4CPWU7HQ3GTQ&lid=LSTSHOG4CPWU7HQ3GTQXS6G0R&marketplace=FLIPKART&q=Sneakers&store=osp%2Fcil%2Fe1f&srno=s_2_79&otracker=search&otracker1=search&fm=SEARCH&iid=e608e797-cdac-4678-acb9-162c47beac11.SHOG4CPWU7HQ3GTQ.SEARCH&ppt=sp&ppn=sp&ssid=93d0ui5sjk0000001626017008444&qH=ea24260ef5764089',\n",
       " 'https://www.flipkart.com/sparx-sm-439-sneakers-men/p/itmeb768fe874f3e?pid=SHOFKH7ZFCXKCDAG&lid=LSTSHOFKH7ZFCXKCDAGLZPGES&marketplace=FLIPKART&q=Sneakers&store=osp%2Fcil%2Fe1f&srno=s_2_80&otracker=search&otracker1=search&fm=SEARCH&iid=e608e797-cdac-4678-acb9-162c47beac11.SHOFKH7ZFCXKCDAG.SEARCH&ppt=sp&ppn=sp&ssid=93d0ui5sjk0000001626017008444&qH=ea24260ef5764089']"
      ]
     },
     "execution_count": 271,
     "metadata": {},
     "output_type": "execute_result"
    }
   ],
   "source": [
    "urls2 = []\n",
    "\n",
    "for i in driver.find_elements_by_xpath(\"//a[@class='_2UzuFa']\"):\n",
    "    urls2.append(i.get_attribute(\"href\"))\n",
    "urls2"
   ]
  },
  {
   "cell_type": "code",
   "execution_count": 272,
   "metadata": {},
   "outputs": [],
   "source": [
    "#Clicking next button\n",
    "\n",
    "btn = driver.find_element_by_xpath(\"//a[@class='_1LKTO3']\")\n",
    "btn.click()"
   ]
  },
  {
   "cell_type": "code",
   "execution_count": 273,
   "metadata": {},
   "outputs": [
    {
     "data": {
      "text/plain": [
       "['https://www.flipkart.com/robbie-jones-casual-sneakers-shoes-men/p/itm5ee18096b212e?pid=SHOFVJG9AWTPN5GJ&lid=LSTSHOFVJG9AWTPN5GJT4JSYQ&marketplace=FLIPKART&q=Sneakers&store=osp%2Fcil%2Fe1f&srno=s_1_1&otracker=search&otracker1=search&fm=SEARCH&iid=705ef9f9-f90a-49db-98ac-b8eea5c68a03.SHOFVJG9AWTPN5GJ.SEARCH&ppt=sp&ppn=sp&ssid=93d0ui5sjk0000001626017008444&qH=ea24260ef5764089',\n",
       " 'https://www.flipkart.com/calcados-modern-trendy-shoes-combo-pack-4-sneakers-men/p/itm6d53374118bd3?pid=SHOGF43N3VVF8ATZ&lid=LSTSHOGF43N3VVF8ATZDIM8WW&marketplace=FLIPKART&q=Sneakers&store=osp%2Fcil%2Fe1f&srno=s_1_2&otracker=search&otracker1=search&fm=SEARCH&iid=705ef9f9-f90a-49db-98ac-b8eea5c68a03.SHOGF43N3VVF8ATZ.SEARCH&ppt=sp&ppn=sp&ssid=93d0ui5sjk0000001626017008444&qH=ea24260ef5764089',\n",
       " 'https://www.flipkart.com/nilatin-black-sneaker-men-sneakers/p/itmd49f1f095b6ce?pid=SHOG42RAPAE6WQKG&lid=LSTSHOG42RAPAE6WQKGNMTZQD&marketplace=FLIPKART&q=Sneakers&store=osp%2Fcil%2Fe1f&srno=s_1_3&otracker=search&otracker1=search&fm=SEARCH&iid=705ef9f9-f90a-49db-98ac-b8eea5c68a03.SHOG42RAPAE6WQKG.SEARCH&ppt=sp&ppn=sp&ssid=93d0ui5sjk0000001626017008444&qH=ea24260ef5764089',\n",
       " 'https://www.flipkart.com/chevit-super-stylish-trendy-combo-pack-02-pairs-sneakers-outdoor-loafer-sports-running-rock-climbing-gym-shoes-men/p/itmfce3a6f2183d4?pid=SHOGFVTAG39Y7ZHY&lid=LSTSHOGFVTAG39Y7ZHYAAGEEY&marketplace=FLIPKART&q=Sneakers&store=osp%2Fcil%2Fe1f&srno=s_1_4&otracker=search&otracker1=search&fm=SEARCH&iid=705ef9f9-f90a-49db-98ac-b8eea5c68a03.SHOGFVTAG39Y7ZHY.SEARCH&ppt=sp&ppn=sp&ssid=93d0ui5sjk0000001626017008444&qH=ea24260ef5764089',\n",
       " 'https://www.flipkart.com/pehanosa-sneakers-men/p/itm79691dee62250?pid=SHOGFXFQXJAHPSBV&lid=LSTSHOGFXFQXJAHPSBVCMHOML&marketplace=FLIPKART&q=Sneakers&store=osp%2Fcil%2Fe1f&srno=s_1_5&otracker=search&otracker1=search&fm=SEARCH&iid=705ef9f9-f90a-49db-98ac-b8eea5c68a03.SHOGFXFQXJAHPSBV.SEARCH&ppt=sp&ppn=sp&ssid=93d0ui5sjk0000001626017008444&qH=ea24260ef5764089',\n",
       " 'https://www.flipkart.com/shoes-bank-white-sneaker-men-s-boy-s-sneakers-men/p/itmf9p2zdypz2jyt?pid=SHOF9Z76DWFGAFWY&lid=LSTSHOF9Z76DWFGAFWYSDVYDU&marketplace=FLIPKART&q=Sneakers&store=osp%2Fcil%2Fe1f&srno=s_1_6&otracker=search&otracker1=search&fm=SEARCH&iid=705ef9f9-f90a-49db-98ac-b8eea5c68a03.SHOF9Z76DWFGAFWY.SEARCH&ppt=sp&ppn=sp&ssid=93d0ui5sjk0000001626017008444&qH=ea24260ef5764089',\n",
       " 'https://www.flipkart.com/kulp-sneakers-men/p/itma5bdef0d0cea8?pid=SHOGFHHU2APTSMHW&lid=LSTSHOGFHHU2APTSMHWBDSY4K&marketplace=FLIPKART&q=Sneakers&store=osp%2Fcil%2Fe1f&srno=s_1_7&otracker=search&otracker1=search&fm=SEARCH&iid=705ef9f9-f90a-49db-98ac-b8eea5c68a03.SHOGFHHU2APTSMHW.SEARCH&ppt=sp&ppn=sp&ssid=93d0ui5sjk0000001626017008444&qH=ea24260ef5764089',\n",
       " 'https://www.flipkart.com/world-wear-footwear-5011-latest-collection-stylish-casual-loafer-sneakers-shoes-men/p/itm01930e5430e12?pid=SHOFMY6NYMGEHRHX&lid=LSTSHOFMY6NYMGEHRHXR2SLIQ&marketplace=FLIPKART&q=Sneakers&store=osp%2Fcil%2Fe1f&srno=s_1_8&otracker=search&otracker1=search&fm=SEARCH&iid=705ef9f9-f90a-49db-98ac-b8eea5c68a03.SHOFMY6NYMGEHRHX.SEARCH&ppt=sp&ppn=sp&ssid=93d0ui5sjk0000001626017008444&qH=ea24260ef5764089',\n",
       " 'https://www.flipkart.com/numenzo-sneakers-men/p/itm072bfb0c5e869?pid=SHOFZ4RGEGXFYHY9&lid=LSTSHOFZ4RGEGXFYHY9UPNWTY&marketplace=FLIPKART&q=Sneakers&store=osp%2Fcil%2Fe1f&srno=s_1_9&otracker=search&otracker1=search&fm=SEARCH&iid=705ef9f9-f90a-49db-98ac-b8eea5c68a03.SHOFZ4RGEGXFYHY9.SEARCH&ppt=sp&ppn=sp&ssid=93d0ui5sjk0000001626017008444&qH=ea24260ef5764089',\n",
       " 'https://www.flipkart.com/asteroid-original-luxury-branded-fashionable-men-s-casual-walking-partywear-sneakers-running-white-shoes-men/p/itmadb9562baf1cd?pid=SHOG3F72EB7HAFQF&lid=LSTSHOG3F72EB7HAFQFENVW0L&marketplace=FLIPKART&q=Sneakers&store=osp%2Fcil%2Fe1f&srno=s_1_10&otracker=search&otracker1=search&fm=SEARCH&iid=705ef9f9-f90a-49db-98ac-b8eea5c68a03.SHOG3F72EB7HAFQF.SEARCH&ppt=sp&ppn=sp&ssid=93d0ui5sjk0000001626017008444&qH=ea24260ef5764089',\n",
       " 'https://www.flipkart.com/birde-combo-pack-4-casual-shoes-sneakers-men/p/itm6e3d45add0c84?pid=SHOGYGTHK7F9W2ZF&lid=LSTSHOGYGTHK7F9W2ZF1JAISX&marketplace=FLIPKART&q=Sneakers&store=osp%2Fcil%2Fe1f&srno=s_1_11&otracker=search&otracker1=search&fm=SEARCH&iid=705ef9f9-f90a-49db-98ac-b8eea5c68a03.SHOGYGTHK7F9W2ZF.SEARCH&ppt=sp&ppn=sp&ssid=93d0ui5sjk0000001626017008444&qH=ea24260ef5764089',\n",
       " 'https://www.flipkart.com/believe-sneakers-men-black-6-men/p/itmfdyhg8ezwgav9?pid=SHOFDXWW9M7YNPPM&lid=LSTSHOFDXWW9M7YNPPM46ICQT&marketplace=FLIPKART&q=Sneakers&store=osp%2Fcil%2Fe1f&srno=s_1_12&otracker=search&otracker1=search&fm=SEARCH&iid=705ef9f9-f90a-49db-98ac-b8eea5c68a03.SHOFDXWW9M7YNPPM.SEARCH&ppt=sp&ppn=sp&ssid=93d0ui5sjk0000001626017008444&qH=ea24260ef5764089',\n",
       " 'https://www.flipkart.com/essence-casuals-sneakers-men/p/itm5f0ba0887b1f8?pid=SHOFK4QZG2HRUD6B&lid=LSTSHOFK4QZG2HRUD6BC8287E&marketplace=FLIPKART&q=Sneakers&store=osp%2Fcil%2Fe1f&srno=s_1_13&otracker=search&otracker1=search&fm=SEARCH&iid=705ef9f9-f90a-49db-98ac-b8eea5c68a03.SHOFK4QZG2HRUD6B.SEARCH&ppt=sp&ppn=sp&ssid=93d0ui5sjk0000001626017008444&qH=ea24260ef5764089',\n",
       " 'https://www.flipkart.com/robbie-jones-sneakers-men/p/itmb630cbefaaf97?pid=SHOGF4HZY4QYKZ6M&lid=LSTSHOGF4HZY4QYKZ6MZSLDPN&marketplace=FLIPKART&q=Sneakers&store=osp%2Fcil%2Fe1f&srno=s_1_14&otracker=search&otracker1=search&fm=SEARCH&iid=705ef9f9-f90a-49db-98ac-b8eea5c68a03.SHOGF4HZY4QYKZ6M.SEARCH&ppt=sp&ppn=sp&ssid=93d0ui5sjk0000001626017008444&qH=ea24260ef5764089',\n",
       " 'https://www.flipkart.com/chevit-unique-perfect-collection-combo-pack-02-shoes-men-casual-sneakers-outdoor-walking-sport-running-gym-cycling-trekking-rock-climbing/p/itmff4e5480ba998?pid=SHOGYX9SX8ZHGMYH&lid=LSTSHOGYX9SX8ZHGMYHXKPZ6Z&marketplace=FLIPKART&q=Sneakers&store=osp%2Fcil%2Fe1f&srno=s_1_15&otracker=search&otracker1=search&fm=SEARCH&iid=705ef9f9-f90a-49db-98ac-b8eea5c68a03.SHOGYX9SX8ZHGMYH.SEARCH&ppt=sp&ppn=sp&ssid=93d0ui5sjk0000001626017008444&qH=ea24260ef5764089',\n",
       " 'https://www.flipkart.com/chevit-speed-set-5-pairs-sneakers-outdoors-casuals-men/p/itmccd9dcb86e757?pid=SHOFWJJFGKQEQFFW&lid=LSTSHOFWJJFGKQEQFFWDUC33S&marketplace=FLIPKART&q=Sneakers&store=osp%2Fcil%2Fe1f&srno=s_1_16&otracker=search&otracker1=search&fm=SEARCH&iid=705ef9f9-f90a-49db-98ac-b8eea5c68a03.SHOFWJJFGKQEQFFW.SEARCH&ppt=sp&ppn=sp&ssid=93d0ui5sjk0000001626017008444&qH=ea24260ef5764089',\n",
       " 'https://www.flipkart.com/stefano-rads-classy-sneakers-men/p/itmf3xvz7y5zngns?pid=SHOERAYW83HKH9FX&lid=LSTSHOERAYW83HKH9FX0GODGZ&marketplace=FLIPKART&q=Sneakers&store=osp%2Fcil%2Fe1f&srno=s_1_17&otracker=search&otracker1=search&fm=SEARCH&iid=705ef9f9-f90a-49db-98ac-b8eea5c68a03.SHOERAYW83HKH9FX.SEARCH&ppt=sp&ppn=sp&ssid=93d0ui5sjk0000001626017008444&qH=ea24260ef5764089',\n",
       " 'https://www.flipkart.com/chevit-super-445-fashion-sneakers-men/p/itm66119bb8aece9?pid=SHOFYAT7HUFHBTBE&lid=LSTSHOFYAT7HUFHBTBELSIG7O&marketplace=FLIPKART&q=Sneakers&store=osp%2Fcil%2Fe1f&srno=s_1_18&otracker=search&otracker1=search&fm=SEARCH&iid=705ef9f9-f90a-49db-98ac-b8eea5c68a03.SHOFYAT7HUFHBTBE.SEARCH&ppt=sp&ppn=sp&ssid=93d0ui5sjk0000001626017008444&qH=ea24260ef5764089',\n",
       " 'https://www.flipkart.com/world-wear-footwear-sneakers-men/p/itmc042a22b4f1aa?pid=SHOFNKAB5J2DRMYS&lid=LSTSHOFNKAB5J2DRMYSRZSEX7&marketplace=FLIPKART&q=Sneakers&store=osp%2Fcil%2Fe1f&srno=s_1_19&otracker=search&otracker1=search&fm=SEARCH&iid=705ef9f9-f90a-49db-98ac-b8eea5c68a03.SHOFNKAB5J2DRMYS.SEARCH&ppt=sp&ppn=sp&ssid=93d0ui5sjk0000001626017008444&qH=ea24260ef5764089',\n",
       " 'https://www.flipkart.com/scatchite-sneakers-men/p/itmc13680b1d9604?pid=SHOFUDSUUG8AAMZZ&lid=LSTSHOFUDSUUG8AAMZZXEJRH6&marketplace=FLIPKART&q=Sneakers&store=osp%2Fcil%2Fe1f&srno=s_1_20&otracker=search&otracker1=search&fm=SEARCH&iid=705ef9f9-f90a-49db-98ac-b8eea5c68a03.SHOFUDSUUG8AAMZZ.SEARCH&ppt=sp&ppn=sp&ssid=93d0ui5sjk0000001626017008444&qH=ea24260ef5764089',\n",
       " 'https://www.flipkart.com/t-rock-synthetic-leather-casual-partywear-wedding-sneakers-shoes-men/p/itmfhkz7qghnktdg?pid=SHOFHKH6B39PV5HE&lid=LSTSHOFHKH6B39PV5HE3W1SEV&marketplace=FLIPKART&q=Sneakers&store=osp%2Fcil%2Fe1f&srno=s_1_21&otracker=search&otracker1=search&fm=SEARCH&iid=705ef9f9-f90a-49db-98ac-b8eea5c68a03.SHOFHKH6B39PV5HE.SEARCH&ppt=sp&ppn=sp&ssid=93d0ui5sjk0000001626017008444&qH=ea24260ef5764089',\n",
       " 'https://www.flipkart.com/wrizt-casual-sneakers-dancing-walking-sneakers-men/p/itm3631db68b0f9b?pid=SHOGYWYKBH5HQNKZ&lid=LSTSHOGYWYKBH5HQNKZU1MIDU&marketplace=FLIPKART&q=Sneakers&store=osp%2Fcil%2Fe1f&srno=s_1_22&otracker=search&otracker1=search&fm=SEARCH&iid=705ef9f9-f90a-49db-98ac-b8eea5c68a03.SHOGYWYKBH5HQNKZ.SEARCH&ppt=sp&ppn=sp&ssid=93d0ui5sjk0000001626017008444&qH=ea24260ef5764089',\n",
       " 'https://www.flipkart.com/absolute-comfort-soft-sneakers-men/p/itm01b8b3d676371?pid=SHOFTFP8AD9HUYVM&lid=LSTSHOFTFP8AD9HUYVMHSLVHE&marketplace=FLIPKART&q=Sneakers&store=osp%2Fcil%2Fe1f&srno=s_1_23&otracker=search&otracker1=search&fm=SEARCH&iid=705ef9f9-f90a-49db-98ac-b8eea5c68a03.SHOFTFP8AD9HUYVM.SEARCH&ppt=sp&ppn=sp&ssid=93d0ui5sjk0000001626017008444&qH=ea24260ef5764089',\n",
       " 'https://www.flipkart.com/jokatoo-casual-sneaker-shoes-partywear-casuals-men-sneakers/p/itmbc07ae8e0f5fc?pid=SHOFMKKUWZQZHY3B&lid=LSTSHOFMKKUWZQZHY3B8RHJNE&marketplace=FLIPKART&q=Sneakers&store=osp%2Fcil%2Fe1f&srno=s_1_24&otracker=search&otracker1=search&fm=SEARCH&iid=705ef9f9-f90a-49db-98ac-b8eea5c68a03.SHOFMKKUWZQZHY3B.SEARCH&ppt=sp&ppn=sp&ssid=93d0ui5sjk0000001626017008444&qH=ea24260ef5764089',\n",
       " 'https://www.flipkart.com/zorth-new-fashion-outdoor-trendy-lightweight-casual-canvas-stylish-partywear-sneakers-shoes-boys-men/p/itme127ce3431f9d?pid=SHOFTMXCZQWYPSQH&lid=LSTSHOFTMXCZQWYPSQHIRWVWT&marketplace=FLIPKART&q=Sneakers&store=osp%2Fcil%2Fe1f&srno=s_1_25&otracker=search&otracker1=search&fm=SEARCH&iid=705ef9f9-f90a-49db-98ac-b8eea5c68a03.SHOFTMXCZQWYPSQH.SEARCH&ppt=sp&ppn=sp&ssid=93d0ui5sjk0000001626017008444&qH=ea24260ef5764089',\n",
       " 'https://www.flipkart.com/d-sneakerz-casual-partywear-sneakers-shoes-men-s-boys-white-color-men/p/itmf3xujnyvhbeqh?pid=SHOFFT35TZJFPTA4&lid=LSTSHOFFT35TZJFPTA4GQXUMX&marketplace=FLIPKART&q=Sneakers&store=osp%2Fcil%2Fe1f&srno=s_1_26&otracker=search&otracker1=search&fm=SEARCH&iid=705ef9f9-f90a-49db-98ac-b8eea5c68a03.SHOFFT35TZJFPTA4.SEARCH&ppt=sp&ppn=sp&ssid=93d0ui5sjk0000001626017008444&qH=ea24260ef5764089',\n",
       " 'https://www.flipkart.com/world-wear-footwear-latest-collection-1227-stylish-casual-sports-sneakers-men/p/itmf417d91f7b7b2?pid=SHOFJGUEKN5G9YFG&lid=LSTSHOFJGUEKN5G9YFGBFKDOL&marketplace=FLIPKART&q=Sneakers&store=osp%2Fcil%2Fe1f&srno=s_1_27&otracker=search&otracker1=search&fm=SEARCH&iid=705ef9f9-f90a-49db-98ac-b8eea5c68a03.SHOFJGUEKN5G9YFG.SEARCH&ppt=sp&ppn=sp&ssid=93d0ui5sjk0000001626017008444&qH=ea24260ef5764089',\n",
       " 'https://www.flipkart.com/stranger-brothers-sneakers-men/p/itma25b0e41be4ec?pid=SHOG44DPPTT9RNUU&lid=LSTSHOG44DPPTT9RNUU0YEM8T&marketplace=FLIPKART&q=Sneakers&store=osp%2Fcil%2Fe1f&srno=s_1_28&otracker=search&otracker1=search&fm=SEARCH&iid=705ef9f9-f90a-49db-98ac-b8eea5c68a03.SHOG44DPPTT9RNUU.SEARCH&ppt=sp&ppn=sp&ssid=93d0ui5sjk0000001626017008444&qH=ea24260ef5764089',\n",
       " 'https://www.flipkart.com/restinfoot-casual-shoes-sneakers-men/p/itmfeuvtqzmpswx7?pid=SHOFEUP9KHS4RZZX&lid=LSTSHOFEUP9KHS4RZZXWLN97J&marketplace=FLIPKART&q=Sneakers&store=osp%2Fcil%2Fe1f&srno=s_1_29&otracker=search&otracker1=search&fm=SEARCH&iid=705ef9f9-f90a-49db-98ac-b8eea5c68a03.SHOFEUP9KHS4RZZX.SEARCH&ppt=sp&ppn=sp&ssid=93d0ui5sjk0000001626017008444&qH=ea24260ef5764089',\n",
       " 'https://www.flipkart.com/kraasa-series-7-sneakers-men/p/itmda307099c343b?pid=SHOGF3MZ5VCXD7HG&lid=LSTSHOGF3MZ5VCXD7HGSAF6TP&marketplace=FLIPKART&q=Sneakers&store=osp%2Fcil%2Fe1f&srno=s_1_30&otracker=search&otracker1=search&fm=SEARCH&iid=705ef9f9-f90a-49db-98ac-b8eea5c68a03.SHOGF3MZ5VCXD7HG.SEARCH&ppt=sp&ppn=sp&ssid=93d0ui5sjk0000001626017008444&qH=ea24260ef5764089',\n",
       " 'https://www.flipkart.com/robbie-jones-sneakers-men/p/itm71828864239ee?pid=SHOFWVUDSWMBMN4Q&lid=LSTSHOFWVUDSWMBMN4QWSNJDS&marketplace=FLIPKART&q=Sneakers&store=osp%2Fcil%2Fe1f&srno=s_1_31&otracker=search&otracker1=search&fm=SEARCH&iid=705ef9f9-f90a-49db-98ac-b8eea5c68a03.SHOFWVUDSWMBMN4Q.SEARCH&ppt=sp&ppn=sp&ssid=93d0ui5sjk0000001626017008444&qH=ea24260ef5764089',\n",
       " 'https://www.flipkart.com/essence-sneakers-men/p/itmc3d0142b55301?pid=SHOFK4QZSQAFPV82&lid=LSTSHOFK4QZSQAFPV82U7LGQN&marketplace=FLIPKART&q=Sneakers&store=osp%2Fcil%2Fe1f&srno=s_1_32&otracker=search&otracker1=search&fm=SEARCH&iid=705ef9f9-f90a-49db-98ac-b8eea5c68a03.SHOFK4QZSQAFPV82.SEARCH&ppt=sp&ppn=sp&ssid=93d0ui5sjk0000001626017008444&qH=ea24260ef5764089',\n",
       " 'https://www.flipkart.com/robbie-jones-casual-sneakers-white-shoes-men/p/itm1cd015e596af2?pid=SHOG3HTS5XZKFY93&lid=LSTSHOG3HTS5XZKFY93XCTJXD&marketplace=FLIPKART&q=Sneakers&store=osp%2Fcil%2Fe1f&srno=s_1_33&otracker=search&otracker1=search&fm=SEARCH&iid=705ef9f9-f90a-49db-98ac-b8eea5c68a03.SHOG3HTS5XZKFY93.SEARCH&ppt=sp&ppn=sp&ssid=93d0ui5sjk0000001626017008444&qH=ea24260ef5764089',\n",
       " 'https://www.flipkart.com/zsyto-sneakers-men/p/itm19ca926d06bf8?pid=SHOFXACVHEKHUJEZ&lid=LSTSHOFXACVHEKHUJEZZGQGCW&marketplace=FLIPKART&q=Sneakers&store=osp%2Fcil%2Fe1f&srno=s_1_34&otracker=search&otracker1=search&fm=SEARCH&iid=705ef9f9-f90a-49db-98ac-b8eea5c68a03.SHOFXACVHEKHUJEZ.SEARCH&ppt=sp&ppn=sp&ssid=93d0ui5sjk0000001626017008444&qH=ea24260ef5764089',\n",
       " 'https://www.flipkart.com/birde-combo-pack-5-casual-shoes-loafers-sneakers-men/p/itm139f7f99aea3b?pid=SHOFKGZPYFGTRH5Q&lid=LSTSHOFKGZPYFGTRH5QQAKDBK&marketplace=FLIPKART&q=Sneakers&store=osp%2Fcil%2Fe1f&srno=s_1_35&otracker=search&otracker1=search&fm=SEARCH&iid=705ef9f9-f90a-49db-98ac-b8eea5c68a03.SHOFKGZPYFGTRH5Q.SEARCH&ppt=sp&ppn=sp&ssid=93d0ui5sjk0000001626017008444&qH=ea24260ef5764089',\n",
       " 'https://www.flipkart.com/arohi-sneakers-men/p/itm6902e4b22d54d?pid=SHOFZUBJEZGYCJXZ&lid=LSTSHOFZUBJEZGYCJXZQBFB6N&marketplace=FLIPKART&q=Sneakers&store=osp%2Fcil%2Fe1f&srno=s_1_36&otracker=search&otracker1=search&fm=SEARCH&iid=705ef9f9-f90a-49db-98ac-b8eea5c68a03.SHOFZUBJEZGYCJXZ.SEARCH&ppt=sp&ppn=sp&ssid=93d0ui5sjk0000001626017008444&qH=ea24260ef5764089',\n",
       " 'https://www.flipkart.com/bluemaker-casual-men-beige-06-sneakers/p/itm04e50500732a9?pid=SHOFUSH7TPF8HXZA&lid=LSTSHOFUSH7TPF8HXZA0I23QQ&marketplace=FLIPKART&q=Sneakers&store=osp%2Fcil%2Fe1f&srno=s_1_37&otracker=search&otracker1=search&fm=SEARCH&iid=705ef9f9-f90a-49db-98ac-b8eea5c68a03.SHOFUSH7TPF8HXZA.SEARCH&ppt=sp&ppn=sp&ssid=93d0ui5sjk0000001626017008444&qH=ea24260ef5764089',\n",
       " 'https://www.flipkart.com/sparx-sm-322-sneakers-men/p/itmf27234d02f4d7?pid=SHOFFTAEYYZU6ZDX&lid=LSTSHOFFTAEYYZU6ZDXFF48Q8&marketplace=FLIPKART&q=Sneakers&store=osp%2Fcil%2Fe1f&srno=s_1_38&otracker=search&otracker1=search&fm=SEARCH&iid=705ef9f9-f90a-49db-98ac-b8eea5c68a03.SHOFFTAEYYZU6ZDX.SEARCH&ppt=sp&ppn=sp&ssid=93d0ui5sjk0000001626017008444&qH=ea24260ef5764089',\n",
       " 'https://www.flipkart.com/robbie-jones-casual-sneakers-green-shoes-men-boys/p/itm70b341856ea44?pid=SHOG48BFMR2UXWAS&lid=LSTSHOG48BFMR2UXWASYVYUBV&marketplace=FLIPKART&q=Sneakers&store=osp%2Fcil%2Fe1f&srno=s_1_39&otracker=search&otracker1=search&fm=SEARCH&iid=705ef9f9-f90a-49db-98ac-b8eea5c68a03.SHOG48BFMR2UXWAS.SEARCH&ppt=sp&ppn=sp&ssid=93d0ui5sjk0000001626017008444&qH=ea24260ef5764089',\n",
       " 'https://www.flipkart.com/3six5-sneakers-men/p/itmd5320fdfa51d7?pid=SHOG3HF4RATRW74G&lid=LSTSHOG3HF4RATRW74GKQYQPC&marketplace=FLIPKART&q=Sneakers&store=osp%2Fcil%2Fe1f&srno=s_1_40&otracker=search&otracker1=search&fm=SEARCH&iid=705ef9f9-f90a-49db-98ac-b8eea5c68a03.SHOG3HF4RATRW74G.SEARCH&ppt=sp&ppn=sp&ssid=93d0ui5sjk0000001626017008444&qH=ea24260ef5764089']"
      ]
     },
     "execution_count": 273,
     "metadata": {},
     "output_type": "execute_result"
    }
   ],
   "source": [
    "urls3 = []\n",
    "\n",
    "for i in driver.find_elements_by_xpath(\"//a[@class='_2UzuFa']\"):\n",
    "    urls3.append(i.get_attribute(\"href\"))\n",
    "urls3"
   ]
  },
  {
   "cell_type": "code",
   "execution_count": 274,
   "metadata": {},
   "outputs": [
    {
     "name": "stdout",
     "output_type": "stream",
     "text": [
      "120\n"
     ]
    }
   ],
   "source": [
    "url = urls1+urls2+urls3\n",
    "print(len(url))"
   ]
  },
  {
   "cell_type": "code",
   "execution_count": 275,
   "metadata": {},
   "outputs": [
    {
     "name": "stdout",
     "output_type": "stream",
     "text": [
      "100\n"
     ]
    }
   ],
   "source": [
    "#choosing first 100 urls\n",
    "urls = url[:len(url)-20]\n",
    "print(len(urls))"
   ]
  },
  {
   "cell_type": "code",
   "execution_count": 276,
   "metadata": {},
   "outputs": [],
   "source": [
    "#Defining Variables\n",
    "\n",
    "brand = []\n",
    "product_desc =[]\n",
    "price = []\n",
    "discount = []"
   ]
  },
  {
   "cell_type": "code",
   "execution_count": 277,
   "metadata": {},
   "outputs": [],
   "source": [
    "for i in urls:\n",
    "    driver.get(i)\n",
    "    time.sleep(3)\n",
    "        \n",
    "    try:\n",
    "        brand_ = driver.find_element_by_class_name(\"G6XhRU\")\n",
    "        brand.append(brand_.text)\n",
    "        \n",
    "    except NoSuchElementException:\n",
    "        \n",
    "        brand.append('-')\n",
    "        \n",
    "        #Discount\n",
    "        \n",
    "    try:\n",
    "        dis = driver.find_element_by_xpath(\"//div[@class='_3Ay6Sb _31Dcoz pZkvcx']\")\n",
    "        discount.append(dis.text)\n",
    "        \n",
    "    except NoSuchElementException:\n",
    "        \n",
    "        discount.append('-')\n",
    "        \n",
    "        #Price\n",
    "        \n",
    "\n",
    "    try:\n",
    "        \n",
    "        pr = driver.find_element_by_xpath(\"//div[@class='_30jeq3 _16Jk6d']\")\n",
    "        price.append(pr.text)\n",
    "        \n",
    "    except NoSuchElementException:\n",
    "        \n",
    "        price.append('-')\n",
    "        \n",
    "        \n",
    "        #Product Description\n",
    "        \n",
    "        \n",
    "    try:\n",
    "        \n",
    "        pd = driver.find_element_by_class_name(\"B_NuCI\")\n",
    "        product_desc.append(pd.text)\n",
    "        \n",
    "    except NoSuchElementException:\n",
    "        \n",
    "        product_desc.append('-')\n",
    "        "
   ]
  },
  {
   "cell_type": "code",
   "execution_count": 278,
   "metadata": {},
   "outputs": [
    {
     "name": "stdout",
     "output_type": "stream",
     "text": [
      "100 100 100 100\n"
     ]
    }
   ],
   "source": [
    "print(len(brand),len(discount),len(price),len(product_desc))"
   ]
  },
  {
   "cell_type": "code",
   "execution_count": 281,
   "metadata": {},
   "outputs": [
    {
     "data": {
      "text/html": [
       "<div>\n",
       "<style scoped>\n",
       "    .dataframe tbody tr th:only-of-type {\n",
       "        vertical-align: middle;\n",
       "    }\n",
       "\n",
       "    .dataframe tbody tr th {\n",
       "        vertical-align: top;\n",
       "    }\n",
       "\n",
       "    .dataframe thead th {\n",
       "        text-align: right;\n",
       "    }\n",
       "</style>\n",
       "<table border=\"1\" class=\"dataframe\">\n",
       "  <thead>\n",
       "    <tr style=\"text-align: right;\">\n",
       "      <th></th>\n",
       "      <th>Brand</th>\n",
       "      <th>Price</th>\n",
       "      <th>Discount</th>\n",
       "      <th>Description</th>\n",
       "    </tr>\n",
       "  </thead>\n",
       "  <tbody>\n",
       "    <tr>\n",
       "      <th>0</th>\n",
       "      <td>Robbie jones</td>\n",
       "      <td>₹399</td>\n",
       "      <td>60% off</td>\n",
       "      <td>Casual Sneakers Shoes For Men Sneakers For Men...</td>\n",
       "    </tr>\n",
       "    <tr>\n",
       "      <th>1</th>\n",
       "      <td>CALCADOS</td>\n",
       "      <td>₹748</td>\n",
       "      <td>62% off</td>\n",
       "      <td>Modern Trendy Shoes Combo pack of 4 Sneakers F...</td>\n",
       "    </tr>\n",
       "    <tr>\n",
       "      <th>2</th>\n",
       "      <td>Nilatin</td>\n",
       "      <td>₹449</td>\n",
       "      <td>65% off</td>\n",
       "      <td>Black Sneaker For Men Sneakers For Men  (Black)</td>\n",
       "    </tr>\n",
       "    <tr>\n",
       "      <th>3</th>\n",
       "      <td>PEHANOSA</td>\n",
       "      <td>₹495</td>\n",
       "      <td>50% off</td>\n",
       "      <td>Sneakers For Men  (Multicolor)</td>\n",
       "    </tr>\n",
       "    <tr>\n",
       "      <th>4</th>\n",
       "      <td>Chevit</td>\n",
       "      <td>₹599</td>\n",
       "      <td>62% off</td>\n",
       "      <td>Super Stylish &amp; Trendy Combo Pack of 02 Pairs ...</td>\n",
       "    </tr>\n",
       "    <tr>\n",
       "      <th>...</th>\n",
       "      <td>...</td>\n",
       "      <td>...</td>\n",
       "      <td>...</td>\n",
       "      <td>...</td>\n",
       "    </tr>\n",
       "    <tr>\n",
       "      <th>95</th>\n",
       "      <td>Chevit</td>\n",
       "      <td>₹683</td>\n",
       "      <td>72% off</td>\n",
       "      <td>Speed Set of 5 Pairs Sneakers Outdoors Casuals...</td>\n",
       "    </tr>\n",
       "    <tr>\n",
       "      <th>96</th>\n",
       "      <td>Stefano Rads</td>\n",
       "      <td>₹242</td>\n",
       "      <td>65% off</td>\n",
       "      <td>Classy Sneakers For Men  (Blue)</td>\n",
       "    </tr>\n",
       "    <tr>\n",
       "      <th>97</th>\n",
       "      <td>Chevit</td>\n",
       "      <td>₹350</td>\n",
       "      <td>₹149 off</td>\n",
       "      <td>Super 445 Fashion Sneakers For Men  (Navy)</td>\n",
       "    </tr>\n",
       "    <tr>\n",
       "      <th>98</th>\n",
       "      <td>World Wear Footwear</td>\n",
       "      <td>₹240</td>\n",
       "      <td>51% off</td>\n",
       "      <td>Sneakers For Men  (Grey)</td>\n",
       "    </tr>\n",
       "    <tr>\n",
       "      <th>99</th>\n",
       "      <td>SCATCHITE</td>\n",
       "      <td>₹419</td>\n",
       "      <td>58% off</td>\n",
       "      <td>Sneakers Sneakers For Men  (White)</td>\n",
       "    </tr>\n",
       "  </tbody>\n",
       "</table>\n",
       "<p>100 rows × 4 columns</p>\n",
       "</div>"
      ],
      "text/plain": [
       "                   Brand Price  Discount  \\\n",
       "0          Robbie jones   ₹399   60% off   \n",
       "1              CALCADOS   ₹748   62% off   \n",
       "2               Nilatin   ₹449   65% off   \n",
       "3              PEHANOSA   ₹495   50% off   \n",
       "4                Chevit   ₹599   62% off   \n",
       "..                   ...   ...       ...   \n",
       "95               Chevit   ₹683   72% off   \n",
       "96         Stefano Rads   ₹242   65% off   \n",
       "97               Chevit   ₹350  ₹149 off   \n",
       "98  World Wear Footwear   ₹240   51% off   \n",
       "99            SCATCHITE   ₹419   58% off   \n",
       "\n",
       "                                          Description  \n",
       "0   Casual Sneakers Shoes For Men Sneakers For Men...  \n",
       "1   Modern Trendy Shoes Combo pack of 4 Sneakers F...  \n",
       "2     Black Sneaker For Men Sneakers For Men  (Black)  \n",
       "3                      Sneakers For Men  (Multicolor)  \n",
       "4   Super Stylish & Trendy Combo Pack of 02 Pairs ...  \n",
       "..                                                ...  \n",
       "95  Speed Set of 5 Pairs Sneakers Outdoors Casuals...  \n",
       "96                    Classy Sneakers For Men  (Blue)  \n",
       "97         Super 445 Fashion Sneakers For Men  (Navy)  \n",
       "98                           Sneakers For Men  (Grey)  \n",
       "99                 Sneakers Sneakers For Men  (White)  \n",
       "\n",
       "[100 rows x 4 columns]"
      ]
     },
     "execution_count": 281,
     "metadata": {},
     "output_type": "execute_result"
    }
   ],
   "source": [
    "#Creating DataFrame\n",
    "\n",
    "df4 = pd.DataFrame({})\n",
    "df4['Brand'] = brand\n",
    "df4['Price'] = price\n",
    "df4['Discount'] = discount\n",
    "df4['Description'] = product_desc\n",
    "df4"
   ]
  },
  {
   "cell_type": "markdown",
   "metadata": {},
   "source": [
    "## Q.) Go to webpage https://www.amazon.in/\n",
    " Enter “Laptop” in the search field and then click the search icon.\n",
    " Then set CPU Type filter to “Intel Core i7” and “Intel Core i9” a"
   ]
  },
  {
   "cell_type": "code",
   "execution_count": 359,
   "metadata": {},
   "outputs": [],
   "source": [
    "driver = webdriver.Chrome(\"chromedriver.exe\")"
   ]
  },
  {
   "cell_type": "code",
   "execution_count": 360,
   "metadata": {},
   "outputs": [],
   "source": [
    "url = 'https://www.amazon.in/'\n",
    "driver.get(url)"
   ]
  },
  {
   "cell_type": "code",
   "execution_count": 361,
   "metadata": {},
   "outputs": [],
   "source": [
    "search_b = driver.find_element_by_id(\"twotabsearchtextbox\")\n",
    "search_b.send_keys(\"Laptops\")\n",
    "\n"
   ]
  },
  {
   "cell_type": "code",
   "execution_count": 362,
   "metadata": {},
   "outputs": [],
   "source": [
    "click = driver.find_element_by_id(\"nav-search-submit-button\")\n",
    "click.click()"
   ]
  },
  {
   "cell_type": "code",
   "execution_count": 363,
   "metadata": {},
   "outputs": [],
   "source": [
    "#locating core i7 filter\n",
    "\n",
    "filter_btn = driver.find_elements_by_xpath(\"//a[@class='a-link-normal s-navigation-item']/span\")\n",
    "\n",
    "for i in filter_btn:\n",
    "    if i.text == 'Intel Core i7':\n",
    "        i.click()\n",
    "        break"
   ]
  },
  {
   "cell_type": "code",
   "execution_count": 364,
   "metadata": {},
   "outputs": [],
   "source": [
    "#locating core i9 filter\n",
    "\n",
    "filter_btn_ = driver.find_elements_by_xpath(\"//a[@class='a-link-normal s-navigation-item']/span\")\n",
    "\n",
    "for i in filter_btn_:\n",
    "    if i.text == 'Intel Core i9':\n",
    "        i.click()\n",
    "        break"
   ]
  },
  {
   "cell_type": "code",
   "execution_count": 365,
   "metadata": {},
   "outputs": [
    {
     "data": {
      "text/plain": [
       "['Mi Notebook Horizon Edition 14 Intel Core i7-10510U 10th Gen 14-inch (35.56 cms) Thin and Light Laptop(8GB/512GB SSD/Windows 10/Nvidia MX350 2GB Graphics/Grey/1.35Kg), XMA1904-AF+Webcam',\n",
       " 'HP Pavilion x360 (2021) 14\" (35.56cms) FHD Touchscreen Laptop, 11th Gen Core i7, 8 GB RAM, 512GB SSD, 2-in-1 Convertible, Windows 10, MS Office, Finger Print Reader (14-dw1040TU)',\n",
       " 'HP Pavilion (2021) Thin & Light 11th Gen Core i7 Laptop, 16 GB RAM, 1TB SSD, Iris Xe Graphics, 14\" (35.56cms) FHD Screen, Windows 10, MS Office, Backlit Keyboard (14-dv0058TU)',\n",
       " 'DELL Inspiron 5593 15.6\" (39.62cms) Laptop (10th Gen Core i7-1065G7/8GB/1TB HDD + 512GB SSD/Windows 10 Home Plus/4GB NVIDIA MX230 GDDR5 Graphics), Platinum Silver',\n",
       " 'Mi Notebook Horizon Edition 14 Intel Core i7-10510U 10th Gen 14-inch (35.56 cms) Thin and Light Laptop(8GB/512GB SSD/Windows 10/Nvidia MX350 2GB Graphics/Grey/1.35Kg), XMA1904-AF+Webcam',\n",
       " 'Lenovo IdeaPad Flex 5 11th Gen Intel Core i7 14-inch FHD IPS 2-in-1 Touchscreen Laptop (16GB/512GB SSD/Win 10/Office 2019/Lenovo Digital Pen Stylus/Fingerprint Reader/Graphite Grey/1.5Kg), 82HS0092IN',\n",
       " 'ASUS VivoBook S S14 Intel Core i7-1165G7 11th Gen 14-inch FHD Thin and Light Laptop (8GB RAM/512GB SSD + 32GB Optane Memory/Windows 10/Office 2019/Iris X Graphics ;Dreamy White;1.4 Kg), S433EA-AM702TS',\n",
       " 'Dell 14 (2021) i7-1165G7 2in1 Touch Screen Laptop, 16Gb RAM, 512Gb SSD, 14” (35.56 cms) FHD Display, Win 10 + MSO, Backlit KB + FPR + Active Pen, Silver Metal Color (Inspiron 5410, D560469WIN9S)',\n",
       " 'MSI GF63 Thin 10SCSR-019IN Intel Core i7-10750H 10th Gen 15.6-inch 120Hz Laptop(8GB/512GB NVMe SSD /Windows 10 Home/Nvidia GeForce GTX 1650Ti Max-Q 4GB/Black/1.8Kg ) 9S7-16R412-019',\n",
       " 'Lenovo Legion Y540 Intel Core i7 9th Gen 15.6” FHD Gaming (8GB/256SSD + 1TBHDD/Win10/NVIDIA GeForce GTX 1650 4GB/Raven Black/2.3kg), 81SY00U7IN']"
      ]
     },
     "execution_count": 365,
     "metadata": {},
     "output_type": "execute_result"
    }
   ],
   "source": [
    "#Title\n",
    "\n",
    "title = driver.find_elements_by_xpath(\"//h2[@class='a-size-mini a-spacing-none a-color-base s-line-clamp-2']\")\n",
    "title_ = []\n",
    "\n",
    "for i in title[:10]:\n",
    "    title_.append(i.text)\n",
    "    \n",
    "title_"
   ]
  },
  {
   "cell_type": "code",
   "execution_count": 366,
   "metadata": {},
   "outputs": [
    {
     "data": {
      "text/plain": [
       "['₹59,999\\n₹67,498',\n",
       " '₹78,993\\n₹89,999',\n",
       " '₹84,990\\n₹92,109.50',\n",
       " '₹82,990\\n₹95,696',\n",
       " '₹59,999\\n₹67,498',\n",
       " '₹83,990\\n₹1,18,890',\n",
       " '₹76,990\\n₹98,990',\n",
       " '₹93,071\\n₹95,357',\n",
       " '₹84,990\\n₹1,00,990',\n",
       " '₹69,990\\n₹1,04,890']"
      ]
     },
     "execution_count": 366,
     "metadata": {},
     "output_type": "execute_result"
    }
   ],
   "source": [
    "#Price\n",
    "\n",
    "price = driver.find_elements_by_xpath(\"//a[@class='a-size-base a-link-normal a-text-normal']\")\n",
    "price_ = []\n",
    "\n",
    "for i in price[:10]:\n",
    "    price_.append(i.text)\n",
    "    \n",
    "price_"
   ]
  },
  {
   "cell_type": "code",
   "execution_count": 367,
   "metadata": {},
   "outputs": [
    {
     "data": {
      "text/plain": [
       "['https://www.amazon.in/gp/slredirect/picassoRedirect.html/ref=pa_sp_atf_computers_sr_pg1_1?ie=UTF8&adId=A02562643LJBEQ9GMLC96&url=%2FNotebook-Horizon-i7-10510U-Graphics-XMA1904-AF%2Fdp%2FB089F2W1KW%2Fref%3Dsr_1_1_sspa%3Fdchild%3D1%26keywords%3DLaptops%26qid%3D1626028471%26refinements%3Dp_n_feature_thirteen_browse-bin%253A12598163031%257C16757432031%26rnid%3D12598141031%26s%3Dcomputers%26sr%3D1-1-spons%26psc%3D1&qualifier=1626028471&id=8058737121079186&widgetName=sp_atf',\n",
       " 'https://www.amazon.in/HP-Pavilion-Touchscreen-Convertible-14-dw1040TU/dp/B08R843NHL/ref=sr_1_2?dchild=1&keywords=Laptops&qid=1626028471&refinements=p_n_feature_thirteen_browse-bin%3A12598163031%7C16757432031&rnid=12598141031&s=computers&sr=1-2',\n",
       " 'https://www.amazon.in/HP-Pavilion-Graphics-35-56cms-14-dv0058TU/dp/B08WB857GB/ref=sr_1_3?dchild=1&keywords=Laptops&qid=1626028471&refinements=p_n_feature_thirteen_browse-bin%3A12598163031%7C16757432031&rnid=12598141031&s=computers&sr=1-3',\n",
       " 'https://www.amazon.in/Inspiron-5593-15-6-inch-i7-1065G7-Graphics/dp/B07ZG4S91Z/ref=sr_1_4?dchild=1&keywords=Laptops&qid=1626028471&refinements=p_n_feature_thirteen_browse-bin%3A12598163031%7C16757432031&rnid=12598141031&s=computers&sr=1-4',\n",
       " 'https://www.amazon.in/Notebook-Horizon-i7-10510U-Graphics-XMA1904-AF/dp/B089F2W1KW/ref=sr_1_5?dchild=1&keywords=Laptops&qid=1626028471&refinements=p_n_feature_thirteen_browse-bin%3A12598163031%7C16757432031&rnid=12598141031&s=computers&sr=1-5',\n",
       " 'https://www.amazon.in/Lenovo-Touchscreen-Fingerprint-Graphite-82HS0092IN/dp/B08WRZQBQ6/ref=sr_1_6?dchild=1&keywords=Laptops&qid=1626028471&refinements=p_n_feature_thirteen_browse-bin%3A12598163031%7C16757432031&rnid=12598141031&s=computers&sr=1-6',\n",
       " 'https://www.amazon.in/ASUS-VivoBook-i7-1165G7-Graphics-S433EA-AM702TS/dp/B08SN9GJXH/ref=sr_1_7?dchild=1&keywords=Laptops&qid=1626028471&refinements=p_n_feature_thirteen_browse-bin%3A12598163031%7C16757432031&rnid=12598141031&s=computers&sr=1-7',\n",
       " 'https://www.amazon.in/Dell-i7-1165G7-Inspiron-5410-D560469WIN9S/dp/B095S9NJ4S/ref=sr_1_8?dchild=1&keywords=Laptops&qid=1626028471&refinements=p_n_feature_thirteen_browse-bin%3A12598163031%7C16757432031&rnid=12598141031&s=computers&sr=1-8',\n",
       " 'https://www.amazon.in/GF63-Thin-10SCSR-019IN-i7-10750H-9S7-16R412-019/dp/B0897SXQNN/ref=sr_1_9?dchild=1&keywords=Laptops&qid=1626028471&refinements=p_n_feature_thirteen_browse-bin%3A12598163031%7C16757432031&rnid=12598141031&s=computers&sr=1-9',\n",
       " 'https://www.amazon.in/Lenovo-Legion-Gaming-GeForce-81SY00U7IN/dp/B092MRQCJ6/ref=sr_1_10?dchild=1&keywords=Laptops&qid=1626028471&refinements=p_n_feature_thirteen_browse-bin%3A12598163031%7C16757432031&rnid=12598141031&s=computers&sr=1-10',\n",
       " 'https://www.amazon.in/Renewed-Lenovo-Integrated-Graphics-WARRANTY/dp/B092Z9PXWT/ref=sr_1_11?dchild=1&keywords=Laptops&qid=1626028471&refinements=p_n_feature_thirteen_browse-bin%3A12598163031%7C16757432031&rnid=12598141031&s=computers&sr=1-11',\n",
       " 'https://www.amazon.in/Dell-13-3-inch-i7-8550U-Integrated-Graphics/dp/B09813L8BX/ref=sr_1_12?dchild=1&keywords=Laptops&qid=1626028471&refinements=p_n_feature_thirteen_browse-bin%3A12598163031%7C16757432031&rnid=12598141031&s=computers&sr=1-12',\n",
       " 'https://www.amazon.in/Dell-35-56cms-1366x768-Integrated-Graphics/dp/B097PL7VX8/ref=sr_1_13?dchild=1&keywords=Laptops&qid=1626028471&refinements=p_n_feature_thirteen_browse-bin%3A12598163031%7C16757432031&rnid=12598141031&s=computers&sr=1-13',\n",
       " 'https://www.amazon.in/gp/slredirect/picassoRedirect.html/ref=pa_sp_mtf_computers_sr_pg1_1?ie=UTF8&adId=A00345871A00XD64HJ0QX&url=%2FMSI-GS66-Stealth-i7-10875H-10SFS-488IN%2Fdp%2FB08KG3CHVR%2Fref%3Dsr_1_14_sspa%3Fdchild%3D1%26keywords%3DLaptops%26qid%3D1626028471%26refinements%3Dp_n_feature_thirteen_browse-bin%253A12598163031%257C16757432031%26rnid%3D12598141031%26s%3Dcomputers%26sr%3D1-14-spons%26psc%3D1&qualifier=1626028471&id=8058737121079186&widgetName=sp_mtf',\n",
       " 'https://www.amazon.in/gp/slredirect/picassoRedirect.html/ref=pa_sp_mtf_computers_sr_pg1_1?ie=UTF8&adId=A01933422L8LT24RC7INQ&url=%2FMSI-i7-10750H-IPS-Level-Windows-10SDR-1280IN%2Fdp%2FB093L8JCZV%2Fref%3Dsr_1_15_sspa%3Fdchild%3D1%26keywords%3DLaptops%26qid%3D1626028471%26refinements%3Dp_n_feature_thirteen_browse-bin%253A12598163031%257C16757432031%26rnid%3D12598141031%26s%3Dcomputers%26sr%3D1-15-spons%26psc%3D1&qualifier=1626028471&id=8058737121079186&widgetName=sp_mtf',\n",
       " 'https://www.amazon.in/Dell-1366x768-Integrated-Graphics-Latitude/dp/B09752NVNF/ref=sr_1_16?dchild=1&keywords=Laptops&qid=1626028471&refinements=p_n_feature_thirteen_browse-bin%3A12598163031%7C16757432031&rnid=12598141031&s=computers&sr=1-16',\n",
       " 'https://www.amazon.in/Dell-TOUCHSCREEN-Integrated-Graphics-Latitude/dp/B097YXTS33/ref=sr_1_17?dchild=1&keywords=Laptops&qid=1626028471&refinements=p_n_feature_thirteen_browse-bin%3A12598163031%7C16757432031&rnid=12598141031&s=computers&sr=1-17',\n",
       " 'https://www.amazon.in/Dell-1366x768-Integrated-Graphics-Latitude/dp/B0974W4W9W/ref=sr_1_18?dchild=1&keywords=Laptops&qid=1626028471&refinements=p_n_feature_thirteen_browse-bin%3A12598163031%7C16757432031&rnid=12598141031&s=computers&sr=1-18',\n",
       " 'https://www.amazon.in/Dell-1366x768-Integrated-Graphics-Latitude/dp/B0974XBX64/ref=sr_1_19?dchild=1&keywords=Laptops&qid=1626028471&refinements=p_n_feature_thirteen_browse-bin%3A12598163031%7C16757432031&rnid=12598141031&s=computers&sr=1-19',\n",
       " 'https://www.amazon.in/Renewed-Lenovo-X1-1980x1080-Thinkpad/dp/B08WHM49NZ/ref=sr_1_20?dchild=1&keywords=Laptops&qid=1626028471&refinements=p_n_feature_thirteen_browse-bin%3A12598163031%7C16757432031&rnid=12598141031&s=computers&sr=1-20',\n",
       " 'https://www.amazon.in/Lenovo-Touchscreen-Fingerprint-Aluminium-82BH004HIN/dp/B08P3M22QQ/ref=sr_1_21?dchild=1&keywords=Laptops&qid=1626028471&refinements=p_n_feature_thirteen_browse-bin%3A12598163031%7C16757432031&rnid=12598141031&s=computers&sr=1-21',\n",
       " 'https://www.amazon.in/Dell-Inspiron-i7-1165G7-Integrated-D560414WIN9S/dp/B0919LL313/ref=sr_1_22?dchild=1&keywords=Laptops&qid=1626028471&refinements=p_n_feature_thirteen_browse-bin%3A12598163031%7C16757432031&rnid=12598141031&s=computers&sr=1-22',\n",
       " 'https://www.amazon.in/Nexstgo-NP15N1IN008P-15-6-inch-i7-8550U-Integrated/dp/B07KGP3HP3/ref=sr_1_23?dchild=1&keywords=Laptops&qid=1626028471&refinements=p_n_feature_thirteen_browse-bin%3A12598163031%7C16757432031&rnid=12598141031&s=computers&sr=1-23',\n",
       " 'https://www.amazon.in/Dell-1366x768-Integrated-Graphics-Latitude/dp/B0974WY91B/ref=sr_1_24?dchild=1&keywords=Laptops&qid=1626028471&refinements=p_n_feature_thirteen_browse-bin%3A12598163031%7C16757432031&rnid=12598141031&s=computers&sr=1-24',\n",
       " 'https://www.amazon.in/LifeDigital-Laptop-Intel%C2%AE-Storage-Windows/dp/B08HRMHZ8J/ref=sr_1_25?dchild=1&keywords=Laptops&qid=1626028471&refinements=p_n_feature_thirteen_browse-bin%3A12598163031%7C16757432031&rnid=12598141031&s=computers&sr=1-25',\n",
       " 'https://www.amazon.in/Dell-15-6-inch-i7-10750H-NVIDIA1650-D560260WIN9BE/dp/B08H9PTSYR/ref=sr_1_26?dchild=1&keywords=Laptops&qid=1626028471&refinements=p_n_feature_thirteen_browse-bin%3A12598163031%7C16757432031&rnid=12598141031&s=computers&sr=1-26',\n",
       " 'https://www.amazon.in/Dell-1366x768-Integrated-Graphics-Latitude/dp/B0974WWK87/ref=sr_1_27?dchild=1&keywords=Laptops&qid=1626028471&refinements=p_n_feature_thirteen_browse-bin%3A12598163031%7C16757432031&rnid=12598141031&s=computers&sr=1-27']"
      ]
     },
     "execution_count": 367,
     "metadata": {},
     "output_type": "execute_result"
    }
   ],
   "source": [
    "urls = []\n",
    "\n",
    "for i in driver.find_elements_by_xpath(\"//a[@class='a-link-normal a-text-normal']\"):\n",
    "    urls.append(i.get_attribute(\"href\"))\n",
    "urls"
   ]
  },
  {
   "cell_type": "code",
   "execution_count": 370,
   "metadata": {},
   "outputs": [],
   "source": [
    "\n",
    "rating=[]"
   ]
  },
  {
   "cell_type": "code",
   "execution_count": 371,
   "metadata": {},
   "outputs": [],
   "source": [
    "for i in url_:\n",
    "    \n",
    "    driver.get(i)\n",
    "    time.sleep(3)\n",
    "    \n",
    "    try:\n",
    "        \n",
    "        r = driver.find_element_by_xpath(\"//div[@class='a-fixed-left-grid-col aok-align-center a-col-right']\")\n",
    "        rating.append(r.text)\n",
    "        \n",
    "    except NoSuchElementException:\n",
    "        \n",
    "        rating.append('-')\n",
    "        \n",
    "        "
   ]
  },
  {
   "cell_type": "code",
   "execution_count": 373,
   "metadata": {},
   "outputs": [
    {
     "name": "stdout",
     "output_type": "stream",
     "text": [
      "13\n"
     ]
    }
   ],
   "source": [
    "print(len(rating))"
   ]
  },
  {
   "cell_type": "code",
   "execution_count": 374,
   "metadata": {},
   "outputs": [],
   "source": [
    "rating_ = rating[:len(rating)-3] "
   ]
  },
  {
   "cell_type": "code",
   "execution_count": 376,
   "metadata": {},
   "outputs": [
    {
     "data": {
      "text/html": [
       "<div>\n",
       "<style scoped>\n",
       "    .dataframe tbody tr th:only-of-type {\n",
       "        vertical-align: middle;\n",
       "    }\n",
       "\n",
       "    .dataframe tbody tr th {\n",
       "        vertical-align: top;\n",
       "    }\n",
       "\n",
       "    .dataframe thead th {\n",
       "        text-align: right;\n",
       "    }\n",
       "</style>\n",
       "<table border=\"1\" class=\"dataframe\">\n",
       "  <thead>\n",
       "    <tr style=\"text-align: right;\">\n",
       "      <th></th>\n",
       "      <th>Title</th>\n",
       "      <th>Price</th>\n",
       "      <th>Ratings</th>\n",
       "    </tr>\n",
       "  </thead>\n",
       "  <tbody>\n",
       "    <tr>\n",
       "      <th>0</th>\n",
       "      <td>Mi Notebook Horizon Edition 14 Intel Core i7-1...</td>\n",
       "      <td>₹59,999\\n₹67,498</td>\n",
       "      <td>4.4 out of 5</td>\n",
       "    </tr>\n",
       "    <tr>\n",
       "      <th>1</th>\n",
       "      <td>HP Pavilion x360 (2021) 14\" (35.56cms) FHD Tou...</td>\n",
       "      <td>₹78,993\\n₹89,999</td>\n",
       "      <td>4 out of 5</td>\n",
       "    </tr>\n",
       "    <tr>\n",
       "      <th>2</th>\n",
       "      <td>HP Pavilion (2021) Thin &amp; Light 11th Gen Core ...</td>\n",
       "      <td>₹84,990\\n₹92,109.50</td>\n",
       "      <td>4.4 out of 5</td>\n",
       "    </tr>\n",
       "    <tr>\n",
       "      <th>3</th>\n",
       "      <td>DELL Inspiron 5593 15.6\" (39.62cms) Laptop (10...</td>\n",
       "      <td>₹82,990\\n₹95,696</td>\n",
       "      <td>3.7 out of 5</td>\n",
       "    </tr>\n",
       "    <tr>\n",
       "      <th>4</th>\n",
       "      <td>Mi Notebook Horizon Edition 14 Intel Core i7-1...</td>\n",
       "      <td>₹59,999\\n₹67,498</td>\n",
       "      <td>4.4 out of 5</td>\n",
       "    </tr>\n",
       "    <tr>\n",
       "      <th>5</th>\n",
       "      <td>Lenovo IdeaPad Flex 5 11th Gen Intel Core i7 1...</td>\n",
       "      <td>₹83,990\\n₹1,18,890</td>\n",
       "      <td>4 out of 5</td>\n",
       "    </tr>\n",
       "    <tr>\n",
       "      <th>6</th>\n",
       "      <td>ASUS VivoBook S S14 Intel Core i7-1165G7 11th ...</td>\n",
       "      <td>₹76,990\\n₹98,990</td>\n",
       "      <td>4.4 out of 5</td>\n",
       "    </tr>\n",
       "    <tr>\n",
       "      <th>7</th>\n",
       "      <td>Dell 14 (2021) i7-1165G7 2in1 Touch Screen Lap...</td>\n",
       "      <td>₹93,071\\n₹95,357</td>\n",
       "      <td>4.6 out of 5</td>\n",
       "    </tr>\n",
       "    <tr>\n",
       "      <th>8</th>\n",
       "      <td>MSI GF63 Thin 10SCSR-019IN Intel Core i7-10750...</td>\n",
       "      <td>₹84,990\\n₹1,00,990</td>\n",
       "      <td>2.9 out of 5</td>\n",
       "    </tr>\n",
       "    <tr>\n",
       "      <th>9</th>\n",
       "      <td>Lenovo Legion Y540 Intel Core i7 9th Gen 15.6”...</td>\n",
       "      <td>₹69,990\\n₹1,04,890</td>\n",
       "      <td>4.3 out of 5</td>\n",
       "    </tr>\n",
       "  </tbody>\n",
       "</table>\n",
       "</div>"
      ],
      "text/plain": [
       "                                               Title                Price  \\\n",
       "0  Mi Notebook Horizon Edition 14 Intel Core i7-1...     ₹59,999\\n₹67,498   \n",
       "1  HP Pavilion x360 (2021) 14\" (35.56cms) FHD Tou...     ₹78,993\\n₹89,999   \n",
       "2  HP Pavilion (2021) Thin & Light 11th Gen Core ...  ₹84,990\\n₹92,109.50   \n",
       "3  DELL Inspiron 5593 15.6\" (39.62cms) Laptop (10...     ₹82,990\\n₹95,696   \n",
       "4  Mi Notebook Horizon Edition 14 Intel Core i7-1...     ₹59,999\\n₹67,498   \n",
       "5  Lenovo IdeaPad Flex 5 11th Gen Intel Core i7 1...   ₹83,990\\n₹1,18,890   \n",
       "6  ASUS VivoBook S S14 Intel Core i7-1165G7 11th ...     ₹76,990\\n₹98,990   \n",
       "7  Dell 14 (2021) i7-1165G7 2in1 Touch Screen Lap...     ₹93,071\\n₹95,357   \n",
       "8  MSI GF63 Thin 10SCSR-019IN Intel Core i7-10750...   ₹84,990\\n₹1,00,990   \n",
       "9  Lenovo Legion Y540 Intel Core i7 9th Gen 15.6”...   ₹69,990\\n₹1,04,890   \n",
       "\n",
       "        Ratings  \n",
       "0  4.4 out of 5  \n",
       "1    4 out of 5  \n",
       "2  4.4 out of 5  \n",
       "3  3.7 out of 5  \n",
       "4  4.4 out of 5  \n",
       "5    4 out of 5  \n",
       "6  4.4 out of 5  \n",
       "7  4.6 out of 5  \n",
       "8  2.9 out of 5  \n",
       "9  4.3 out of 5  "
      ]
     },
     "execution_count": 376,
     "metadata": {},
     "output_type": "execute_result"
    }
   ],
   "source": [
    "#Creating DataFrame\n",
    "\n",
    "df_ = pd.DataFrame({})\n",
    "df_['Title']=title_\n",
    "df_['Price']=price_\n",
    "df_['Ratings']=rating_\n",
    "df_"
   ]
  }
 ],
 "metadata": {
  "kernelspec": {
   "display_name": "Python 3",
   "language": "python",
   "name": "python3"
  },
  "language_info": {
   "codemirror_mode": {
    "name": "ipython",
    "version": 3
   },
   "file_extension": ".py",
   "mimetype": "text/x-python",
   "name": "python",
   "nbconvert_exporter": "python",
   "pygments_lexer": "ipython3",
   "version": "3.8.5"
  }
 },
 "nbformat": 4,
 "nbformat_minor": 4
}
